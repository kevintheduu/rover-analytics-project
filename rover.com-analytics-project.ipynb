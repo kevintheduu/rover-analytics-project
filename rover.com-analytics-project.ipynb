{
 "cells": [
  {
   "cell_type": "code",
   "execution_count": 1,
   "metadata": {},
   "outputs": [],
   "source": [
    "# import sql engine, pandas, numpy\n",
    "import psycopg2\n",
    "import pandas as pd\n",
    "import numpy as np\n",
    "import matplotlib.pyplot as plt\n",
    "import statsmodels.api as sm\n",
    "from datetime import datetime as dt\n",
    "from sklearn.linear_model import LinearRegression"
   ]
  },
  {
   "cell_type": "code",
   "execution_count": 2,
   "metadata": {},
   "outputs": [
    {
     "name": "stdout",
     "output_type": "stream",
     "text": [
      "README.md                         rover.com-analytics-project.ipynb\r\n",
      "db1.sqlite3\r\n"
     ]
    }
   ],
   "source": [
    "!ls\n"
   ]
  },
  {
   "cell_type": "code",
   "execution_count": 3,
   "metadata": {},
   "outputs": [],
   "source": [
    "# the sqlite database can be converted to use postgresql using pgloader\n",
    "# First you must have postgresql installed\n",
    "# Then create an empty db to load the database into\n",
    "# In this instance, I created a 'rover' db\n",
    "# I used postgresql to explore the data set, but use python via pscopg to visualize the query result\n",
    "\n",
    "# !pgloader db1.sqlite3 postgresql:///rover"
   ]
  },
  {
   "cell_type": "markdown",
   "metadata": {},
   "source": [
    "# EXERCISES\n"
   ]
  },
  {
   "cell_type": "markdown",
   "metadata": {},
   "source": [
    "# I. Exploring the Database"
   ]
  },
  {
   "cell_type": "code",
   "execution_count": 4,
   "metadata": {},
   "outputs": [],
   "source": [
    "conn = psycopg2.connect('dbname=rover')\n",
    "cur = conn.cursor()"
   ]
  },
  {
   "cell_type": "markdown",
   "metadata": {},
   "source": [
    "### 1. How many users have signed up?"
   ]
  },
  {
   "cell_type": "code",
   "execution_count": 5,
   "metadata": {},
   "outputs": [
    {
     "data": {
      "text/html": [
       "<div>\n",
       "<style scoped>\n",
       "    .dataframe tbody tr th:only-of-type {\n",
       "        vertical-align: middle;\n",
       "    }\n",
       "\n",
       "    .dataframe tbody tr th {\n",
       "        vertical-align: top;\n",
       "    }\n",
       "\n",
       "    .dataframe thead th {\n",
       "        text-align: right;\n",
       "    }\n",
       "</style>\n",
       "<table border=\"1\" class=\"dataframe\">\n",
       "  <thead>\n",
       "    <tr style=\"text-align: right;\">\n",
       "      <th></th>\n",
       "      <th>count</th>\n",
       "    </tr>\n",
       "  </thead>\n",
       "  <tbody>\n",
       "    <tr>\n",
       "      <td>0</td>\n",
       "      <td>64393</td>\n",
       "    </tr>\n",
       "  </tbody>\n",
       "</table>\n",
       "</div>"
      ],
      "text/plain": [
       "   count\n",
       "0  64393"
      ]
     },
     "execution_count": 5,
     "metadata": {},
     "output_type": "execute_result"
    }
   ],
   "source": [
    "query =  '''\n",
    "SELECT \n",
    "    COUNT(*)\n",
    "FROM\n",
    "\tpeople_person;\n",
    "    '''\n",
    "cur.execute(query)\n",
    "\n",
    "df_1= pd.read_sql_query(query,conn)\n",
    "df_1"
   ]
  },
  {
   "cell_type": "markdown",
   "metadata": {},
   "source": [
    "### 2. How many users signed up prior to 2018-02-03 ?"
   ]
  },
  {
   "cell_type": "code",
   "execution_count": 6,
   "metadata": {},
   "outputs": [
    {
     "data": {
      "text/html": [
       "<div>\n",
       "<style scoped>\n",
       "    .dataframe tbody tr th:only-of-type {\n",
       "        vertical-align: middle;\n",
       "    }\n",
       "\n",
       "    .dataframe tbody tr th {\n",
       "        vertical-align: top;\n",
       "    }\n",
       "\n",
       "    .dataframe thead th {\n",
       "        text-align: right;\n",
       "    }\n",
       "</style>\n",
       "<table border=\"1\" class=\"dataframe\">\n",
       "  <thead>\n",
       "    <tr style=\"text-align: right;\">\n",
       "      <th></th>\n",
       "      <th>count</th>\n",
       "    </tr>\n",
       "  </thead>\n",
       "  <tbody>\n",
       "    <tr>\n",
       "      <td>0</td>\n",
       "      <td>35826</td>\n",
       "    </tr>\n",
       "  </tbody>\n",
       "</table>\n",
       "</div>"
      ],
      "text/plain": [
       "   count\n",
       "0  35826"
      ]
     },
     "execution_count": 6,
     "metadata": {},
     "output_type": "execute_result"
    }
   ],
   "source": [
    "query =  '''\n",
    "SELECT \n",
    "    COUNT(*)\n",
    "FROM\n",
    "\tpeople_person\n",
    "WHERE date_joined < '2018-02-03'    \n",
    "    ;\n",
    "    '''\n",
    "df_2 = pd.read_sql_query(query,conn)\n",
    "df_2"
   ]
  },
  {
   "cell_type": "markdown",
   "metadata": {},
   "source": [
    "### 3. What percentage of users have added pets?\n",
    "#### One thing to note, when dealing with percentages, either cast the numerator to a decimal/numeric, or just make the percentage conversion by using 100.0 (a float) vs 100 (a integer) to keep the precision"
   ]
  },
  {
   "cell_type": "code",
   "execution_count": 7,
   "metadata": {
    "scrolled": true
   },
   "outputs": [
    {
     "data": {
      "text/html": [
       "<div>\n",
       "<style scoped>\n",
       "    .dataframe tbody tr th:only-of-type {\n",
       "        vertical-align: middle;\n",
       "    }\n",
       "\n",
       "    .dataframe tbody tr th {\n",
       "        vertical-align: top;\n",
       "    }\n",
       "\n",
       "    .dataframe thead th {\n",
       "        text-align: right;\n",
       "    }\n",
       "</style>\n",
       "<table border=\"1\" class=\"dataframe\">\n",
       "  <thead>\n",
       "    <tr style=\"text-align: right;\">\n",
       "      <th></th>\n",
       "      <th>percentage</th>\n",
       "    </tr>\n",
       "  </thead>\n",
       "  <tbody>\n",
       "    <tr>\n",
       "      <td>0</td>\n",
       "      <td>80.43</td>\n",
       "    </tr>\n",
       "  </tbody>\n",
       "</table>\n",
       "</div>"
      ],
      "text/plain": [
       "   percentage\n",
       "0       80.43"
      ]
     },
     "execution_count": 7,
     "metadata": {},
     "output_type": "execute_result"
    }
   ],
   "source": [
    "query='''\n",
    "SELECT\n",
    "    ROUND(count(distinct owner_id)*100.0/(SELECT COUNT(*) FROM people_person),2) as percentage\n",
    "FROM \n",
    "    pets_pet;\n",
    "'''\n",
    "df_3= pd.read_sql_query(query,conn)\n",
    "df_3\n",
    "\n",
    "# this number gives me the number of users that have registered pets\n",
    "# now to get a count of the total users, I just divide this number by the total found\n",
    "# in question 1"
   ]
  },
  {
   "cell_type": "code",
   "execution_count": 8,
   "metadata": {},
   "outputs": [
    {
     "data": {
      "text/plain": [
       "0.12"
      ]
     },
     "execution_count": 8,
     "metadata": {},
     "output_type": "execute_result"
    }
   ],
   "source": [
    "soln = df_3['percentage'] / df_1['count']\n",
    "\n",
    "soln[0].round(4) *100"
   ]
  },
  {
   "cell_type": "markdown",
   "metadata": {},
   "source": [
    "### 4. Of those users, how many pets have they added on average?"
   ]
  },
  {
   "cell_type": "code",
   "execution_count": 9,
   "metadata": {},
   "outputs": [
    {
     "data": {
      "text/html": [
       "<div>\n",
       "<style scoped>\n",
       "    .dataframe tbody tr th:only-of-type {\n",
       "        vertical-align: middle;\n",
       "    }\n",
       "\n",
       "    .dataframe tbody tr th {\n",
       "        vertical-align: top;\n",
       "    }\n",
       "\n",
       "    .dataframe thead th {\n",
       "        text-align: right;\n",
       "    }\n",
       "</style>\n",
       "<table border=\"1\" class=\"dataframe\">\n",
       "  <thead>\n",
       "    <tr style=\"text-align: right;\">\n",
       "      <th></th>\n",
       "      <th>average_added_pets</th>\n",
       "    </tr>\n",
       "  </thead>\n",
       "  <tbody>\n",
       "    <tr>\n",
       "      <td>0</td>\n",
       "      <td>1.501</td>\n",
       "    </tr>\n",
       "  </tbody>\n",
       "</table>\n",
       "</div>"
      ],
      "text/plain": [
       "   average_added_pets\n",
       "0               1.501"
      ]
     },
     "execution_count": 9,
     "metadata": {},
     "output_type": "execute_result"
    }
   ],
   "source": [
    "query ='''\n",
    "SELECT\n",
    "    ROUND(avg(count),3) as average_added_pets\n",
    "FROM\n",
    "    (\n",
    "    SELECT \n",
    "        COUNT(id) as count, owner_id\n",
    "    FROM \n",
    "        pets_pet\n",
    "    GROUP BY \n",
    "        owner_id) as counts;'''\n",
    "df_4 = pd.read_sql_query(query,conn)\n",
    "df_4"
   ]
  },
  {
   "cell_type": "markdown",
   "metadata": {},
   "source": [
    "### 5. What percentage of pets play well with cats?"
   ]
  },
  {
   "cell_type": "code",
   "execution_count": 10,
   "metadata": {},
   "outputs": [
    {
     "data": {
      "text/html": [
       "<div>\n",
       "<style scoped>\n",
       "    .dataframe tbody tr th:only-of-type {\n",
       "        vertical-align: middle;\n",
       "    }\n",
       "\n",
       "    .dataframe tbody tr th {\n",
       "        vertical-align: top;\n",
       "    }\n",
       "\n",
       "    .dataframe thead th {\n",
       "        text-align: right;\n",
       "    }\n",
       "</style>\n",
       "<table border=\"1\" class=\"dataframe\">\n",
       "  <thead>\n",
       "    <tr style=\"text-align: right;\">\n",
       "      <th></th>\n",
       "      <th>percentage</th>\n",
       "    </tr>\n",
       "  </thead>\n",
       "  <tbody>\n",
       "    <tr>\n",
       "      <td>0</td>\n",
       "      <td>24.85</td>\n",
       "    </tr>\n",
       "  </tbody>\n",
       "</table>\n",
       "</div>"
      ],
      "text/plain": [
       "   percentage\n",
       "0       24.85"
      ]
     },
     "execution_count": 10,
     "metadata": {},
     "output_type": "execute_result"
    }
   ],
   "source": [
    "query = '''\n",
    "SELECT\n",
    "ROUND(count(CASE WHEN plays_cats THEN 1 END)*100::decimal/ (SELECT COUNT(*) FROM pets_pet),2) as percentage\n",
    "FROM pets_pet;\n",
    "'''\n",
    "df_5= pd.read_sql_query(query,conn)\n",
    "df_5"
   ]
  },
  {
   "cell_type": "markdown",
   "metadata": {},
   "source": [
    " ## III. Recent Daily Booking Rate\n",
    " #### The snapshot of this database was taken on 2018-08-02 at midnight and only contains data reflecting events prior to that date. A junior analyst is investigating daily booking rate during the days prior to the snapshot and is concerned about an apparent downward trend. You are tasked with helping them out. First, let's reproduce their results. They tell you that daily booking rate is defined to be the percentage of conversations created each day that eventually book."
   ]
  },
  {
   "cell_type": "markdown",
   "metadata": {},
   "source": [
    "####  Looking at the columns and table, to get the count of total conversations, we can use the start_date to indicate each and every conversation that takes place. A pet_owner can start conversations with many different providers, so we want to keep track of that.\n",
    " \n",
    "To find the total of booked services, the simple method would be to just take the total number of 'booked_at' column divided by the total count of the table. We also want to account for bookeings that are cancelled. To keep it simple, we can just focus on bookings that are not cancelled."
   ]
  },
  {
   "cell_type": "code",
   "execution_count": 11,
   "metadata": {},
   "outputs": [
    {
     "data": {
      "text/html": [
       "<div>\n",
       "<style scoped>\n",
       "    .dataframe tbody tr th:only-of-type {\n",
       "        vertical-align: middle;\n",
       "    }\n",
       "\n",
       "    .dataframe tbody tr th {\n",
       "        vertical-align: top;\n",
       "    }\n",
       "\n",
       "    .dataframe thead th {\n",
       "        text-align: right;\n",
       "    }\n",
       "</style>\n",
       "<table border=\"1\" class=\"dataframe\">\n",
       "  <thead>\n",
       "    <tr style=\"text-align: right;\">\n",
       "      <th></th>\n",
       "      <th>date</th>\n",
       "      <th>conversion_rate</th>\n",
       "    </tr>\n",
       "  </thead>\n",
       "  <tbody>\n",
       "    <tr>\n",
       "      <td>0</td>\n",
       "      <td>2018-05-04</td>\n",
       "      <td>42.58</td>\n",
       "    </tr>\n",
       "    <tr>\n",
       "      <td>1</td>\n",
       "      <td>2018-05-05</td>\n",
       "      <td>41.04</td>\n",
       "    </tr>\n",
       "    <tr>\n",
       "      <td>2</td>\n",
       "      <td>2018-05-06</td>\n",
       "      <td>42.79</td>\n",
       "    </tr>\n",
       "    <tr>\n",
       "      <td>3</td>\n",
       "      <td>2018-05-07</td>\n",
       "      <td>46.19</td>\n",
       "    </tr>\n",
       "    <tr>\n",
       "      <td>4</td>\n",
       "      <td>2018-05-08</td>\n",
       "      <td>36.79</td>\n",
       "    </tr>\n",
       "    <tr>\n",
       "      <td>...</td>\n",
       "      <td>...</td>\n",
       "      <td>...</td>\n",
       "    </tr>\n",
       "    <tr>\n",
       "      <td>85</td>\n",
       "      <td>2018-07-28</td>\n",
       "      <td>37.86</td>\n",
       "    </tr>\n",
       "    <tr>\n",
       "      <td>86</td>\n",
       "      <td>2018-07-29</td>\n",
       "      <td>31.09</td>\n",
       "    </tr>\n",
       "    <tr>\n",
       "      <td>87</td>\n",
       "      <td>2018-07-30</td>\n",
       "      <td>18.75</td>\n",
       "    </tr>\n",
       "    <tr>\n",
       "      <td>88</td>\n",
       "      <td>2018-07-31</td>\n",
       "      <td>12.42</td>\n",
       "    </tr>\n",
       "    <tr>\n",
       "      <td>89</td>\n",
       "      <td>2018-08-01</td>\n",
       "      <td>4.93</td>\n",
       "    </tr>\n",
       "  </tbody>\n",
       "</table>\n",
       "<p>90 rows × 2 columns</p>\n",
       "</div>"
      ],
      "text/plain": [
       "          date  conversion_rate\n",
       "0   2018-05-04            42.58\n",
       "1   2018-05-05            41.04\n",
       "2   2018-05-06            42.79\n",
       "3   2018-05-07            46.19\n",
       "4   2018-05-08            36.79\n",
       "..         ...              ...\n",
       "85  2018-07-28            37.86\n",
       "86  2018-07-29            31.09\n",
       "87  2018-07-30            18.75\n",
       "88  2018-07-31            12.42\n",
       "89  2018-08-01             4.93\n",
       "\n",
       "[90 rows x 2 columns]"
      ]
     },
     "execution_count": 11,
     "metadata": {},
     "output_type": "execute_result"
    }
   ],
   "source": [
    "query = '''\n",
    "SELECT \n",
    "    DATE(added) as date, ROUND(COUNT(booked_at)*100.0 / COUNT(*),2) as conversion_rate\n",
    "FROM \n",
    "    conversations_conversation\n",
    "WHERE \n",
    "    added > date '2018-08-02' - INTERVAL '90 days'\n",
    "AND\n",
    "    id IN\n",
    "        (SELECT \n",
    "            id\n",
    "        FROM\n",
    "            conversations_conversation\n",
    "        WHERE\n",
    "        (cancelled_at IS NULL))\n",
    "GROUP BY \n",
    "    date\n",
    "ORDER BY\n",
    "    date ASC;\n",
    "'''\n",
    "df_1 = pd.read_sql_query(query,conn)\n",
    "df_1"
   ]
  },
  {
   "cell_type": "code",
   "execution_count": 12,
   "metadata": {
    "scrolled": true
   },
   "outputs": [
    {
     "data": {
      "text/html": [
       "<div>\n",
       "<style scoped>\n",
       "    .dataframe tbody tr th:only-of-type {\n",
       "        vertical-align: middle;\n",
       "    }\n",
       "\n",
       "    .dataframe tbody tr th {\n",
       "        vertical-align: top;\n",
       "    }\n",
       "\n",
       "    .dataframe thead th {\n",
       "        text-align: right;\n",
       "    }\n",
       "</style>\n",
       "<table border=\"1\" class=\"dataframe\">\n",
       "  <thead>\n",
       "    <tr style=\"text-align: right;\">\n",
       "      <th></th>\n",
       "      <th>conversion_rate</th>\n",
       "    </tr>\n",
       "  </thead>\n",
       "  <tbody>\n",
       "    <tr>\n",
       "      <td>count</td>\n",
       "      <td>90.000000</td>\n",
       "    </tr>\n",
       "    <tr>\n",
       "      <td>mean</td>\n",
       "      <td>40.257222</td>\n",
       "    </tr>\n",
       "    <tr>\n",
       "      <td>std</td>\n",
       "      <td>6.376938</td>\n",
       "    </tr>\n",
       "    <tr>\n",
       "      <td>min</td>\n",
       "      <td>4.930000</td>\n",
       "    </tr>\n",
       "    <tr>\n",
       "      <td>25%</td>\n",
       "      <td>38.837500</td>\n",
       "    </tr>\n",
       "    <tr>\n",
       "      <td>50%</td>\n",
       "      <td>41.140000</td>\n",
       "    </tr>\n",
       "    <tr>\n",
       "      <td>75%</td>\n",
       "      <td>42.940000</td>\n",
       "    </tr>\n",
       "    <tr>\n",
       "      <td>max</td>\n",
       "      <td>49.000000</td>\n",
       "    </tr>\n",
       "  </tbody>\n",
       "</table>\n",
       "</div>"
      ],
      "text/plain": [
       "       conversion_rate\n",
       "count        90.000000\n",
       "mean         40.257222\n",
       "std           6.376938\n",
       "min           4.930000\n",
       "25%          38.837500\n",
       "50%          41.140000\n",
       "75%          42.940000\n",
       "max          49.000000"
      ]
     },
     "execution_count": 12,
     "metadata": {},
     "output_type": "execute_result"
    }
   ],
   "source": [
    "df_1.describe()"
   ]
  },
  {
   "cell_type": "markdown",
   "metadata": {},
   "source": [
    "During the 90 day period, the mean converstion_rate is ~ 40.26% with a standard deviation of ~6.37%"
   ]
  },
  {
   "cell_type": "code",
   "execution_count": 13,
   "metadata": {
    "scrolled": true
   },
   "outputs": [
    {
     "data": {
      "image/png": "[encoded data removed]",
      "text/plain": [
       "<Figure size 720x288 with 1 Axes>"
      ]
     },
     "metadata": {
      "needs_background": "light"
     },
     "output_type": "display_data"
    }
   ],
   "source": [
    "plt.figure(figsize=(10,4))\n",
    "plt.plot(df_1['conversion_rate'])\n",
    "plt.ylabel('corrected_conversion_rate')\n",
    "plt.ylim(0,60)\n",
    "plt.gca().set_aspect('equal', adjustable='box')\n",
    "plt.xlim(0,91)\n",
    "plt.xlabel('#_of_days_after_2018-05-04')\n",
    "plt.title('Corrected Daily Conversion After 2018-05-04')\n",
    "plt.show();"
   ]
  },
  {
   "cell_type": "markdown",
   "metadata": {},
   "source": [
    "### 1. What is the daily booking rate for each of the 90 days prior to the snapshot? Is there a downward trend?"
   ]
  },
  {
   "cell_type": "code",
   "execution_count": 14,
   "metadata": {
    "scrolled": true
   },
   "outputs": [
    {
     "data": {
      "text/html": [
       "<div>\n",
       "<style scoped>\n",
       "    .dataframe tbody tr th:only-of-type {\n",
       "        vertical-align: middle;\n",
       "    }\n",
       "\n",
       "    .dataframe tbody tr th {\n",
       "        vertical-align: top;\n",
       "    }\n",
       "\n",
       "    .dataframe thead th {\n",
       "        text-align: right;\n",
       "    }\n",
       "</style>\n",
       "<table border=\"1\" class=\"dataframe\">\n",
       "  <thead>\n",
       "    <tr style=\"text-align: right;\">\n",
       "      <th></th>\n",
       "      <th>conversion_rate</th>\n",
       "    </tr>\n",
       "  </thead>\n",
       "  <tbody>\n",
       "    <tr>\n",
       "      <td>count</td>\n",
       "      <td>90.000000</td>\n",
       "    </tr>\n",
       "    <tr>\n",
       "      <td>mean</td>\n",
       "      <td>40.257222</td>\n",
       "    </tr>\n",
       "    <tr>\n",
       "      <td>std</td>\n",
       "      <td>6.376938</td>\n",
       "    </tr>\n",
       "    <tr>\n",
       "      <td>min</td>\n",
       "      <td>4.930000</td>\n",
       "    </tr>\n",
       "    <tr>\n",
       "      <td>25%</td>\n",
       "      <td>38.837500</td>\n",
       "    </tr>\n",
       "    <tr>\n",
       "      <td>50%</td>\n",
       "      <td>41.140000</td>\n",
       "    </tr>\n",
       "    <tr>\n",
       "      <td>75%</td>\n",
       "      <td>42.940000</td>\n",
       "    </tr>\n",
       "    <tr>\n",
       "      <td>max</td>\n",
       "      <td>49.000000</td>\n",
       "    </tr>\n",
       "  </tbody>\n",
       "</table>\n",
       "</div>"
      ],
      "text/plain": [
       "       conversion_rate\n",
       "count        90.000000\n",
       "mean         40.257222\n",
       "std           6.376938\n",
       "min           4.930000\n",
       "25%          38.837500\n",
       "50%          41.140000\n",
       "75%          42.940000\n",
       "max          49.000000"
      ]
     },
     "execution_count": 14,
     "metadata": {},
     "output_type": "execute_result"
    }
   ],
   "source": [
    "df_1.describe()"
   ]
  },
  {
   "cell_type": "markdown",
   "metadata": {},
   "source": [
    "### 2. Can you narrate a reason why this trend exists? Is there a reason to be concerned? Please provide additional data and evidence to justify your position.\n",
    "\n",
    "Although there does exist a negative trend for the converstion rate, one must simply keep in mind that the most recent bookings are for start dates that are in the future, and have not been fulfilled quite yet. \n",
    "\n",
    "By defining the daily booking rate to be the percentage of conversations created each day that eventually book, we are stil waiting for these most recent requests to be accepted by the service provider and that affects our conversion rate. Thus, we must redefine our metric to account for this.\n",
    "\n",
    "#### BELOW is a query that eliminates future requests and narrows down to bookings with end_dates on the last day of data collection."
   ]
  },
  {
   "cell_type": "code",
   "execution_count": 15,
   "metadata": {
    "scrolled": true
   },
   "outputs": [
    {
     "data": {
      "text/html": [
       "<div>\n",
       "<style scoped>\n",
       "    .dataframe tbody tr th:only-of-type {\n",
       "        vertical-align: middle;\n",
       "    }\n",
       "\n",
       "    .dataframe tbody tr th {\n",
       "        vertical-align: top;\n",
       "    }\n",
       "\n",
       "    .dataframe thead th {\n",
       "        text-align: right;\n",
       "    }\n",
       "</style>\n",
       "<table border=\"1\" class=\"dataframe\">\n",
       "  <thead>\n",
       "    <tr style=\"text-align: right;\">\n",
       "      <th></th>\n",
       "      <th>date</th>\n",
       "      <th>conversion_rate</th>\n",
       "    </tr>\n",
       "  </thead>\n",
       "  <tbody>\n",
       "    <tr>\n",
       "      <td>0</td>\n",
       "      <td>2018-05-04</td>\n",
       "      <td>42.58</td>\n",
       "    </tr>\n",
       "    <tr>\n",
       "      <td>1</td>\n",
       "      <td>2018-05-05</td>\n",
       "      <td>41.04</td>\n",
       "    </tr>\n",
       "    <tr>\n",
       "      <td>2</td>\n",
       "      <td>2018-05-06</td>\n",
       "      <td>42.79</td>\n",
       "    </tr>\n",
       "    <tr>\n",
       "      <td>3</td>\n",
       "      <td>2018-05-07</td>\n",
       "      <td>46.19</td>\n",
       "    </tr>\n",
       "    <tr>\n",
       "      <td>4</td>\n",
       "      <td>2018-05-08</td>\n",
       "      <td>36.79</td>\n",
       "    </tr>\n",
       "    <tr>\n",
       "      <td>...</td>\n",
       "      <td>...</td>\n",
       "      <td>...</td>\n",
       "    </tr>\n",
       "    <tr>\n",
       "      <td>76</td>\n",
       "      <td>2018-07-19</td>\n",
       "      <td>46.60</td>\n",
       "    </tr>\n",
       "    <tr>\n",
       "      <td>77</td>\n",
       "      <td>2018-07-20</td>\n",
       "      <td>49.18</td>\n",
       "    </tr>\n",
       "    <tr>\n",
       "      <td>78</td>\n",
       "      <td>2018-07-21</td>\n",
       "      <td>53.33</td>\n",
       "    </tr>\n",
       "    <tr>\n",
       "      <td>79</td>\n",
       "      <td>2018-07-22</td>\n",
       "      <td>47.62</td>\n",
       "    </tr>\n",
       "    <tr>\n",
       "      <td>80</td>\n",
       "      <td>2018-07-23</td>\n",
       "      <td>50.00</td>\n",
       "    </tr>\n",
       "  </tbody>\n",
       "</table>\n",
       "<p>81 rows × 2 columns</p>\n",
       "</div>"
      ],
      "text/plain": [
       "          date  conversion_rate\n",
       "0   2018-05-04            42.58\n",
       "1   2018-05-05            41.04\n",
       "2   2018-05-06            42.79\n",
       "3   2018-05-07            46.19\n",
       "4   2018-05-08            36.79\n",
       "..         ...              ...\n",
       "76  2018-07-19            46.60\n",
       "77  2018-07-20            49.18\n",
       "78  2018-07-21            53.33\n",
       "79  2018-07-22            47.62\n",
       "80  2018-07-23            50.00\n",
       "\n",
       "[81 rows x 2 columns]"
      ]
     },
     "execution_count": 15,
     "metadata": {},
     "output_type": "execute_result"
    }
   ],
   "source": [
    "query = '''\n",
    "SELECT \n",
    "    DATE(added) as date, ROUND(COUNT(booked_at)*100.0 / COUNT(*),2) as conversion_rate\n",
    "FROM \n",
    "    conversations_conversation\n",
    "WHERE \n",
    "    added > date '2018-08-02' - INTERVAL '90 days'\n",
    "AND\n",
    "    end_date < date'2018-08-02'\n",
    "AND\n",
    "    id IN\n",
    "        (SELECT \n",
    "            id\n",
    "        FROM\n",
    "            conversations_conversation\n",
    "        WHERE\n",
    "        (cancelled_at IS NULL))\n",
    "GROUP BY \n",
    "    date\n",
    "ORDER BY\n",
    "    date ASC;\n",
    "'''\n",
    "df_corrected_date = pd.read_sql_query(query,conn)\n",
    "df_corrected_date"
   ]
  },
  {
   "cell_type": "code",
   "execution_count": 16,
   "metadata": {
    "scrolled": true
   },
   "outputs": [
    {
     "data": {
      "text/html": [
       "<div>\n",
       "<style scoped>\n",
       "    .dataframe tbody tr th:only-of-type {\n",
       "        vertical-align: middle;\n",
       "    }\n",
       "\n",
       "    .dataframe tbody tr th {\n",
       "        vertical-align: top;\n",
       "    }\n",
       "\n",
       "    .dataframe thead th {\n",
       "        text-align: right;\n",
       "    }\n",
       "</style>\n",
       "<table border=\"1\" class=\"dataframe\">\n",
       "  <thead>\n",
       "    <tr style=\"text-align: right;\">\n",
       "      <th></th>\n",
       "      <th>conversion_rate</th>\n",
       "    </tr>\n",
       "  </thead>\n",
       "  <tbody>\n",
       "    <tr>\n",
       "      <td>count</td>\n",
       "      <td>81.000000</td>\n",
       "    </tr>\n",
       "    <tr>\n",
       "      <td>mean</td>\n",
       "      <td>41.613704</td>\n",
       "    </tr>\n",
       "    <tr>\n",
       "      <td>std</td>\n",
       "      <td>3.860461</td>\n",
       "    </tr>\n",
       "    <tr>\n",
       "      <td>min</td>\n",
       "      <td>34.190000</td>\n",
       "    </tr>\n",
       "    <tr>\n",
       "      <td>25%</td>\n",
       "      <td>38.890000</td>\n",
       "    </tr>\n",
       "    <tr>\n",
       "      <td>50%</td>\n",
       "      <td>41.280000</td>\n",
       "    </tr>\n",
       "    <tr>\n",
       "      <td>75%</td>\n",
       "      <td>44.090000</td>\n",
       "    </tr>\n",
       "    <tr>\n",
       "      <td>max</td>\n",
       "      <td>53.330000</td>\n",
       "    </tr>\n",
       "  </tbody>\n",
       "</table>\n",
       "</div>"
      ],
      "text/plain": [
       "       conversion_rate\n",
       "count        81.000000\n",
       "mean         41.613704\n",
       "std           3.860461\n",
       "min          34.190000\n",
       "25%          38.890000\n",
       "50%          41.280000\n",
       "75%          44.090000\n",
       "max          53.330000"
      ]
     },
     "execution_count": 16,
     "metadata": {},
     "output_type": "execute_result"
    }
   ],
   "source": [
    "df_corrected_date.describe()"
   ]
  },
  {
   "cell_type": "markdown",
   "metadata": {},
   "source": [
    "Notice now, we have less days to account for, since the latest added date in our new query is 2018-07-25, with a new total of 81 days, with a mean converstion rate of ~41.61 with a standard deviation of ~3.86."
   ]
  },
  {
   "cell_type": "code",
   "execution_count": 17,
   "metadata": {
    "scrolled": true
   },
   "outputs": [
    {
     "data": {
      "image/png": "[encoded data removed]",
      "text/plain": [
       "<Figure size 720x288 with 1 Axes>"
      ]
     },
     "metadata": {
      "needs_background": "light"
     },
     "output_type": "display_data"
    }
   ],
   "source": [
    "plt.figure(figsize=(10,4))\n",
    "plt.plot(df_corrected_date['conversion_rate'])\n",
    "plt.ylabel('corrected_conversion_rate')\n",
    "plt.ylim(0,60)\n",
    "plt.gca().set_aspect('equal', adjustable='box')\n",
    "plt.xlim(0,91)\n",
    "plt.xlabel('#_of_days_after_2018-05-04')\n",
    "plt.title('Corrected Daily Conversion After 2018-05-04')\n",
    "plt.show();"
   ]
  },
  {
   "cell_type": "markdown",
   "metadata": {},
   "source": [
    "Now, compared to the graph of before..."
   ]
  },
  {
   "cell_type": "code",
   "execution_count": 18,
   "metadata": {},
   "outputs": [
    {
     "data": {
      "image/png": "[encoded data removed]",
      "text/plain": [
       "<Figure size 720x288 with 1 Axes>"
      ]
     },
     "metadata": {
      "needs_background": "light"
     },
     "output_type": "display_data"
    }
   ],
   "source": [
    "plt.figure(figsize=(10,4))\n",
    "plt.plot(df_1['conversion_rate'])\n",
    "plt.ylabel('corrected_conversion_rate')\n",
    "plt.ylim(0,60)\n",
    "plt.gca().set_aspect('equal', adjustable='box')\n",
    "plt.xlim(0,91)\n",
    "plt.xlabel('#_of_days_after_2018-05-04')\n",
    "plt.title('Corrected Daily Conversion After 2018-05-04')\n",
    "plt.show();"
   ]
  },
  {
   "cell_type": "markdown",
   "metadata": {},
   "source": [
    "By correctly defining our metric and narrowing down on bookings that have been completed. Although it does not account for bookings that might still be cancelled, the corrected conversion trend is not as bad as first perceived."
   ]
  },
  {
   "cell_type": "markdown",
   "metadata": {},
   "source": [
    " ## IV. Analyzing Take Rate (IV)\n",
    " In order to do the next exercise, you will need to understand the fee structure for this company. Each user has a fee associated with their account (recorded on\n",
    "people_person ). If that user books as an owner, the company charges a service fee (in addition to the booking total) that is a percentage of the booking total (to a maximum of \\\\$50).\n",
    "\n",
    "Also, each service has a fee amount (recorded on services_service ). Before a provider receives their payment, the company takes a percentage of the booking total as dictated by that fee. As an example, suppose an owner has a fee amount of 5\\% and books with a service that has a fee amount of 15\\%. \n",
    "\n",
    "If the booking was for \\\\$100, then the owner would get charged \\\\$105 (adding the ownerʼs fee). The \\\\$5 owner fee would go to the company. An additional \\\\$15 would also go to the company since the service had a 15% fee associated to it. The remaining \\\\$85 would go to the provider. To summarize:"
   ]
  },
  {
   "cell_type": "markdown",
   "metadata": {},
   "source": [
    "| | Amount | Description |\n",
    "| --- | --- | --- |\n",
    "| Booking Total |\\$100 |  e.g., 4 walks at \\$25/walk |\n",
    "|  Owner Fee |\\$5 |  5\\% of the booking total |\n",
    "| Gross Billings |\\$105 |  charged to the owner |\n",
    "| Service Fee |\\$15 |  15\\% of the booking total|\n",
    "| Net Revenue |\\$20 |  all fees that go to the company\n",
    "| Provider Payment |\\$85 |  earnings for the provider\n"
   ]
  },
  {
   "cell_type": "markdown",
   "metadata": {},
   "source": [
    "### 1. In each month, what were the gross billings and net revenue?\n",
    "\n",
    "First, let's find the total of bookings that are are completed"
   ]
  },
  {
   "cell_type": "code",
   "execution_count": 19,
   "metadata": {
    "scrolled": true
   },
   "outputs": [
    {
     "data": {
      "text/html": [
       "<div>\n",
       "<style scoped>\n",
       "    .dataframe tbody tr th:only-of-type {\n",
       "        vertical-align: middle;\n",
       "    }\n",
       "\n",
       "    .dataframe tbody tr th {\n",
       "        vertical-align: top;\n",
       "    }\n",
       "\n",
       "    .dataframe thead th {\n",
       "        text-align: right;\n",
       "    }\n",
       "</style>\n",
       "<table border=\"1\" class=\"dataframe\">\n",
       "  <thead>\n",
       "    <tr style=\"text-align: right;\">\n",
       "      <th></th>\n",
       "      <th>id</th>\n",
       "      <th>start_date</th>\n",
       "      <th>end_date</th>\n",
       "      <th>units</th>\n",
       "      <th>added</th>\n",
       "      <th>booking_total</th>\n",
       "      <th>cancellation_fault</th>\n",
       "      <th>requester_id</th>\n",
       "      <th>service_id</th>\n",
       "      <th>booked_at</th>\n",
       "      <th>cancelled_at</th>\n",
       "    </tr>\n",
       "  </thead>\n",
       "  <tbody>\n",
       "    <tr>\n",
       "      <td>0</td>\n",
       "      <td>6</td>\n",
       "      <td>2018-07-04</td>\n",
       "      <td>2018-07-07</td>\n",
       "      <td>3</td>\n",
       "      <td>2018-06-23 16:16:16.891344-07:00</td>\n",
       "      <td>78</td>\n",
       "      <td>None</td>\n",
       "      <td>64388</td>\n",
       "      <td>14772</td>\n",
       "      <td>2018-06-27 14:39:51.433544-07:00</td>\n",
       "      <td>None</td>\n",
       "    </tr>\n",
       "    <tr>\n",
       "      <td>1</td>\n",
       "      <td>7</td>\n",
       "      <td>2018-07-31</td>\n",
       "      <td>2018-08-04</td>\n",
       "      <td>4</td>\n",
       "      <td>2018-07-21 04:55:57.951572-07:00</td>\n",
       "      <td>100</td>\n",
       "      <td>None</td>\n",
       "      <td>64386</td>\n",
       "      <td>14783</td>\n",
       "      <td>2018-07-22 02:50:20.676664-07:00</td>\n",
       "      <td>None</td>\n",
       "    </tr>\n",
       "    <tr>\n",
       "      <td>2</td>\n",
       "      <td>9</td>\n",
       "      <td>2018-07-02</td>\n",
       "      <td>2018-07-03</td>\n",
       "      <td>1</td>\n",
       "      <td>2018-06-21 06:23:08.092389-07:00</td>\n",
       "      <td>23</td>\n",
       "      <td>None</td>\n",
       "      <td>64384</td>\n",
       "      <td>7656</td>\n",
       "      <td>2018-06-23 01:49:33.596667-07:00</td>\n",
       "      <td>None</td>\n",
       "    </tr>\n",
       "    <tr>\n",
       "      <td>3</td>\n",
       "      <td>11</td>\n",
       "      <td>2018-06-12</td>\n",
       "      <td>2018-06-18</td>\n",
       "      <td>6</td>\n",
       "      <td>2018-06-03 09:11:33.421951-07:00</td>\n",
       "      <td>300</td>\n",
       "      <td>None</td>\n",
       "      <td>64382</td>\n",
       "      <td>2512</td>\n",
       "      <td>2018-06-07 01:24:20.187356-07:00</td>\n",
       "      <td>None</td>\n",
       "    </tr>\n",
       "    <tr>\n",
       "      <td>4</td>\n",
       "      <td>13</td>\n",
       "      <td>2018-07-24</td>\n",
       "      <td>2018-07-27</td>\n",
       "      <td>3</td>\n",
       "      <td>2018-07-13 10:30:05.875588-07:00</td>\n",
       "      <td>126</td>\n",
       "      <td>None</td>\n",
       "      <td>64381</td>\n",
       "      <td>1634</td>\n",
       "      <td>2018-07-19 01:01:11.552880-07:00</td>\n",
       "      <td>None</td>\n",
       "    </tr>\n",
       "  </tbody>\n",
       "</table>\n",
       "</div>"
      ],
      "text/plain": [
       "   id  start_date    end_date  units                             added  \\\n",
       "0   6  2018-07-04  2018-07-07      3  2018-06-23 16:16:16.891344-07:00   \n",
       "1   7  2018-07-31  2018-08-04      4  2018-07-21 04:55:57.951572-07:00   \n",
       "2   9  2018-07-02  2018-07-03      1  2018-06-21 06:23:08.092389-07:00   \n",
       "3  11  2018-06-12  2018-06-18      6  2018-06-03 09:11:33.421951-07:00   \n",
       "4  13  2018-07-24  2018-07-27      3  2018-07-13 10:30:05.875588-07:00   \n",
       "\n",
       "   booking_total cancellation_fault  requester_id  service_id  \\\n",
       "0             78               None         64388       14772   \n",
       "1            100               None         64386       14783   \n",
       "2             23               None         64384        7656   \n",
       "3            300               None         64382        2512   \n",
       "4            126               None         64381        1634   \n",
       "\n",
       "                          booked_at cancelled_at  \n",
       "0  2018-06-27 14:39:51.433544-07:00         None  \n",
       "1  2018-07-22 02:50:20.676664-07:00         None  \n",
       "2  2018-06-23 01:49:33.596667-07:00         None  \n",
       "3  2018-06-07 01:24:20.187356-07:00         None  \n",
       "4  2018-07-19 01:01:11.552880-07:00         None  "
      ]
     },
     "execution_count": 19,
     "metadata": {},
     "output_type": "execute_result"
    }
   ],
   "source": [
    "query='''\n",
    "SELECT \n",
    "    *\n",
    "FROM \n",
    "    conversations_conversation as cc\n",
    "WHERE\n",
    "    booked_at IS NOT NULL\n",
    "AND\n",
    "    cancelled_at IS NULL\n",
    ";'''\n",
    "df_completed = pd.read_sql_query(query,conn)\n",
    "df_completed.head()"
   ]
  },
  {
   "cell_type": "code",
   "execution_count": 20,
   "metadata": {},
   "outputs": [
    {
     "data": {
      "text/plain": [
       "30093"
      ]
     },
     "execution_count": 20,
     "metadata": {},
     "output_type": "execute_result"
    }
   ],
   "source": [
    "df_completed.shape[0]"
   ]
  },
  {
   "cell_type": "code",
   "execution_count": 21,
   "metadata": {},
   "outputs": [
    {
     "name": "stdout",
     "output_type": "stream",
     "text": [
      "THERE are 30093 completed bookings in the dataset\n"
     ]
    }
   ],
   "source": [
    "print(f'THERE are {df_completed.shape[0]} completed bookings in the dataset')"
   ]
  },
  {
   "cell_type": "markdown",
   "metadata": {},
   "source": [
    "Now, we want to add: \n",
    "- people_person pp.fee to get the owner fee which is a a decial form. To join it to our table, we can use conversations_conversation cc.requester_id on pp.id\n",
    "- services_service ss.price for the price, and ss.fee to get the fee we gain from the total booking. To join this ss to cc, we can use cc.service_id = ss.id\n",
    "- Then with the columns joined properly, we can do maths on the columns to get the correct fees and charges \n",
    "- Keep in mind that the last month is not complete, so let's exclude it in our analysis"
   ]
  },
  {
   "cell_type": "code",
   "execution_count": 22,
   "metadata": {
    "scrolled": true
   },
   "outputs": [
    {
     "data": {
      "text/html": [
       "<div>\n",
       "<style scoped>\n",
       "    .dataframe tbody tr th:only-of-type {\n",
       "        vertical-align: middle;\n",
       "    }\n",
       "\n",
       "    .dataframe tbody tr th {\n",
       "        vertical-align: top;\n",
       "    }\n",
       "\n",
       "    .dataframe thead th {\n",
       "        text-align: right;\n",
       "    }\n",
       "</style>\n",
       "<table border=\"1\" class=\"dataframe\">\n",
       "  <thead>\n",
       "    <tr style=\"text-align: right;\">\n",
       "      <th></th>\n",
       "      <th>year</th>\n",
       "      <th>month</th>\n",
       "      <th>net_revenue</th>\n",
       "      <th>gross_billings</th>\n",
       "    </tr>\n",
       "  </thead>\n",
       "  <tbody>\n",
       "    <tr>\n",
       "      <td>0</td>\n",
       "      <td>2016.0</td>\n",
       "      <td>8.0</td>\n",
       "      <td>635.12</td>\n",
       "      <td>3810.72</td>\n",
       "    </tr>\n",
       "    <tr>\n",
       "      <td>1</td>\n",
       "      <td>2016.0</td>\n",
       "      <td>9.0</td>\n",
       "      <td>2746.35</td>\n",
       "      <td>16478.10</td>\n",
       "    </tr>\n",
       "    <tr>\n",
       "      <td>2</td>\n",
       "      <td>2016.0</td>\n",
       "      <td>10.0</td>\n",
       "      <td>4805.56</td>\n",
       "      <td>28833.36</td>\n",
       "    </tr>\n",
       "    <tr>\n",
       "      <td>3</td>\n",
       "      <td>2016.0</td>\n",
       "      <td>11.0</td>\n",
       "      <td>6402.37</td>\n",
       "      <td>38414.22</td>\n",
       "    </tr>\n",
       "    <tr>\n",
       "      <td>4</td>\n",
       "      <td>2016.0</td>\n",
       "      <td>12.0</td>\n",
       "      <td>8575.93</td>\n",
       "      <td>51103.98</td>\n",
       "    </tr>\n",
       "    <tr>\n",
       "      <td>5</td>\n",
       "      <td>2017.0</td>\n",
       "      <td>1.0</td>\n",
       "      <td>12943.49</td>\n",
       "      <td>69952.14</td>\n",
       "    </tr>\n",
       "    <tr>\n",
       "      <td>6</td>\n",
       "      <td>2017.0</td>\n",
       "      <td>2.0</td>\n",
       "      <td>15410.61</td>\n",
       "      <td>82967.76</td>\n",
       "    </tr>\n",
       "    <tr>\n",
       "      <td>7</td>\n",
       "      <td>2017.0</td>\n",
       "      <td>3.0</td>\n",
       "      <td>21550.51</td>\n",
       "      <td>115218.81</td>\n",
       "    </tr>\n",
       "    <tr>\n",
       "      <td>8</td>\n",
       "      <td>2017.0</td>\n",
       "      <td>4.0</td>\n",
       "      <td>22890.05</td>\n",
       "      <td>122019.60</td>\n",
       "    </tr>\n",
       "    <tr>\n",
       "      <td>9</td>\n",
       "      <td>2017.0</td>\n",
       "      <td>5.0</td>\n",
       "      <td>28323.93</td>\n",
       "      <td>150345.78</td>\n",
       "    </tr>\n",
       "    <tr>\n",
       "      <td>10</td>\n",
       "      <td>2017.0</td>\n",
       "      <td>6.0</td>\n",
       "      <td>32824.67</td>\n",
       "      <td>169077.42</td>\n",
       "    </tr>\n",
       "    <tr>\n",
       "      <td>11</td>\n",
       "      <td>2017.0</td>\n",
       "      <td>7.0</td>\n",
       "      <td>36960.00</td>\n",
       "      <td>183187.50</td>\n",
       "    </tr>\n",
       "    <tr>\n",
       "      <td>12</td>\n",
       "      <td>2017.0</td>\n",
       "      <td>8.0</td>\n",
       "      <td>43617.82</td>\n",
       "      <td>210495.57</td>\n",
       "    </tr>\n",
       "    <tr>\n",
       "      <td>13</td>\n",
       "      <td>2017.0</td>\n",
       "      <td>9.0</td>\n",
       "      <td>50341.67</td>\n",
       "      <td>233801.67</td>\n",
       "    </tr>\n",
       "    <tr>\n",
       "      <td>14</td>\n",
       "      <td>2017.0</td>\n",
       "      <td>10.0</td>\n",
       "      <td>59484.28</td>\n",
       "      <td>274740.48</td>\n",
       "    </tr>\n",
       "    <tr>\n",
       "      <td>15</td>\n",
       "      <td>2017.0</td>\n",
       "      <td>11.0</td>\n",
       "      <td>60950.91</td>\n",
       "      <td>280036.11</td>\n",
       "    </tr>\n",
       "    <tr>\n",
       "      <td>16</td>\n",
       "      <td>2017.0</td>\n",
       "      <td>12.0</td>\n",
       "      <td>74511.39</td>\n",
       "      <td>328178.04</td>\n",
       "    </tr>\n",
       "    <tr>\n",
       "      <td>17</td>\n",
       "      <td>2018.0</td>\n",
       "      <td>1.0</td>\n",
       "      <td>81618.35</td>\n",
       "      <td>352150.75</td>\n",
       "    </tr>\n",
       "    <tr>\n",
       "      <td>18</td>\n",
       "      <td>2018.0</td>\n",
       "      <td>2.0</td>\n",
       "      <td>77399.88</td>\n",
       "      <td>331139.58</td>\n",
       "    </tr>\n",
       "    <tr>\n",
       "      <td>19</td>\n",
       "      <td>2018.0</td>\n",
       "      <td>3.0</td>\n",
       "      <td>95958.39</td>\n",
       "      <td>409591.99</td>\n",
       "    </tr>\n",
       "    <tr>\n",
       "      <td>20</td>\n",
       "      <td>2018.0</td>\n",
       "      <td>4.0</td>\n",
       "      <td>103370.89</td>\n",
       "      <td>435705.69</td>\n",
       "    </tr>\n",
       "    <tr>\n",
       "      <td>21</td>\n",
       "      <td>2018.0</td>\n",
       "      <td>5.0</td>\n",
       "      <td>120369.64</td>\n",
       "      <td>504302.89</td>\n",
       "    </tr>\n",
       "    <tr>\n",
       "      <td>22</td>\n",
       "      <td>2018.0</td>\n",
       "      <td>6.0</td>\n",
       "      <td>130917.09</td>\n",
       "      <td>545595.09</td>\n",
       "    </tr>\n",
       "    <tr>\n",
       "      <td>23</td>\n",
       "      <td>2018.0</td>\n",
       "      <td>7.0</td>\n",
       "      <td>161878.40</td>\n",
       "      <td>671235.75</td>\n",
       "    </tr>\n",
       "  </tbody>\n",
       "</table>\n",
       "</div>"
      ],
      "text/plain": [
       "      year  month  net_revenue  gross_billings\n",
       "0   2016.0    8.0       635.12         3810.72\n",
       "1   2016.0    9.0      2746.35        16478.10\n",
       "2   2016.0   10.0      4805.56        28833.36\n",
       "3   2016.0   11.0      6402.37        38414.22\n",
       "4   2016.0   12.0      8575.93        51103.98\n",
       "5   2017.0    1.0     12943.49        69952.14\n",
       "6   2017.0    2.0     15410.61        82967.76\n",
       "7   2017.0    3.0     21550.51       115218.81\n",
       "8   2017.0    4.0     22890.05       122019.60\n",
       "9   2017.0    5.0     28323.93       150345.78\n",
       "10  2017.0    6.0     32824.67       169077.42\n",
       "11  2017.0    7.0     36960.00       183187.50\n",
       "12  2017.0    8.0     43617.82       210495.57\n",
       "13  2017.0    9.0     50341.67       233801.67\n",
       "14  2017.0   10.0     59484.28       274740.48\n",
       "15  2017.0   11.0     60950.91       280036.11\n",
       "16  2017.0   12.0     74511.39       328178.04\n",
       "17  2018.0    1.0     81618.35       352150.75\n",
       "18  2018.0    2.0     77399.88       331139.58\n",
       "19  2018.0    3.0     95958.39       409591.99\n",
       "20  2018.0    4.0    103370.89       435705.69\n",
       "21  2018.0    5.0    120369.64       504302.89\n",
       "22  2018.0    6.0    130917.09       545595.09\n",
       "23  2018.0    7.0    161878.40       671235.75"
      ]
     },
     "execution_count": 22,
     "metadata": {},
     "output_type": "execute_result"
    }
   ],
   "source": [
    "query='''\n",
    "WITH CTE \n",
    "AS \n",
    "(SELECT \n",
    "    EXTRACT(YEAR FROM booked_at) as year,\n",
    "    EXTRACT(MONTH FROM booked_at) as month,\n",
    "    cc.service_id,\n",
    "    cc.requester_id,\n",
    "    cc.booking_total as booking_total,\n",
    "    pp.fee as owner_fee_perc, \n",
    "    (cc.booking_total * pp.fee) as owner_fee,\n",
    "    (cc.booking_total + cc.booking_total * pp.fee) as gross_billings,\n",
    "    ss.fee as service_fee_perc,\n",
    "    ss.fee * cc.booking_total as service_fee,\n",
    "    ((ss.fee * cc.booking_total) + (cc.booking_total*pp.fee)) as net_revenue,\n",
    "    booking_total - ss.fee * cc.booking_total as provider_payment\n",
    "FROM \n",
    "    conversations_conversation as cc\n",
    "JOIN\n",
    "    services_service ss ON cc.service_id = ss.id\n",
    "JOIN\n",
    "    people_person pp ON pp.id = cc.requester_id\n",
    "WHERE\n",
    "    cc.booked_at IS NOT NULL\n",
    "AND\n",
    "    cc.booked_at < date'2018-08-01'\n",
    "AND\n",
    "    cc.cancelled_at IS NULL)\n",
    "SELECT \n",
    " year,month, SUM(net_revenue) as net_revenue, SUM(gross_billings) as gross_billings\n",
    "FROM cte\n",
    "GROUP BY\n",
    "    year, month\n",
    "ORDER BY year ASC\n",
    ";\n",
    "\n",
    ";'''\n",
    "df_revenue = pd.read_sql_query(query,conn)\n",
    "df_revenue"
   ]
  },
  {
   "cell_type": "code",
   "execution_count": 23,
   "metadata": {},
   "outputs": [
    {
     "data": {
      "image/png": "[encoded data removed]",
      "text/plain": [
       "<Figure size 720x288 with 1 Axes>"
      ]
     },
     "metadata": {
      "needs_background": "light"
     },
     "output_type": "display_data"
    }
   ],
   "source": [
    "plt.figure(figsize=(10,4))\n",
    "plt.plot(df_revenue['net_revenue'])\n",
    "plt.ylabel('Net Revenue in $')\n",
    "plt.xlabel('# Months After 2016-08')\n",
    "plt.title('Net Revenue From 2016-08 to 2018-08')\n",
    "plt.show();"
   ]
  },
  {
   "cell_type": "code",
   "execution_count": 24,
   "metadata": {},
   "outputs": [
    {
     "data": {
      "image/png": "[encoded data removed]",
      "text/plain": [
       "<Figure size 720x288 with 1 Axes>"
      ]
     },
     "metadata": {
      "needs_background": "light"
     },
     "output_type": "display_data"
    }
   ],
   "source": [
    "plt.figure(figsize=(10,4))\n",
    "plt.plot(df_revenue['gross_billings'])\n",
    "plt.ylabel('Gross Billings in $')\n",
    "plt.xlabel('# Months After 2016-08')\n",
    "plt.title('Gross Billings From 2016-08 to 2018-08')\n",
    "plt.show();"
   ]
  },
  {
   "cell_type": "markdown",
   "metadata": {},
   "source": [
    "### 2. Define take rate to be the percentage of gross billings that is net revenue. Inthe previous example, the take rate is slightly more than 19\\% since 20 /105 is approximately 0.1905. In each month, what was the aggregate take rate?"
   ]
  },
  {
   "cell_type": "code",
   "execution_count": 25,
   "metadata": {},
   "outputs": [
    {
     "data": {
      "text/html": [
       "<div>\n",
       "<style scoped>\n",
       "    .dataframe tbody tr th:only-of-type {\n",
       "        vertical-align: middle;\n",
       "    }\n",
       "\n",
       "    .dataframe tbody tr th {\n",
       "        vertical-align: top;\n",
       "    }\n",
       "\n",
       "    .dataframe thead th {\n",
       "        text-align: right;\n",
       "    }\n",
       "</style>\n",
       "<table border=\"1\" class=\"dataframe\">\n",
       "  <thead>\n",
       "    <tr style=\"text-align: right;\">\n",
       "      <th></th>\n",
       "      <th>year</th>\n",
       "      <th>month</th>\n",
       "      <th>take_rate</th>\n",
       "    </tr>\n",
       "  </thead>\n",
       "  <tbody>\n",
       "    <tr>\n",
       "      <td>0</td>\n",
       "      <td>2016.0</td>\n",
       "      <td>8.0</td>\n",
       "      <td>16.67</td>\n",
       "    </tr>\n",
       "    <tr>\n",
       "      <td>1</td>\n",
       "      <td>2016.0</td>\n",
       "      <td>9.0</td>\n",
       "      <td>16.67</td>\n",
       "    </tr>\n",
       "    <tr>\n",
       "      <td>2</td>\n",
       "      <td>2016.0</td>\n",
       "      <td>10.0</td>\n",
       "      <td>16.67</td>\n",
       "    </tr>\n",
       "    <tr>\n",
       "      <td>3</td>\n",
       "      <td>2016.0</td>\n",
       "      <td>11.0</td>\n",
       "      <td>16.67</td>\n",
       "    </tr>\n",
       "    <tr>\n",
       "      <td>4</td>\n",
       "      <td>2016.0</td>\n",
       "      <td>12.0</td>\n",
       "      <td>16.78</td>\n",
       "    </tr>\n",
       "    <tr>\n",
       "      <td>5</td>\n",
       "      <td>2017.0</td>\n",
       "      <td>1.0</td>\n",
       "      <td>18.50</td>\n",
       "    </tr>\n",
       "    <tr>\n",
       "      <td>6</td>\n",
       "      <td>2017.0</td>\n",
       "      <td>2.0</td>\n",
       "      <td>18.57</td>\n",
       "    </tr>\n",
       "    <tr>\n",
       "      <td>7</td>\n",
       "      <td>2017.0</td>\n",
       "      <td>3.0</td>\n",
       "      <td>18.70</td>\n",
       "    </tr>\n",
       "    <tr>\n",
       "      <td>8</td>\n",
       "      <td>2017.0</td>\n",
       "      <td>4.0</td>\n",
       "      <td>18.76</td>\n",
       "    </tr>\n",
       "    <tr>\n",
       "      <td>9</td>\n",
       "      <td>2017.0</td>\n",
       "      <td>5.0</td>\n",
       "      <td>18.84</td>\n",
       "    </tr>\n",
       "    <tr>\n",
       "      <td>10</td>\n",
       "      <td>2017.0</td>\n",
       "      <td>6.0</td>\n",
       "      <td>19.41</td>\n",
       "    </tr>\n",
       "    <tr>\n",
       "      <td>11</td>\n",
       "      <td>2017.0</td>\n",
       "      <td>7.0</td>\n",
       "      <td>20.18</td>\n",
       "    </tr>\n",
       "    <tr>\n",
       "      <td>12</td>\n",
       "      <td>2017.0</td>\n",
       "      <td>8.0</td>\n",
       "      <td>20.72</td>\n",
       "    </tr>\n",
       "    <tr>\n",
       "      <td>13</td>\n",
       "      <td>2017.0</td>\n",
       "      <td>9.0</td>\n",
       "      <td>21.53</td>\n",
       "    </tr>\n",
       "    <tr>\n",
       "      <td>14</td>\n",
       "      <td>2017.0</td>\n",
       "      <td>10.0</td>\n",
       "      <td>21.65</td>\n",
       "    </tr>\n",
       "    <tr>\n",
       "      <td>15</td>\n",
       "      <td>2017.0</td>\n",
       "      <td>11.0</td>\n",
       "      <td>21.77</td>\n",
       "    </tr>\n",
       "    <tr>\n",
       "      <td>16</td>\n",
       "      <td>2017.0</td>\n",
       "      <td>12.0</td>\n",
       "      <td>22.70</td>\n",
       "    </tr>\n",
       "    <tr>\n",
       "      <td>17</td>\n",
       "      <td>2018.0</td>\n",
       "      <td>1.0</td>\n",
       "      <td>23.18</td>\n",
       "    </tr>\n",
       "    <tr>\n",
       "      <td>18</td>\n",
       "      <td>2018.0</td>\n",
       "      <td>2.0</td>\n",
       "      <td>23.37</td>\n",
       "    </tr>\n",
       "    <tr>\n",
       "      <td>19</td>\n",
       "      <td>2018.0</td>\n",
       "      <td>3.0</td>\n",
       "      <td>23.43</td>\n",
       "    </tr>\n",
       "    <tr>\n",
       "      <td>20</td>\n",
       "      <td>2018.0</td>\n",
       "      <td>4.0</td>\n",
       "      <td>23.72</td>\n",
       "    </tr>\n",
       "    <tr>\n",
       "      <td>21</td>\n",
       "      <td>2018.0</td>\n",
       "      <td>5.0</td>\n",
       "      <td>23.87</td>\n",
       "    </tr>\n",
       "    <tr>\n",
       "      <td>22</td>\n",
       "      <td>2018.0</td>\n",
       "      <td>6.0</td>\n",
       "      <td>24.00</td>\n",
       "    </tr>\n",
       "    <tr>\n",
       "      <td>23</td>\n",
       "      <td>2018.0</td>\n",
       "      <td>7.0</td>\n",
       "      <td>24.12</td>\n",
       "    </tr>\n",
       "    <tr>\n",
       "      <td>24</td>\n",
       "      <td>2018.0</td>\n",
       "      <td>8.0</td>\n",
       "      <td>24.11</td>\n",
       "    </tr>\n",
       "  </tbody>\n",
       "</table>\n",
       "</div>"
      ],
      "text/plain": [
       "      year  month  take_rate\n",
       "0   2016.0    8.0      16.67\n",
       "1   2016.0    9.0      16.67\n",
       "2   2016.0   10.0      16.67\n",
       "3   2016.0   11.0      16.67\n",
       "4   2016.0   12.0      16.78\n",
       "5   2017.0    1.0      18.50\n",
       "6   2017.0    2.0      18.57\n",
       "7   2017.0    3.0      18.70\n",
       "8   2017.0    4.0      18.76\n",
       "9   2017.0    5.0      18.84\n",
       "10  2017.0    6.0      19.41\n",
       "11  2017.0    7.0      20.18\n",
       "12  2017.0    8.0      20.72\n",
       "13  2017.0    9.0      21.53\n",
       "14  2017.0   10.0      21.65\n",
       "15  2017.0   11.0      21.77\n",
       "16  2017.0   12.0      22.70\n",
       "17  2018.0    1.0      23.18\n",
       "18  2018.0    2.0      23.37\n",
       "19  2018.0    3.0      23.43\n",
       "20  2018.0    4.0      23.72\n",
       "21  2018.0    5.0      23.87\n",
       "22  2018.0    6.0      24.00\n",
       "23  2018.0    7.0      24.12\n",
       "24  2018.0    8.0      24.11"
      ]
     },
     "execution_count": 25,
     "metadata": {},
     "output_type": "execute_result"
    }
   ],
   "source": [
    "query='''\n",
    "WITH CTE \n",
    "AS \n",
    "(SELECT \n",
    "    EXTRACT(YEAR FROM booked_at) as year,\n",
    "    EXTRACT(MONTH FROM booked_at) as month,\n",
    "    cc.service_id,\n",
    "    cc.requester_id,\n",
    "    cc.booking_total as booking_total,\n",
    "    pp.fee as owner_fee_perc, \n",
    "    (cc.booking_total * pp.fee) as owner_fee,\n",
    "    (cc.booking_total + cc.booking_total * pp.fee) as gross_billings,\n",
    "    ss.fee as service_fee_perc,\n",
    "    ss.fee * cc.booking_total as service_fee,\n",
    "    ((ss.fee * cc.booking_total) + (cc.booking_total*pp.fee)) as net_revenue,\n",
    "    booking_total - ss.fee * cc.booking_total as provider_payment\n",
    "FROM \n",
    "    conversations_conversation as cc\n",
    "JOIN\n",
    "    services_service ss ON cc.service_id = ss.id\n",
    "JOIN\n",
    "    people_person pp ON pp.id = cc.requester_id\n",
    "WHERE\n",
    "    cc.booked_at IS NOT NULL\n",
    "AND\n",
    "    cc.cancelled_at IS NULL)\n",
    "SELECT \n",
    " year,month, ROUND(SUM(net_revenue) *100 / SUM(gross_billings),2) as take_rate\n",
    "FROM cte\n",
    "GROUP BY\n",
    "    year, month\n",
    "ORDER BY year ASC;\n",
    ";'''\n",
    "df_take_rate = pd.read_sql_query(query,conn)\n",
    "df_take_rate"
   ]
  },
  {
   "cell_type": "markdown",
   "metadata": {},
   "source": [
    "### 3. Did take rate trend up or trend down or remain unchanged over time?\n",
    "Let's Plot it!"
   ]
  },
  {
   "cell_type": "code",
   "execution_count": 26,
   "metadata": {},
   "outputs": [
    {
     "data": {
      "image/png": "[encoded data removed]",
      "text/plain": [
       "<Figure size 720x288 with 1 Axes>"
      ]
     },
     "metadata": {
      "needs_background": "light"
     },
     "output_type": "display_data"
    }
   ],
   "source": [
    "plt.figure(figsize=(10,4))\n",
    "plt.plot(df_take_rate['take_rate'])\n",
    "plt.ylabel('take_rate_percentage')\n",
    "plt.xlabel('# Months After 2016-08')\n",
    "plt.title('Take Rate From 2016-08 to 2018-08')\n",
    "plt.show();"
   ]
  },
  {
   "cell_type": "markdown",
   "metadata": {},
   "source": [
    "It most definetely increased!"
   ]
  },
  {
   "cell_type": "markdown",
   "metadata": {},
   "source": [
    "### 4. If it did change, investigate why and provide an explanation. Be sure to provide additional data/charts/evidence that justify your explaination. Any claims should be backed by data.\n",
    "\n",
    "Let's see if Gross Billings and Net Revenue is also increasing. Lets also truncate the data so that the last month of August 2018 is not accounted for since it is not complete.\n"
   ]
  },
  {
   "cell_type": "code",
   "execution_count": 27,
   "metadata": {},
   "outputs": [
    {
     "data": {
      "text/html": [
       "<div>\n",
       "<style scoped>\n",
       "    .dataframe tbody tr th:only-of-type {\n",
       "        vertical-align: middle;\n",
       "    }\n",
       "\n",
       "    .dataframe tbody tr th {\n",
       "        vertical-align: top;\n",
       "    }\n",
       "\n",
       "    .dataframe thead th {\n",
       "        text-align: right;\n",
       "    }\n",
       "</style>\n",
       "<table border=\"1\" class=\"dataframe\">\n",
       "  <thead>\n",
       "    <tr style=\"text-align: right;\">\n",
       "      <th></th>\n",
       "      <th>year</th>\n",
       "      <th>month</th>\n",
       "      <th>net_revenue</th>\n",
       "      <th>gross_billings</th>\n",
       "    </tr>\n",
       "  </thead>\n",
       "  <tbody>\n",
       "    <tr>\n",
       "      <td>0</td>\n",
       "      <td>2016.0</td>\n",
       "      <td>8.0</td>\n",
       "      <td>635.12</td>\n",
       "      <td>3810.72</td>\n",
       "    </tr>\n",
       "    <tr>\n",
       "      <td>1</td>\n",
       "      <td>2016.0</td>\n",
       "      <td>9.0</td>\n",
       "      <td>2746.35</td>\n",
       "      <td>16478.10</td>\n",
       "    </tr>\n",
       "    <tr>\n",
       "      <td>2</td>\n",
       "      <td>2016.0</td>\n",
       "      <td>10.0</td>\n",
       "      <td>4805.56</td>\n",
       "      <td>28833.36</td>\n",
       "    </tr>\n",
       "    <tr>\n",
       "      <td>3</td>\n",
       "      <td>2016.0</td>\n",
       "      <td>11.0</td>\n",
       "      <td>6402.37</td>\n",
       "      <td>38414.22</td>\n",
       "    </tr>\n",
       "    <tr>\n",
       "      <td>4</td>\n",
       "      <td>2016.0</td>\n",
       "      <td>12.0</td>\n",
       "      <td>8575.93</td>\n",
       "      <td>51103.98</td>\n",
       "    </tr>\n",
       "    <tr>\n",
       "      <td>5</td>\n",
       "      <td>2017.0</td>\n",
       "      <td>1.0</td>\n",
       "      <td>12943.49</td>\n",
       "      <td>69952.14</td>\n",
       "    </tr>\n",
       "    <tr>\n",
       "      <td>6</td>\n",
       "      <td>2017.0</td>\n",
       "      <td>2.0</td>\n",
       "      <td>15410.61</td>\n",
       "      <td>82967.76</td>\n",
       "    </tr>\n",
       "    <tr>\n",
       "      <td>7</td>\n",
       "      <td>2017.0</td>\n",
       "      <td>3.0</td>\n",
       "      <td>21550.51</td>\n",
       "      <td>115218.81</td>\n",
       "    </tr>\n",
       "    <tr>\n",
       "      <td>8</td>\n",
       "      <td>2017.0</td>\n",
       "      <td>4.0</td>\n",
       "      <td>22890.05</td>\n",
       "      <td>122019.60</td>\n",
       "    </tr>\n",
       "    <tr>\n",
       "      <td>9</td>\n",
       "      <td>2017.0</td>\n",
       "      <td>5.0</td>\n",
       "      <td>28323.93</td>\n",
       "      <td>150345.78</td>\n",
       "    </tr>\n",
       "    <tr>\n",
       "      <td>10</td>\n",
       "      <td>2017.0</td>\n",
       "      <td>6.0</td>\n",
       "      <td>32824.67</td>\n",
       "      <td>169077.42</td>\n",
       "    </tr>\n",
       "    <tr>\n",
       "      <td>11</td>\n",
       "      <td>2017.0</td>\n",
       "      <td>7.0</td>\n",
       "      <td>36960.00</td>\n",
       "      <td>183187.50</td>\n",
       "    </tr>\n",
       "    <tr>\n",
       "      <td>12</td>\n",
       "      <td>2017.0</td>\n",
       "      <td>8.0</td>\n",
       "      <td>43617.82</td>\n",
       "      <td>210495.57</td>\n",
       "    </tr>\n",
       "    <tr>\n",
       "      <td>13</td>\n",
       "      <td>2017.0</td>\n",
       "      <td>9.0</td>\n",
       "      <td>50341.67</td>\n",
       "      <td>233801.67</td>\n",
       "    </tr>\n",
       "    <tr>\n",
       "      <td>14</td>\n",
       "      <td>2017.0</td>\n",
       "      <td>10.0</td>\n",
       "      <td>59484.28</td>\n",
       "      <td>274740.48</td>\n",
       "    </tr>\n",
       "    <tr>\n",
       "      <td>15</td>\n",
       "      <td>2017.0</td>\n",
       "      <td>11.0</td>\n",
       "      <td>60950.91</td>\n",
       "      <td>280036.11</td>\n",
       "    </tr>\n",
       "    <tr>\n",
       "      <td>16</td>\n",
       "      <td>2017.0</td>\n",
       "      <td>12.0</td>\n",
       "      <td>74511.39</td>\n",
       "      <td>328178.04</td>\n",
       "    </tr>\n",
       "    <tr>\n",
       "      <td>17</td>\n",
       "      <td>2018.0</td>\n",
       "      <td>1.0</td>\n",
       "      <td>81618.35</td>\n",
       "      <td>352150.75</td>\n",
       "    </tr>\n",
       "    <tr>\n",
       "      <td>18</td>\n",
       "      <td>2018.0</td>\n",
       "      <td>2.0</td>\n",
       "      <td>77399.88</td>\n",
       "      <td>331139.58</td>\n",
       "    </tr>\n",
       "    <tr>\n",
       "      <td>19</td>\n",
       "      <td>2018.0</td>\n",
       "      <td>3.0</td>\n",
       "      <td>95958.39</td>\n",
       "      <td>409591.99</td>\n",
       "    </tr>\n",
       "    <tr>\n",
       "      <td>20</td>\n",
       "      <td>2018.0</td>\n",
       "      <td>4.0</td>\n",
       "      <td>103370.89</td>\n",
       "      <td>435705.69</td>\n",
       "    </tr>\n",
       "    <tr>\n",
       "      <td>21</td>\n",
       "      <td>2018.0</td>\n",
       "      <td>5.0</td>\n",
       "      <td>120369.64</td>\n",
       "      <td>504302.89</td>\n",
       "    </tr>\n",
       "    <tr>\n",
       "      <td>22</td>\n",
       "      <td>2018.0</td>\n",
       "      <td>6.0</td>\n",
       "      <td>130917.09</td>\n",
       "      <td>545595.09</td>\n",
       "    </tr>\n",
       "    <tr>\n",
       "      <td>23</td>\n",
       "      <td>2018.0</td>\n",
       "      <td>7.0</td>\n",
       "      <td>161878.40</td>\n",
       "      <td>671235.75</td>\n",
       "    </tr>\n",
       "  </tbody>\n",
       "</table>\n",
       "</div>"
      ],
      "text/plain": [
       "      year  month  net_revenue  gross_billings\n",
       "0   2016.0    8.0       635.12         3810.72\n",
       "1   2016.0    9.0      2746.35        16478.10\n",
       "2   2016.0   10.0      4805.56        28833.36\n",
       "3   2016.0   11.0      6402.37        38414.22\n",
       "4   2016.0   12.0      8575.93        51103.98\n",
       "5   2017.0    1.0     12943.49        69952.14\n",
       "6   2017.0    2.0     15410.61        82967.76\n",
       "7   2017.0    3.0     21550.51       115218.81\n",
       "8   2017.0    4.0     22890.05       122019.60\n",
       "9   2017.0    5.0     28323.93       150345.78\n",
       "10  2017.0    6.0     32824.67       169077.42\n",
       "11  2017.0    7.0     36960.00       183187.50\n",
       "12  2017.0    8.0     43617.82       210495.57\n",
       "13  2017.0    9.0     50341.67       233801.67\n",
       "14  2017.0   10.0     59484.28       274740.48\n",
       "15  2017.0   11.0     60950.91       280036.11\n",
       "16  2017.0   12.0     74511.39       328178.04\n",
       "17  2018.0    1.0     81618.35       352150.75\n",
       "18  2018.0    2.0     77399.88       331139.58\n",
       "19  2018.0    3.0     95958.39       409591.99\n",
       "20  2018.0    4.0    103370.89       435705.69\n",
       "21  2018.0    5.0    120369.64       504302.89\n",
       "22  2018.0    6.0    130917.09       545595.09\n",
       "23  2018.0    7.0    161878.40       671235.75"
      ]
     },
     "execution_count": 27,
     "metadata": {},
     "output_type": "execute_result"
    }
   ],
   "source": [
    "query='''\n",
    "WITH CTE \n",
    "AS \n",
    "(SELECT \n",
    "    EXTRACT(YEAR FROM booked_at) as year,\n",
    "    EXTRACT(MONTH FROM booked_at) as month,\n",
    "    cc.service_id,\n",
    "    cc.requester_id,\n",
    "    cc.booking_total as booking_total,\n",
    "    pp.fee as owner_fee_perc, \n",
    "    (cc.booking_total * pp.fee) as owner_fee,\n",
    "    (cc.booking_total + cc.booking_total * pp.fee) as gross_billings,\n",
    "    ss.fee as service_fee_perc,\n",
    "    ss.fee * cc.booking_total as service_fee,\n",
    "    ((ss.fee * cc.booking_total) + (cc.booking_total*pp.fee)) as net_revenue,\n",
    "    booking_total - ss.fee * cc.booking_total as provider_payment\n",
    "FROM \n",
    "    conversations_conversation as cc\n",
    "JOIN\n",
    "    services_service ss ON cc.service_id = ss.id\n",
    "JOIN\n",
    "    people_person pp ON pp.id = cc.requester_id\n",
    "WHERE\n",
    "    cc.booked_at IS NOT NULL\n",
    "AND\n",
    "    cc.cancelled_at IS NULL\n",
    "AND\n",
    "    cc.booked_at < date'2018-08-01' )\n",
    "SELECT \n",
    " year,month, SUM(net_revenue) as net_revenue, SUM(gross_billings) as gross_billings\n",
    "FROM cte\n",
    "GROUP BY\n",
    "    year, month\n",
    "ORDER BY year ASC\n",
    ";\n",
    "\n",
    ";'''\n",
    "df_revenue2 = pd.read_sql_query(query,conn)\n",
    "df_revenue2"
   ]
  },
  {
   "cell_type": "code",
   "execution_count": 28,
   "metadata": {},
   "outputs": [
    {
     "data": {
      "image/png": "[encoded data removed]",
      "text/plain": [
       "<Figure size 720x288 with 1 Axes>"
      ]
     },
     "metadata": {
      "needs_background": "light"
     },
     "output_type": "display_data"
    }
   ],
   "source": [
    "plt.figure(figsize=(10,4))\n",
    "plt.plot(df_revenue2['gross_billings'])\n",
    "plt.ylabel('Gross Billings')\n",
    "plt.xlabel('# Months After 2016-08')\n",
    "plt.title('Gross Billings From 2016-08 to 2018-08')\n",
    "plt.show();"
   ]
  },
  {
   "cell_type": "code",
   "execution_count": 29,
   "metadata": {},
   "outputs": [
    {
     "data": {
      "image/png": "[encoded data removed]",
      "text/plain": [
       "<Figure size 720x288 with 1 Axes>"
      ]
     },
     "metadata": {
      "needs_background": "light"
     },
     "output_type": "display_data"
    }
   ],
   "source": [
    "plt.figure(figsize=(10,4))\n",
    "plt.plot(df_revenue2['net_revenue'])\n",
    "plt.ylabel('Net Revenue')\n",
    "plt.xlabel('# Months After 2016-08')\n",
    "plt.title('Net Revenue From 2016-08 to 2018-08')\n",
    "plt.show();"
   ]
  },
  {
   "cell_type": "markdown",
   "metadata": {},
   "source": [
    "Yes, both are increasing.\n",
    "\n",
    "Let's also explore the number of services and their growth, and also the number of users. "
   ]
  },
  {
   "cell_type": "markdown",
   "metadata": {},
   "source": []
  },
  {
   "cell_type": "code",
   "execution_count": 30,
   "metadata": {},
   "outputs": [
    {
     "data": {
      "image/png": "[encoded data removed]",
      "text/plain": [
       "<Figure size 720x288 with 1 Axes>"
      ]
     },
     "metadata": {
      "needs_background": "light"
     },
     "output_type": "display_data"
    }
   ],
   "source": [
    "query=''' \n",
    "WITH CTE \n",
    "AS \n",
    "(SELECT \n",
    "    EXTRACT(YEAR FROM date_joined) as year,\n",
    "    EXTRACT(MONTH FROM date_joined) as month,\n",
    " \tid as id\n",
    " FROM\n",
    " \tpeople_person\n",
    "WHERE\n",
    "\tdate_joined < date('2018-08-01'))\n",
    "SELECT \n",
    " COUNT(id) as total_users_joined\n",
    "FROM cte\n",
    "GROUP BY\n",
    "    year, month\n",
    "ORDER BY year ASC;\n",
    "'''\n",
    "df_user_growth = pd.read_sql_query(query,conn)\n",
    "plt.figure(figsize=(10,4))\n",
    "plt.plot(df_user_growth['total_users_joined'])\n",
    "plt.ylabel('Number of Users Joined')\n",
    "plt.xlabel('# Months After 2016-08')\n",
    "plt.title('Monthly Added Users From 2016-08 to 2018-08')\n",
    "plt.show();"
   ]
  },
  {
   "cell_type": "code",
   "execution_count": 31,
   "metadata": {},
   "outputs": [
    {
     "data": {
      "image/png": "[encoded data removed]",
      "text/plain": [
       "<Figure size 720x288 with 1 Axes>"
      ]
     },
     "metadata": {
      "needs_background": "light"
     },
     "output_type": "display_data"
    }
   ],
   "source": [
    "query = '''\n",
    "WITH CTE AS\n",
    "(SELECT \n",
    "    EXTRACT(YEAR FROM added) as year,\n",
    "    EXTRACT(MONTH FROM added) as month,\n",
    "    service_type\n",
    "FROM\n",
    "    services_service\n",
    "WHERE added < date '2018-08-01')\n",
    "SELECT year, month, service_type, COUNT(service_type) as count\n",
    "FROM cte\n",
    "WHERE service_type = 'dog-walking'\n",
    "GROUP BY \n",
    "    year, month, service_type\n",
    "ORDER BY\n",
    "    year ASC, month;'''\n",
    "df_dog_walking = pd.read_sql_query(query,conn)\n",
    "plt.figure(figsize=(10,4))\n",
    "plt.plot(df_dog_walking['count'])\n",
    "plt.ylabel('# Added')\n",
    "plt.ylim(0,650)\n",
    "plt.xlabel('# Months After 2016-08')\n",
    "plt.title('Monthly Added Dog-Walking Services From 2016-08 to 2018-08')\n",
    "plt.show();"
   ]
  },
  {
   "cell_type": "code",
   "execution_count": 32,
   "metadata": {
    "scrolled": false
   },
   "outputs": [
    {
     "data": {
      "image/png": "[encoded data removed]",
      "text/plain": [
       "<Figure size 720x288 with 1 Axes>"
      ]
     },
     "metadata": {
      "needs_background": "light"
     },
     "output_type": "display_data"
    }
   ],
   "source": [
    "query = '''\n",
    "WITH CTE AS\n",
    "(SELECT \n",
    "    EXTRACT(YEAR FROM added) as year,\n",
    "    EXTRACT(MONTH FROM added) as month,\n",
    "    service_type\n",
    "FROM\n",
    "    services_service\n",
    "WHERE added < date '2018-08-01')\n",
    "SELECT year, month, service_type, COUNT(service_type) as count\n",
    "FROM cte\n",
    "WHERE service_type = 'day-care'\n",
    "GROUP BY \n",
    "    year, month, service_type\n",
    "ORDER BY\n",
    "    year ASC, month;'''\n",
    "df_day_care = pd.read_sql_query(query,conn)\n",
    "plt.figure(figsize=(10,4))\n",
    "plt.plot(df_day_care['count'])\n",
    "plt.ylim(0,650)\n",
    "plt.ylabel('# Added')\n",
    "plt.xlabel('# Months After 2016-08')\n",
    "plt.title('Monthly Added Day-Care Services From 2016-08 to 2018-08')\n",
    "plt.show();"
   ]
  },
  {
   "cell_type": "code",
   "execution_count": 33,
   "metadata": {},
   "outputs": [
    {
     "data": {
      "image/png": "[encoded data removed]",
      "text/plain": [
       "<Figure size 720x288 with 1 Axes>"
      ]
     },
     "metadata": {
      "needs_background": "light"
     },
     "output_type": "display_data"
    }
   ],
   "source": [
    "query = '''\n",
    "WITH CTE AS\n",
    "(SELECT \n",
    "    EXTRACT(YEAR FROM added) as year,\n",
    "    EXTRACT(MONTH FROM added) as month,\n",
    "    service_type\n",
    "FROM\n",
    "    services_service\n",
    "WHERE added < date '2018-08-01')\n",
    "SELECT year, month, service_type, COUNT(service_type) as count\n",
    "FROM cte\n",
    "WHERE service_type = 'boarding'\n",
    "GROUP BY \n",
    "    year, month, service_type\n",
    "ORDER BY\n",
    "    year ASC, month;'''\n",
    "df_boarding = pd.read_sql_query(query,conn)\n",
    "plt.figure(figsize=(10,4))\n",
    "plt.plot(df_boarding['count'])\n",
    "plt.ylim(0,650)\n",
    "plt.ylabel('# Added')\n",
    "plt.xlabel('# Months After 2016-08')\n",
    "plt.title('Monthly Added Boarding Services From 2016-08 to 2018-08')\n",
    "plt.show();"
   ]
  },
  {
   "cell_type": "markdown",
   "metadata": {},
   "source": [
    "### The key take away is that the data above shows that the company itself is growing. The growth in number of users added and the number of services leads to the potential of more bookings to be completed, thus attributing to increases in Net Revenue and Gross Billings."
   ]
  },
  {
   "cell_type": "markdown",
   "metadata": {},
   "source": [
    " ## VI. Search Engine Marketing (VI)."
   ]
  },
  {
   "cell_type": "markdown",
   "metadata": {},
   "source": [
    "#### Search engine advertising is a huge driver of new user accounts. Users that are aquired through search engine marketing can be identified by looking at people_person.channel . These users will have 'Google' listed there. <br><br> Historically, this company spent an average of \\\\$30 per account to advertise in the 2nd position on Google. <br><br> However, on 2018-05-04 , they decided to start bidding for the 1st position. Since 2018-05-04 , they have spent \\\\$207180 in total."
   ]
  },
  {
   "cell_type": "markdown",
   "metadata": {},
   "source": [
    "### 1. For each day,determine the count of users that joined and were acquired through Google. Plot this and confirm there is an inflection point on or near 2018-05-04 ."
   ]
  },
  {
   "cell_type": "code",
   "execution_count": 34,
   "metadata": {},
   "outputs": [
    {
     "data": {
      "image/png": "[encoded data removed]",
      "text/plain": [
       "<Figure size 720x288 with 1 Axes>"
      ]
     },
     "metadata": {
      "needs_background": "light"
     },
     "output_type": "display_data"
    }
   ],
   "source": [
    "query='''\n",
    "SELECT\n",
    "    DATE(date_joined) as date, count(id) as count, channel\n",
    "FROM\n",
    "    people_person\n",
    "WHERE \n",
    "    channel='Google'\n",
    "GROUP BY\n",
    "    channel, date\n",
    "ORDER BY\n",
    "    date\n",
    "'''\n",
    "df_google = pd.read_sql_query(query,conn)\n",
    "plt.figure(figsize=(10,4))\n",
    "plt.plot(df_google['count'])\n",
    "plt.ylabel('# Added')\n",
    "plt.xlabel('# Days After 2016-08')\n",
    "plt.title('Daily Number of Users Added Via Google Channel From 2016-08 to 2018-08')\n",
    "plt.show();"
   ]
  },
  {
   "cell_type": "markdown",
   "metadata": {},
   "source": [
    "It appears that there is an inflection point."
   ]
  },
  {
   "cell_type": "markdown",
   "metadata": {},
   "source": [
    "### 2. How many users were acquired via Google advertising since 2018-05-04 and what was the average cost per account?"
   ]
  },
  {
   "cell_type": "markdown",
   "metadata": {},
   "source": [
    "First, we need to find the number of users added via google and multiply that by 30 to get the cost and number of users added before 2018-05-04."
   ]
  },
  {
   "cell_type": "code",
   "execution_count": 35,
   "metadata": {},
   "outputs": [
    {
     "data": {
      "text/html": [
       "<div>\n",
       "<style scoped>\n",
       "    .dataframe tbody tr th:only-of-type {\n",
       "        vertical-align: middle;\n",
       "    }\n",
       "\n",
       "    .dataframe tbody tr th {\n",
       "        vertical-align: top;\n",
       "    }\n",
       "\n",
       "    .dataframe thead th {\n",
       "        text-align: right;\n",
       "    }\n",
       "</style>\n",
       "<table border=\"1\" class=\"dataframe\">\n",
       "  <thead>\n",
       "    <tr style=\"text-align: right;\">\n",
       "      <th></th>\n",
       "      <th>sum_users_google</th>\n",
       "    </tr>\n",
       "  </thead>\n",
       "  <tbody>\n",
       "    <tr>\n",
       "      <td>0</td>\n",
       "      <td>14262</td>\n",
       "    </tr>\n",
       "  </tbody>\n",
       "</table>\n",
       "</div>"
      ],
      "text/plain": [
       "   sum_users_google\n",
       "0             14262"
      ]
     },
     "execution_count": 35,
     "metadata": {},
     "output_type": "execute_result"
    }
   ],
   "source": [
    "query = '''\n",
    "SELECT\n",
    "    COUNT(*) as sum_users_google\n",
    "FROM\n",
    "    people_person\n",
    "WHERE \n",
    "    channel='Google'\n",
    ";'''\n",
    "df_google_sum = pd.read_sql_query(query,conn)\n",
    "df_google_sum"
   ]
  },
  {
   "cell_type": "code",
   "execution_count": 36,
   "metadata": {},
   "outputs": [
    {
     "data": {
      "text/plain": [
       "14262"
      ]
     },
     "execution_count": 36,
     "metadata": {},
     "output_type": "execute_result"
    }
   ],
   "source": [
    "sum_google = df_google_sum.loc[0][0]\n",
    "sum_google"
   ]
  },
  {
   "cell_type": "code",
   "execution_count": 37,
   "metadata": {},
   "outputs": [
    {
     "data": {
      "text/html": [
       "<div>\n",
       "<style scoped>\n",
       "    .dataframe tbody tr th:only-of-type {\n",
       "        vertical-align: middle;\n",
       "    }\n",
       "\n",
       "    .dataframe tbody tr th {\n",
       "        vertical-align: top;\n",
       "    }\n",
       "\n",
       "    .dataframe thead th {\n",
       "        text-align: right;\n",
       "    }\n",
       "</style>\n",
       "<table border=\"1\" class=\"dataframe\">\n",
       "  <thead>\n",
       "    <tr style=\"text-align: right;\">\n",
       "      <th></th>\n",
       "      <th>count</th>\n",
       "    </tr>\n",
       "  </thead>\n",
       "  <tbody>\n",
       "    <tr>\n",
       "      <td>0</td>\n",
       "      <td>9658</td>\n",
       "    </tr>\n",
       "  </tbody>\n",
       "</table>\n",
       "</div>"
      ],
      "text/plain": [
       "   count\n",
       "0   9658"
      ]
     },
     "execution_count": 37,
     "metadata": {},
     "output_type": "execute_result"
    }
   ],
   "source": [
    "query = '''\n",
    "SELECT\n",
    "    COUNT(*)\n",
    "FROM\n",
    "    people_person\n",
    "WHERE \n",
    "    channel='Google'\n",
    "AND\n",
    "    date_joined < DATE '2018-05-04'\n",
    ";'''\n",
    "df_g_users_before_may = pd.read_sql_query(query,conn)\n",
    "df_g_users_before_may"
   ]
  },
  {
   "cell_type": "code",
   "execution_count": 38,
   "metadata": {},
   "outputs": [
    {
     "data": {
      "text/plain": [
       "9658"
      ]
     },
     "execution_count": 38,
     "metadata": {},
     "output_type": "execute_result"
    }
   ],
   "source": [
    "sum_users_before_may = df_g_users_before_may.loc[0][0]\n",
    "sum_users_before_may"
   ]
  },
  {
   "cell_type": "code",
   "execution_count": 39,
   "metadata": {},
   "outputs": [
    {
     "data": {
      "text/plain": [
       "4604"
      ]
     },
     "execution_count": 39,
     "metadata": {},
     "output_type": "execute_result"
    }
   ],
   "source": [
    "sum_since_may = sum_google - sum_users_before_may\n",
    "\n",
    "sum_since_may"
   ]
  },
  {
   "cell_type": "code",
   "execution_count": 40,
   "metadata": {},
   "outputs": [
    {
     "name": "stdout",
     "output_type": "stream",
     "text": [
      "The number of users aquired via Google since 2018-05-04 is 4604,\n",
      "with an average $45.0 spent per user.\n",
      "\n"
     ]
    }
   ],
   "source": [
    "print(f'The number of users aquired via Google since 2018-05-04 is {sum_since_may},\\n'\n",
    "      f'with an average ${207180/sum_since_may} spent per user.\\n')"
   ]
  },
  {
   "cell_type": "markdown",
   "metadata": {},
   "source": [
    "### 3. Estimate how many users would have been aquired had the company not changed it's bidding strategy. What would have been the marketing spend in that case?\n",
    "\n",
    "- Let's find out the growth before 2018-05-04, find the regression of the growth, then estimate how many more users would have been added.\n",
    "- Daily growth would be overkill, so lets consider the growth rate of how many users are from the Google channel monthly.\n",
    "- Let's also exclude the month of 2018-05 since it has not completed."
   ]
  },
  {
   "cell_type": "code",
   "execution_count": 41,
   "metadata": {},
   "outputs": [
    {
     "data": {
      "text/html": [
       "<div>\n",
       "<style scoped>\n",
       "    .dataframe tbody tr th:only-of-type {\n",
       "        vertical-align: middle;\n",
       "    }\n",
       "\n",
       "    .dataframe tbody tr th {\n",
       "        vertical-align: top;\n",
       "    }\n",
       "\n",
       "    .dataframe thead th {\n",
       "        text-align: right;\n",
       "    }\n",
       "</style>\n",
       "<table border=\"1\" class=\"dataframe\">\n",
       "  <thead>\n",
       "    <tr style=\"text-align: right;\">\n",
       "      <th></th>\n",
       "      <th>year</th>\n",
       "      <th>month</th>\n",
       "      <th>count</th>\n",
       "    </tr>\n",
       "  </thead>\n",
       "  <tbody>\n",
       "    <tr>\n",
       "      <td>0</td>\n",
       "      <td>2016.0</td>\n",
       "      <td>8.0</td>\n",
       "      <td>20</td>\n",
       "    </tr>\n",
       "    <tr>\n",
       "      <td>1</td>\n",
       "      <td>2016.0</td>\n",
       "      <td>9.0</td>\n",
       "      <td>52</td>\n",
       "    </tr>\n",
       "    <tr>\n",
       "      <td>2</td>\n",
       "      <td>2016.0</td>\n",
       "      <td>10.0</td>\n",
       "      <td>111</td>\n",
       "    </tr>\n",
       "    <tr>\n",
       "      <td>3</td>\n",
       "      <td>2016.0</td>\n",
       "      <td>11.0</td>\n",
       "      <td>147</td>\n",
       "    </tr>\n",
       "    <tr>\n",
       "      <td>4</td>\n",
       "      <td>2016.0</td>\n",
       "      <td>12.0</td>\n",
       "      <td>213</td>\n",
       "    </tr>\n",
       "    <tr>\n",
       "      <td>5</td>\n",
       "      <td>2017.0</td>\n",
       "      <td>1.0</td>\n",
       "      <td>240</td>\n",
       "    </tr>\n",
       "    <tr>\n",
       "      <td>6</td>\n",
       "      <td>2017.0</td>\n",
       "      <td>2.0</td>\n",
       "      <td>250</td>\n",
       "    </tr>\n",
       "    <tr>\n",
       "      <td>7</td>\n",
       "      <td>2017.0</td>\n",
       "      <td>3.0</td>\n",
       "      <td>333</td>\n",
       "    </tr>\n",
       "    <tr>\n",
       "      <td>8</td>\n",
       "      <td>2017.0</td>\n",
       "      <td>4.0</td>\n",
       "      <td>338</td>\n",
       "    </tr>\n",
       "    <tr>\n",
       "      <td>9</td>\n",
       "      <td>2017.0</td>\n",
       "      <td>5.0</td>\n",
       "      <td>405</td>\n",
       "    </tr>\n",
       "    <tr>\n",
       "      <td>10</td>\n",
       "      <td>2017.0</td>\n",
       "      <td>6.0</td>\n",
       "      <td>445</td>\n",
       "    </tr>\n",
       "    <tr>\n",
       "      <td>11</td>\n",
       "      <td>2017.0</td>\n",
       "      <td>7.0</td>\n",
       "      <td>504</td>\n",
       "    </tr>\n",
       "    <tr>\n",
       "      <td>12</td>\n",
       "      <td>2017.0</td>\n",
       "      <td>8.0</td>\n",
       "      <td>568</td>\n",
       "    </tr>\n",
       "    <tr>\n",
       "      <td>13</td>\n",
       "      <td>2017.0</td>\n",
       "      <td>9.0</td>\n",
       "      <td>587</td>\n",
       "    </tr>\n",
       "    <tr>\n",
       "      <td>14</td>\n",
       "      <td>2017.0</td>\n",
       "      <td>10.0</td>\n",
       "      <td>610</td>\n",
       "    </tr>\n",
       "    <tr>\n",
       "      <td>15</td>\n",
       "      <td>2017.0</td>\n",
       "      <td>11.0</td>\n",
       "      <td>625</td>\n",
       "    </tr>\n",
       "    <tr>\n",
       "      <td>16</td>\n",
       "      <td>2017.0</td>\n",
       "      <td>12.0</td>\n",
       "      <td>788</td>\n",
       "    </tr>\n",
       "    <tr>\n",
       "      <td>17</td>\n",
       "      <td>2018.0</td>\n",
       "      <td>1.0</td>\n",
       "      <td>818</td>\n",
       "    </tr>\n",
       "    <tr>\n",
       "      <td>18</td>\n",
       "      <td>2018.0</td>\n",
       "      <td>2.0</td>\n",
       "      <td>737</td>\n",
       "    </tr>\n",
       "    <tr>\n",
       "      <td>19</td>\n",
       "      <td>2018.0</td>\n",
       "      <td>3.0</td>\n",
       "      <td>875</td>\n",
       "    </tr>\n",
       "    <tr>\n",
       "      <td>20</td>\n",
       "      <td>2018.0</td>\n",
       "      <td>4.0</td>\n",
       "      <td>877</td>\n",
       "    </tr>\n",
       "  </tbody>\n",
       "</table>\n",
       "</div>"
      ],
      "text/plain": [
       "      year  month  count\n",
       "0   2016.0    8.0     20\n",
       "1   2016.0    9.0     52\n",
       "2   2016.0   10.0    111\n",
       "3   2016.0   11.0    147\n",
       "4   2016.0   12.0    213\n",
       "5   2017.0    1.0    240\n",
       "6   2017.0    2.0    250\n",
       "7   2017.0    3.0    333\n",
       "8   2017.0    4.0    338\n",
       "9   2017.0    5.0    405\n",
       "10  2017.0    6.0    445\n",
       "11  2017.0    7.0    504\n",
       "12  2017.0    8.0    568\n",
       "13  2017.0    9.0    587\n",
       "14  2017.0   10.0    610\n",
       "15  2017.0   11.0    625\n",
       "16  2017.0   12.0    788\n",
       "17  2018.0    1.0    818\n",
       "18  2018.0    2.0    737\n",
       "19  2018.0    3.0    875\n",
       "20  2018.0    4.0    877"
      ]
     },
     "execution_count": 41,
     "metadata": {},
     "output_type": "execute_result"
    }
   ],
   "source": [
    "query='''\n",
    "SELECT\n",
    "    EXTRACT(YEAR FROM date_joined) as year,\n",
    "    EXTRACT(MONTH FROM date_joined) as month,\n",
    "    count(id) as count\n",
    "FROM\n",
    "    people_person\n",
    "WHERE \n",
    "    channel='Google'\n",
    "AND\n",
    "    date_joined < DATE '2018-05-01'\n",
    "GROUP BY\n",
    "    year,month, channel\n",
    "ORDER BY\n",
    "    year,month ASC\n",
    ";'''\n",
    "df_growth = pd.read_sql_query(query,conn)\n",
    "df_growth"
   ]
  },
  {
   "cell_type": "code",
   "execution_count": 42,
   "metadata": {},
   "outputs": [],
   "source": [
    "df_growth['sum'] = df_growth['count'].cumsum()"
   ]
  },
  {
   "cell_type": "code",
   "execution_count": 43,
   "metadata": {},
   "outputs": [],
   "source": [
    "df_growth['number_of_months'] = df_growth.index"
   ]
  },
  {
   "cell_type": "code",
   "execution_count": 44,
   "metadata": {},
   "outputs": [
    {
     "data": {
      "text/html": [
       "<div>\n",
       "<style scoped>\n",
       "    .dataframe tbody tr th:only-of-type {\n",
       "        vertical-align: middle;\n",
       "    }\n",
       "\n",
       "    .dataframe tbody tr th {\n",
       "        vertical-align: top;\n",
       "    }\n",
       "\n",
       "    .dataframe thead th {\n",
       "        text-align: right;\n",
       "    }\n",
       "</style>\n",
       "<table border=\"1\" class=\"dataframe\">\n",
       "  <thead>\n",
       "    <tr style=\"text-align: right;\">\n",
       "      <th></th>\n",
       "      <th>year</th>\n",
       "      <th>month</th>\n",
       "      <th>count</th>\n",
       "      <th>sum</th>\n",
       "      <th>number_of_months</th>\n",
       "    </tr>\n",
       "  </thead>\n",
       "  <tbody>\n",
       "    <tr>\n",
       "      <td>0</td>\n",
       "      <td>2016.0</td>\n",
       "      <td>8.0</td>\n",
       "      <td>20</td>\n",
       "      <td>20</td>\n",
       "      <td>0</td>\n",
       "    </tr>\n",
       "    <tr>\n",
       "      <td>1</td>\n",
       "      <td>2016.0</td>\n",
       "      <td>9.0</td>\n",
       "      <td>52</td>\n",
       "      <td>72</td>\n",
       "      <td>1</td>\n",
       "    </tr>\n",
       "    <tr>\n",
       "      <td>2</td>\n",
       "      <td>2016.0</td>\n",
       "      <td>10.0</td>\n",
       "      <td>111</td>\n",
       "      <td>183</td>\n",
       "      <td>2</td>\n",
       "    </tr>\n",
       "    <tr>\n",
       "      <td>3</td>\n",
       "      <td>2016.0</td>\n",
       "      <td>11.0</td>\n",
       "      <td>147</td>\n",
       "      <td>330</td>\n",
       "      <td>3</td>\n",
       "    </tr>\n",
       "    <tr>\n",
       "      <td>4</td>\n",
       "      <td>2016.0</td>\n",
       "      <td>12.0</td>\n",
       "      <td>213</td>\n",
       "      <td>543</td>\n",
       "      <td>4</td>\n",
       "    </tr>\n",
       "    <tr>\n",
       "      <td>5</td>\n",
       "      <td>2017.0</td>\n",
       "      <td>1.0</td>\n",
       "      <td>240</td>\n",
       "      <td>783</td>\n",
       "      <td>5</td>\n",
       "    </tr>\n",
       "    <tr>\n",
       "      <td>6</td>\n",
       "      <td>2017.0</td>\n",
       "      <td>2.0</td>\n",
       "      <td>250</td>\n",
       "      <td>1033</td>\n",
       "      <td>6</td>\n",
       "    </tr>\n",
       "    <tr>\n",
       "      <td>7</td>\n",
       "      <td>2017.0</td>\n",
       "      <td>3.0</td>\n",
       "      <td>333</td>\n",
       "      <td>1366</td>\n",
       "      <td>7</td>\n",
       "    </tr>\n",
       "    <tr>\n",
       "      <td>8</td>\n",
       "      <td>2017.0</td>\n",
       "      <td>4.0</td>\n",
       "      <td>338</td>\n",
       "      <td>1704</td>\n",
       "      <td>8</td>\n",
       "    </tr>\n",
       "    <tr>\n",
       "      <td>9</td>\n",
       "      <td>2017.0</td>\n",
       "      <td>5.0</td>\n",
       "      <td>405</td>\n",
       "      <td>2109</td>\n",
       "      <td>9</td>\n",
       "    </tr>\n",
       "    <tr>\n",
       "      <td>10</td>\n",
       "      <td>2017.0</td>\n",
       "      <td>6.0</td>\n",
       "      <td>445</td>\n",
       "      <td>2554</td>\n",
       "      <td>10</td>\n",
       "    </tr>\n",
       "    <tr>\n",
       "      <td>11</td>\n",
       "      <td>2017.0</td>\n",
       "      <td>7.0</td>\n",
       "      <td>504</td>\n",
       "      <td>3058</td>\n",
       "      <td>11</td>\n",
       "    </tr>\n",
       "    <tr>\n",
       "      <td>12</td>\n",
       "      <td>2017.0</td>\n",
       "      <td>8.0</td>\n",
       "      <td>568</td>\n",
       "      <td>3626</td>\n",
       "      <td>12</td>\n",
       "    </tr>\n",
       "    <tr>\n",
       "      <td>13</td>\n",
       "      <td>2017.0</td>\n",
       "      <td>9.0</td>\n",
       "      <td>587</td>\n",
       "      <td>4213</td>\n",
       "      <td>13</td>\n",
       "    </tr>\n",
       "    <tr>\n",
       "      <td>14</td>\n",
       "      <td>2017.0</td>\n",
       "      <td>10.0</td>\n",
       "      <td>610</td>\n",
       "      <td>4823</td>\n",
       "      <td>14</td>\n",
       "    </tr>\n",
       "    <tr>\n",
       "      <td>15</td>\n",
       "      <td>2017.0</td>\n",
       "      <td>11.0</td>\n",
       "      <td>625</td>\n",
       "      <td>5448</td>\n",
       "      <td>15</td>\n",
       "    </tr>\n",
       "    <tr>\n",
       "      <td>16</td>\n",
       "      <td>2017.0</td>\n",
       "      <td>12.0</td>\n",
       "      <td>788</td>\n",
       "      <td>6236</td>\n",
       "      <td>16</td>\n",
       "    </tr>\n",
       "    <tr>\n",
       "      <td>17</td>\n",
       "      <td>2018.0</td>\n",
       "      <td>1.0</td>\n",
       "      <td>818</td>\n",
       "      <td>7054</td>\n",
       "      <td>17</td>\n",
       "    </tr>\n",
       "    <tr>\n",
       "      <td>18</td>\n",
       "      <td>2018.0</td>\n",
       "      <td>2.0</td>\n",
       "      <td>737</td>\n",
       "      <td>7791</td>\n",
       "      <td>18</td>\n",
       "    </tr>\n",
       "    <tr>\n",
       "      <td>19</td>\n",
       "      <td>2018.0</td>\n",
       "      <td>3.0</td>\n",
       "      <td>875</td>\n",
       "      <td>8666</td>\n",
       "      <td>19</td>\n",
       "    </tr>\n",
       "    <tr>\n",
       "      <td>20</td>\n",
       "      <td>2018.0</td>\n",
       "      <td>4.0</td>\n",
       "      <td>877</td>\n",
       "      <td>9543</td>\n",
       "      <td>20</td>\n",
       "    </tr>\n",
       "  </tbody>\n",
       "</table>\n",
       "</div>"
      ],
      "text/plain": [
       "      year  month  count   sum  number_of_months\n",
       "0   2016.0    8.0     20    20                 0\n",
       "1   2016.0    9.0     52    72                 1\n",
       "2   2016.0   10.0    111   183                 2\n",
       "3   2016.0   11.0    147   330                 3\n",
       "4   2016.0   12.0    213   543                 4\n",
       "5   2017.0    1.0    240   783                 5\n",
       "6   2017.0    2.0    250  1033                 6\n",
       "7   2017.0    3.0    333  1366                 7\n",
       "8   2017.0    4.0    338  1704                 8\n",
       "9   2017.0    5.0    405  2109                 9\n",
       "10  2017.0    6.0    445  2554                10\n",
       "11  2017.0    7.0    504  3058                11\n",
       "12  2017.0    8.0    568  3626                12\n",
       "13  2017.0    9.0    587  4213                13\n",
       "14  2017.0   10.0    610  4823                14\n",
       "15  2017.0   11.0    625  5448                15\n",
       "16  2017.0   12.0    788  6236                16\n",
       "17  2018.0    1.0    818  7054                17\n",
       "18  2018.0    2.0    737  7791                18\n",
       "19  2018.0    3.0    875  8666                19\n",
       "20  2018.0    4.0    877  9543                20"
      ]
     },
     "execution_count": 44,
     "metadata": {},
     "output_type": "execute_result"
    }
   ],
   "source": [
    "df_growth"
   ]
  },
  {
   "cell_type": "markdown",
   "metadata": {},
   "source": [
    "### Our total userbase is increasing non-linearly."
   ]
  },
  {
   "cell_type": "code",
   "execution_count": 45,
   "metadata": {},
   "outputs": [
    {
     "data": {
      "image/png": "[encoded data removed]",
      "text/plain": [
       "<Figure size 720x288 with 1 Axes>"
      ]
     },
     "metadata": {
      "needs_background": "light"
     },
     "output_type": "display_data"
    }
   ],
   "source": [
    "plt.figure(figsize=(10,4))\n",
    "plt.plot(df_growth['sum'])\n",
    "plt.ylabel('Total # of Users')\n",
    "plt.xlabel('# Months After 2016-08')\n",
    "plt.xticks(df_growth['number_of_months'])\n",
    "plt.title('Monthly Number of Users Added Via Google Channel From 2016-08 to 2018-05-04')\n",
    "plt.show();"
   ]
  },
  {
   "cell_type": "markdown",
   "metadata": {},
   "source": [
    "### The Monthly number of users added monthly is increasing linearly month to month. "
   ]
  },
  {
   "cell_type": "code",
   "execution_count": 46,
   "metadata": {
    "scrolled": true
   },
   "outputs": [
    {
     "data": {
      "image/png": "[encoded data removed]",
      "text/plain": [
       "<Figure size 720x288 with 1 Axes>"
      ]
     },
     "metadata": {
      "needs_background": "light"
     },
     "output_type": "display_data"
    }
   ],
   "source": [
    "plt.figure(figsize=(10,4))\n",
    "plt.scatter(df_growth['number_of_months'],df_growth['count'])\n",
    "plt.ylabel('# Added')\n",
    "plt.xlabel('# Months After 2016-08')\n",
    "plt.xticks(df_growth['number_of_months'])\n",
    "plt.title('Monthly Number of Users Added Via Google Channel From 2016-08 to 2018-05')\n",
    "plt.show();"
   ]
  },
  {
   "cell_type": "markdown",
   "metadata": {},
   "source": [
    "#### So let's apply a linear regression via Stats models."
   ]
  },
  {
   "cell_type": "code",
   "execution_count": 47,
   "metadata": {},
   "outputs": [],
   "source": [
    "import statsmodels.api as sm"
   ]
  },
  {
   "cell_type": "code",
   "execution_count": 48,
   "metadata": {},
   "outputs": [],
   "source": [
    "x = df_growth['number_of_months']\n",
    "y = df_growth['count']"
   ]
  },
  {
   "cell_type": "code",
   "execution_count": 49,
   "metadata": {},
   "outputs": [
    {
     "data": {
      "text/html": [
       "<table class=\"simpletable\">\n",
       "<caption>OLS Regression Results</caption>\n",
       "<tr>\n",
       "  <th>Dep. Variable:</th>          <td>count</td>      <th>  R-squared (uncentered):</th>      <td>   0.996</td>\n",
       "</tr>\n",
       "<tr>\n",
       "  <th>Model:</th>                   <td>OLS</td>       <th>  Adj. R-squared (uncentered):</th> <td>   0.996</td>\n",
       "</tr>\n",
       "<tr>\n",
       "  <th>Method:</th>             <td>Least Squares</td>  <th>  F-statistic:       </th>          <td>   5533.</td>\n",
       "</tr>\n",
       "<tr>\n",
       "  <th>Date:</th>             <td>Thu, 12 Dec 2019</td> <th>  Prob (F-statistic):</th>          <td>6.48e-26</td>\n",
       "</tr>\n",
       "<tr>\n",
       "  <th>Time:</th>                 <td>00:43:02</td>     <th>  Log-Likelihood:    </th>          <td> -102.35</td>\n",
       "</tr>\n",
       "<tr>\n",
       "  <th>No. Observations:</th>      <td>    21</td>      <th>  AIC:               </th>          <td>   206.7</td>\n",
       "</tr>\n",
       "<tr>\n",
       "  <th>Df Residuals:</th>          <td>    20</td>      <th>  BIC:               </th>          <td>   207.7</td>\n",
       "</tr>\n",
       "<tr>\n",
       "  <th>Df Model:</th>              <td>     1</td>      <th>                     </th>              <td> </td>   \n",
       "</tr>\n",
       "<tr>\n",
       "  <th>Covariance Type:</th>      <td>nonrobust</td>    <th>                     </th>              <td> </td>   \n",
       "</tr>\n",
       "</table>\n",
       "<table class=\"simpletable\">\n",
       "<tr>\n",
       "          <td></td>            <th>coef</th>     <th>std err</th>      <th>t</th>      <th>P>|t|</th>  <th>[0.025</th>    <th>0.975]</th>  \n",
       "</tr>\n",
       "<tr>\n",
       "  <th>number_of_months</th> <td>   45.0341</td> <td>    0.605</td> <td>   74.387</td> <td> 0.000</td> <td>   43.771</td> <td>   46.297</td>\n",
       "</tr>\n",
       "</table>\n",
       "<table class=\"simpletable\">\n",
       "<tr>\n",
       "  <th>Omnibus:</th>       <td> 2.074</td> <th>  Durbin-Watson:     </th> <td>   2.335</td>\n",
       "</tr>\n",
       "<tr>\n",
       "  <th>Prob(Omnibus):</th> <td> 0.354</td> <th>  Jarque-Bera (JB):  </th> <td>   0.819</td>\n",
       "</tr>\n",
       "<tr>\n",
       "  <th>Skew:</th>          <td>-0.433</td> <th>  Prob(JB):          </th> <td>   0.664</td>\n",
       "</tr>\n",
       "<tr>\n",
       "  <th>Kurtosis:</th>      <td> 3.433</td> <th>  Cond. No.          </th> <td>    1.00</td>\n",
       "</tr>\n",
       "</table><br/><br/>Warnings:<br/>[1] Standard Errors assume that the covariance matrix of the errors is correctly specified."
      ],
      "text/plain": [
       "<class 'statsmodels.iolib.summary.Summary'>\n",
       "\"\"\"\n",
       "                                 OLS Regression Results                                \n",
       "=======================================================================================\n",
       "Dep. Variable:                  count   R-squared (uncentered):                   0.996\n",
       "Model:                            OLS   Adj. R-squared (uncentered):              0.996\n",
       "Method:                 Least Squares   F-statistic:                              5533.\n",
       "Date:                Thu, 12 Dec 2019   Prob (F-statistic):                    6.48e-26\n",
       "Time:                        00:43:02   Log-Likelihood:                         -102.35\n",
       "No. Observations:                  21   AIC:                                      206.7\n",
       "Df Residuals:                      20   BIC:                                      207.7\n",
       "Df Model:                           1                                                  \n",
       "Covariance Type:            nonrobust                                                  \n",
       "====================================================================================\n",
       "                       coef    std err          t      P>|t|      [0.025      0.975]\n",
       "------------------------------------------------------------------------------------\n",
       "number_of_months    45.0341      0.605     74.387      0.000      43.771      46.297\n",
       "==============================================================================\n",
       "Omnibus:                        2.074   Durbin-Watson:                   2.335\n",
       "Prob(Omnibus):                  0.354   Jarque-Bera (JB):                0.819\n",
       "Skew:                          -0.433   Prob(JB):                        0.664\n",
       "Kurtosis:                       3.433   Cond. No.                         1.00\n",
       "==============================================================================\n",
       "\n",
       "Warnings:\n",
       "[1] Standard Errors assume that the covariance matrix of the errors is correctly specified.\n",
       "\"\"\""
      ]
     },
     "execution_count": 49,
     "metadata": {},
     "output_type": "execute_result"
    }
   ],
   "source": [
    "model = sm.OLS(y, x).fit()\n",
    "\n",
    "y_pred = model.predict(x) # make the predictions by the model\n",
    "\n",
    "# Print out the statistics\n",
    "model.summary()"
   ]
  },
  {
   "cell_type": "code",
   "execution_count": 50,
   "metadata": {},
   "outputs": [
    {
     "data": {
      "image/png": "[encoded data removed]",
      "text/plain": [
       "<Figure size 720x288 with 1 Axes>"
      ]
     },
     "metadata": {
      "needs_background": "light"
     },
     "output_type": "display_data"
    }
   ],
   "source": [
    "plt.figure(figsize=(10,4))\n",
    "plt.scatter(x,y,linewidths=.1)\n",
    "plt.ylabel('# Added')\n",
    "plt.plot(x,y_pred)\n",
    "plt.xlabel('# Days After 2016-08')\n",
    "plt.title('Daily Number of Users Added Via Google Channel From 2016-08 to 2018-05-04')\n",
    "plt.show();"
   ]
  },
  {
   "cell_type": "code",
   "execution_count": 51,
   "metadata": {},
   "outputs": [
    {
     "data": {
      "text/plain": [
       "90"
      ]
     },
     "execution_count": 51,
     "metadata": {},
     "output_type": "execute_result"
    }
   ],
   "source": [
    "d0 = dt(2018,8,2)\n",
    "d1 = dt(2018,5,4)\n",
    "\n",
    "delta = d0-d1\n",
    "delta.days"
   ]
  },
  {
   "cell_type": "code",
   "execution_count": 52,
   "metadata": {
    "scrolled": true
   },
   "outputs": [
    {
     "data": {
      "text/plain": [
       "(946, 991, 1036)"
      ]
     },
     "execution_count": 52,
     "metadata": {},
     "output_type": "execute_result"
    }
   ],
   "source": [
    "#Month of 2018-05 added users\n",
    "may_user_adds = int(round(model.predict(21)[0]))\n",
    "june_user_adds = int(round(model.predict(22)[0]))\n",
    "july_user_adds = int(round(model.predict(23)[0]))\n",
    "may_user_adds, june_user_adds, july_user_adds"
   ]
  },
  {
   "cell_type": "code",
   "execution_count": 53,
   "metadata": {},
   "outputs": [
    {
     "data": {
      "text/plain": [
       "2973"
      ]
     },
     "execution_count": 53,
     "metadata": {},
     "output_type": "execute_result"
    }
   ],
   "source": [
    "approx_adds = may_user_adds + june_user_adds + july_user_adds\n",
    "approx_adds # This is the total of users added assuming no change to marketing "
   ]
  },
  {
   "cell_type": "code",
   "execution_count": 54,
   "metadata": {},
   "outputs": [
    {
     "data": {
      "text/plain": [
       "14262"
      ]
     },
     "execution_count": 54,
     "metadata": {},
     "output_type": "execute_result"
    }
   ],
   "source": [
    "# Actualy sum of users added via Google calculated before\n",
    "sum_google"
   ]
  },
  {
   "cell_type": "code",
   "execution_count": 55,
   "metadata": {},
   "outputs": [
    {
     "data": {
      "text/plain": [
       "12631"
      ]
     },
     "execution_count": 55,
     "metadata": {},
     "output_type": "execute_result"
    }
   ],
   "source": [
    "hyp_sum_google_users = sum_users_before_may + approx_adds\n",
    "hyp_sum_google_users"
   ]
  },
  {
   "cell_type": "code",
   "execution_count": 56,
   "metadata": {},
   "outputs": [
    {
     "data": {
      "text/plain": [
       "9658"
      ]
     },
     "execution_count": 56,
     "metadata": {},
     "output_type": "execute_result"
    }
   ],
   "source": [
    "sum_users_before_may"
   ]
  },
  {
   "cell_type": "code",
   "execution_count": 57,
   "metadata": {
    "scrolled": false
   },
   "outputs": [
    {
     "name": "stdout",
     "output_type": "stream",
     "text": [
      "The number of days after 2018-05-04 is 90 days or ~ three months.\n",
      "For 2018-05, there would have been 946 users added via the Google channel.\n",
      "For 2018-06, there would have been 991 users added via the Google channel.\n",
      "For 2018-07, there would have been 1036 users added via the Google channel.\n"
     ]
    }
   ],
   "source": [
    "print(f'The number of days after 2018-05-04 is {delta.days} days or ~ three months.')\n",
    "print(f'For 2018-05, there would have been {may_user_adds} users added via the Google channel.')\n",
    "print(f'For 2018-06, there would have been {june_user_adds} users added via the Google channel.')\n",
    "print(f'For 2018-07, there would have been {july_user_adds} users added via the Google channel.')"
   ]
  },
  {
   "cell_type": "markdown",
   "metadata": {},
   "source": [
    "## #3 Solution:"
   ]
  },
  {
   "cell_type": "code",
   "execution_count": 58,
   "metadata": {},
   "outputs": [
    {
     "name": "stdout",
     "output_type": "stream",
     "text": [
      "Assuming the company had not changed it's bidding strategy, there would have been approximately 12631 total users added via the Google channel.\n",
      "The marketing spend in this case would have been $89190 total, rather than the $207180 spent.\n"
     ]
    }
   ],
   "source": [
    "print(f'Assuming the company had not changed it\\'s bidding strategy, there would have been approximately '\n",
    "      f'{hyp_sum_google_users} total users added via the Google channel.')\n",
    "\n",
    "print(f'The marketing spend in this case would have been ${approx_adds*30} total, '\n",
    "      f'rather than the $207180 spent.')"
   ]
  },
  {
   "cell_type": "markdown",
   "metadata": {},
   "source": [
    "## 4. How many additional accounts were created? What was the marginal cost per account for these accounts? \n",
    "\n",
    "NOTE: By performing a monthly aggregation, I lost a bit of grainulaity in the process.\n",
    "By cutting out the few days of 2018-05, my approximations are a little bit off since the actual total of users is from the exact day of 2018-05-04 for the new bidding strategy on Google."
   ]
  },
  {
   "cell_type": "code",
   "execution_count": 59,
   "metadata": {},
   "outputs": [
    {
     "data": {
      "text/plain": [
       "1631"
      ]
     },
     "execution_count": 59,
     "metadata": {},
     "output_type": "execute_result"
    }
   ],
   "source": [
    "add_accounts_created = sum_google - hyp_sum_google_users\n",
    "add_accounts_created"
   ]
  },
  {
   "cell_type": "code",
   "execution_count": 60,
   "metadata": {},
   "outputs": [
    {
     "data": {
      "text/plain": [
       "117990"
      ]
     },
     "execution_count": 60,
     "metadata": {},
     "output_type": "execute_result"
    }
   ],
   "source": [
    "delta_cost = 207180 - approx_adds*30\n",
    "delta_cost"
   ]
  },
  {
   "cell_type": "code",
   "execution_count": 61,
   "metadata": {},
   "outputs": [
    {
     "data": {
      "text/plain": [
       "72.34"
      ]
     },
     "execution_count": 61,
     "metadata": {},
     "output_type": "execute_result"
    }
   ],
   "source": [
    "marginal_cost = round(delta_cost / add_accounts_created,2)\n",
    "marginal_cost"
   ]
  },
  {
   "cell_type": "code",
   "execution_count": 62,
   "metadata": {},
   "outputs": [
    {
     "name": "stdout",
     "output_type": "stream",
     "text": [
      "At a cost of approximately $72.34 per additional account,there were about 1631 additional accounts created using the new bidding strategy.\n"
     ]
    }
   ],
   "source": [
    "print(f'At a cost of approximately ${marginal_cost} per additional account,'\n",
    "      f'there were about {add_accounts_created} additional accounts created using the new bidding strategy.')"
   ]
  }
 ],
 "metadata": {
  "kernelspec": {
   "display_name": "Python 3",
   "language": "python",
   "name": "python3"
  },
  "language_info": {
   "codemirror_mode": {
    "name": "ipython",
    "version": 3
   },
   "file_extension": ".py",
   "mimetype": "text/x-python",
   "name": "python",
   "nbconvert_exporter": "python",
   "pygments_lexer": "ipython3",
   "version": "3.7.4"
  }
 },
 "nbformat": 4,
 "nbformat_minor": 2
}
