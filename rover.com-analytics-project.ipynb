{
 "cells": [
  {
   "cell_type": "code",
   "execution_count": 405,
   "metadata": {},
   "outputs": [],
   "source": [
    "# import sql engine, pandas, numpy\n",
    "import psycopg2\n",
    "import pandas as pd\n",
    "import numpy as np\n",
    "import matplotlib.pyplot as plt\n",
    "import statsmodels.api as sm\n",
    "from datetime import datetime as dt"
   ]
  },
  {
   "cell_type": "code",
   "execution_count": 2,
   "metadata": {},
   "outputs": [
    {
     "name": "stdout",
     "output_type": "stream",
     "text": [
      "README.md                         rover.com-analytics-project.ipynb\r\n",
      "db1.sqlite3\r\n"
     ]
    }
   ],
   "source": [
    "!ls\n"
   ]
  },
  {
   "cell_type": "code",
   "execution_count": 3,
   "metadata": {},
   "outputs": [],
   "source": [
    "# the sqlite database can be converted to use postgresql using pgloader\n",
    "# First you must have postgresql installed\n",
    "# Then create an empty db to load the database into\n",
    "# In this instance, I created a 'rover' db\n",
    "# I used postgresql to explore the data set, but use python via pscopg to visualize the query result\n",
    "\n",
    "# !pgloader db1.sqlite3 postgresql:///rover"
   ]
  },
  {
   "cell_type": "markdown",
   "metadata": {},
   "source": [
    "# EXERCISES\n"
   ]
  },
  {
   "cell_type": "markdown",
   "metadata": {},
   "source": [
    "# I. Exploring the Database"
   ]
  },
  {
   "cell_type": "code",
   "execution_count": 5,
   "metadata": {},
   "outputs": [],
   "source": [
    "conn = psycopg2.connect('dbname=rover')\n",
    "cur = conn.cursor()"
   ]
  },
  {
   "cell_type": "markdown",
   "metadata": {},
   "source": [
    "### 1. How many users have signed up?"
   ]
  },
  {
   "cell_type": "code",
   "execution_count": 26,
   "metadata": {},
   "outputs": [
    {
     "data": {
      "text/html": [
       "<div>\n",
       "<style scoped>\n",
       "    .dataframe tbody tr th:only-of-type {\n",
       "        vertical-align: middle;\n",
       "    }\n",
       "\n",
       "    .dataframe tbody tr th {\n",
       "        vertical-align: top;\n",
       "    }\n",
       "\n",
       "    .dataframe thead th {\n",
       "        text-align: right;\n",
       "    }\n",
       "</style>\n",
       "<table border=\"1\" class=\"dataframe\">\n",
       "  <thead>\n",
       "    <tr style=\"text-align: right;\">\n",
       "      <th></th>\n",
       "      <th>count</th>\n",
       "    </tr>\n",
       "  </thead>\n",
       "  <tbody>\n",
       "    <tr>\n",
       "      <td>0</td>\n",
       "      <td>64393</td>\n",
       "    </tr>\n",
       "  </tbody>\n",
       "</table>\n",
       "</div>"
      ],
      "text/plain": [
       "   count\n",
       "0  64393"
      ]
     },
     "execution_count": 26,
     "metadata": {},
     "output_type": "execute_result"
    }
   ],
   "source": [
    "query =  '''\n",
    "SELECT \n",
    "    COUNT(*)\n",
    "FROM\n",
    "\tpeople_person;\n",
    "    '''\n",
    "cur.execute(query)\n",
    "\n",
    "df_1= pd.read_sql_query(query,conn)\n",
    "df_1"
   ]
  },
  {
   "cell_type": "markdown",
   "metadata": {},
   "source": [
    "### 2. How many users signed up prior to 2018-02-03 ?"
   ]
  },
  {
   "cell_type": "code",
   "execution_count": 25,
   "metadata": {},
   "outputs": [
    {
     "data": {
      "text/html": [
       "<div>\n",
       "<style scoped>\n",
       "    .dataframe tbody tr th:only-of-type {\n",
       "        vertical-align: middle;\n",
       "    }\n",
       "\n",
       "    .dataframe tbody tr th {\n",
       "        vertical-align: top;\n",
       "    }\n",
       "\n",
       "    .dataframe thead th {\n",
       "        text-align: right;\n",
       "    }\n",
       "</style>\n",
       "<table border=\"1\" class=\"dataframe\">\n",
       "  <thead>\n",
       "    <tr style=\"text-align: right;\">\n",
       "      <th></th>\n",
       "      <th>count</th>\n",
       "    </tr>\n",
       "  </thead>\n",
       "  <tbody>\n",
       "    <tr>\n",
       "      <td>0</td>\n",
       "      <td>35826</td>\n",
       "    </tr>\n",
       "  </tbody>\n",
       "</table>\n",
       "</div>"
      ],
      "text/plain": [
       "   count\n",
       "0  35826"
      ]
     },
     "execution_count": 25,
     "metadata": {},
     "output_type": "execute_result"
    }
   ],
   "source": [
    "query =  '''\n",
    "SELECT \n",
    "    COUNT(*)\n",
    "FROM\n",
    "\tpeople_person\n",
    "WHERE date_joined < '2018-02-03'    \n",
    "    ;\n",
    "    '''\n",
    "df_2 = pd.read_sql_query(query,conn)\n",
    "df_2"
   ]
  },
  {
   "cell_type": "markdown",
   "metadata": {},
   "source": [
    "### 3. What percentage of users have added pets?\n",
    "#### One thing to note, when dealing with percentages, either cast the numerator to a decimal/numeric, or just make the percentage conversion by using 100.0 (a float) vs 100 (a integer) to keep the precision"
   ]
  },
  {
   "cell_type": "code",
   "execution_count": 51,
   "metadata": {
    "scrolled": true
   },
   "outputs": [
    {
     "data": {
      "text/html": [
       "<div>\n",
       "<style scoped>\n",
       "    .dataframe tbody tr th:only-of-type {\n",
       "        vertical-align: middle;\n",
       "    }\n",
       "\n",
       "    .dataframe tbody tr th {\n",
       "        vertical-align: top;\n",
       "    }\n",
       "\n",
       "    .dataframe thead th {\n",
       "        text-align: right;\n",
       "    }\n",
       "</style>\n",
       "<table border=\"1\" class=\"dataframe\">\n",
       "  <thead>\n",
       "    <tr style=\"text-align: right;\">\n",
       "      <th></th>\n",
       "      <th>percentage</th>\n",
       "    </tr>\n",
       "  </thead>\n",
       "  <tbody>\n",
       "    <tr>\n",
       "      <td>0</td>\n",
       "      <td>80.43</td>\n",
       "    </tr>\n",
       "  </tbody>\n",
       "</table>\n",
       "</div>"
      ],
      "text/plain": [
       "   percentage\n",
       "0       80.43"
      ]
     },
     "execution_count": 51,
     "metadata": {},
     "output_type": "execute_result"
    }
   ],
   "source": [
    "query='''\n",
    "SELECT\n",
    "    ROUND(count(distinct owner_id)*100.0/(SELECT COUNT(*) FROM people_person),2) as percentage\n",
    "FROM \n",
    "    pets_pet;\n",
    "'''\n",
    "df_3= pd.read_sql_query(query,conn)\n",
    "df_3\n",
    "\n",
    "# this number gives me the number of users that have registered pets\n",
    "# now to get a count of the total users, I just divide this number by the total found\n",
    "# in question 1"
   ]
  },
  {
   "cell_type": "code",
   "execution_count": 38,
   "metadata": {},
   "outputs": [
    {
     "data": {
      "text/plain": [
       "80.43"
      ]
     },
     "execution_count": 38,
     "metadata": {},
     "output_type": "execute_result"
    }
   ],
   "source": [
    "soln = df_3['count'] / df_1['count']\n",
    "\n",
    "soln[0].round(4) *100"
   ]
  },
  {
   "cell_type": "markdown",
   "metadata": {},
   "source": [
    "### 4. Of those users, how many pets have they added on average?"
   ]
  },
  {
   "cell_type": "code",
   "execution_count": 42,
   "metadata": {},
   "outputs": [
    {
     "data": {
      "text/html": [
       "<div>\n",
       "<style scoped>\n",
       "    .dataframe tbody tr th:only-of-type {\n",
       "        vertical-align: middle;\n",
       "    }\n",
       "\n",
       "    .dataframe tbody tr th {\n",
       "        vertical-align: top;\n",
       "    }\n",
       "\n",
       "    .dataframe thead th {\n",
       "        text-align: right;\n",
       "    }\n",
       "</style>\n",
       "<table border=\"1\" class=\"dataframe\">\n",
       "  <thead>\n",
       "    <tr style=\"text-align: right;\">\n",
       "      <th></th>\n",
       "      <th>average_added_pets</th>\n",
       "    </tr>\n",
       "  </thead>\n",
       "  <tbody>\n",
       "    <tr>\n",
       "      <td>0</td>\n",
       "      <td>1.501</td>\n",
       "    </tr>\n",
       "  </tbody>\n",
       "</table>\n",
       "</div>"
      ],
      "text/plain": [
       "   average_added_pets\n",
       "0               1.501"
      ]
     },
     "execution_count": 42,
     "metadata": {},
     "output_type": "execute_result"
    }
   ],
   "source": [
    "query ='''\n",
    "SELECT\n",
    "    ROUND(avg(count),3) as average_added_pets\n",
    "FROM\n",
    "    (\n",
    "    SELECT \n",
    "        COUNT(id) as count, owner_id\n",
    "    FROM \n",
    "        pets_pet\n",
    "    GROUP BY \n",
    "        owner_id) as counts;'''\n",
    "df_4 = pd.read_sql_query(query,conn)\n",
    "df_4"
   ]
  },
  {
   "cell_type": "markdown",
   "metadata": {},
   "source": [
    "### 5. What percentage of pets play well with cats?"
   ]
  },
  {
   "cell_type": "code",
   "execution_count": null,
   "metadata": {},
   "outputs": [],
   "source": []
  },
  {
   "cell_type": "code",
   "execution_count": 56,
   "metadata": {},
   "outputs": [
    {
     "data": {
      "text/html": [
       "<div>\n",
       "<style scoped>\n",
       "    .dataframe tbody tr th:only-of-type {\n",
       "        vertical-align: middle;\n",
       "    }\n",
       "\n",
       "    .dataframe tbody tr th {\n",
       "        vertical-align: top;\n",
       "    }\n",
       "\n",
       "    .dataframe thead th {\n",
       "        text-align: right;\n",
       "    }\n",
       "</style>\n",
       "<table border=\"1\" class=\"dataframe\">\n",
       "  <thead>\n",
       "    <tr style=\"text-align: right;\">\n",
       "      <th></th>\n",
       "      <th>percentage</th>\n",
       "    </tr>\n",
       "  </thead>\n",
       "  <tbody>\n",
       "    <tr>\n",
       "      <td>0</td>\n",
       "      <td>24.85</td>\n",
       "    </tr>\n",
       "  </tbody>\n",
       "</table>\n",
       "</div>"
      ],
      "text/plain": [
       "   percentage\n",
       "0       24.85"
      ]
     },
     "execution_count": 56,
     "metadata": {},
     "output_type": "execute_result"
    }
   ],
   "source": [
    "query = '''\n",
    "SELECT\n",
    "ROUND(count(CASE WHEN plays_cats THEN 1 END)*100::decimal/ (SELECT COUNT(*) FROM pets_pet),2) as percentage\n",
    "FROM pets_pet;\n",
    "'''\n",
    "df_5= pd.read_sql_query(query,conn)\n",
    "df_5"
   ]
  },
  {
   "cell_type": "markdown",
   "metadata": {},
   "source": [
    " ## III. Recent Daily Booking Rate\n",
    " #### The snapshot of this database was taken on 2018-08-02 at midnight and only contains data reflecting events prior to that date. A junior analyst is investigating daily booking rate during the days prior to the snapshot and is concerned about an apparent downward trend. You are tasked with helping them out. First, let's reproduce their results. They tell you that daily booking rate is defined to be the percentage of conversations created each day that eventually book."
   ]
  },
  {
   "cell_type": "markdown",
   "metadata": {},
   "source": [
    "####  Looking at the columns and table, to get the count of total conversations, we can use the start_date to indicate each and every conversation that takes place. A pet_owner can start conversations with many different providers, so we want to keep track of that.\n",
    " \n",
    "To find the total of booked services, the simple method would be to just take the total number of 'booked_at' column divided by the total count of the table. We also want to account for bookeings that are cancelled. To keep it simple, we can just focus on bookings that are not cancelled."
   ]
  },
  {
   "cell_type": "code",
   "execution_count": 225,
   "metadata": {},
   "outputs": [
    {
     "data": {
      "text/html": [
       "<div>\n",
       "<style scoped>\n",
       "    .dataframe tbody tr th:only-of-type {\n",
       "        vertical-align: middle;\n",
       "    }\n",
       "\n",
       "    .dataframe tbody tr th {\n",
       "        vertical-align: top;\n",
       "    }\n",
       "\n",
       "    .dataframe thead th {\n",
       "        text-align: right;\n",
       "    }\n",
       "</style>\n",
       "<table border=\"1\" class=\"dataframe\">\n",
       "  <thead>\n",
       "    <tr style=\"text-align: right;\">\n",
       "      <th></th>\n",
       "      <th>date</th>\n",
       "      <th>conversion_rate</th>\n",
       "    </tr>\n",
       "  </thead>\n",
       "  <tbody>\n",
       "    <tr>\n",
       "      <td>0</td>\n",
       "      <td>2018-05-04</td>\n",
       "      <td>42.58</td>\n",
       "    </tr>\n",
       "    <tr>\n",
       "      <td>1</td>\n",
       "      <td>2018-05-05</td>\n",
       "      <td>41.04</td>\n",
       "    </tr>\n",
       "    <tr>\n",
       "      <td>2</td>\n",
       "      <td>2018-05-06</td>\n",
       "      <td>42.79</td>\n",
       "    </tr>\n",
       "    <tr>\n",
       "      <td>3</td>\n",
       "      <td>2018-05-07</td>\n",
       "      <td>46.19</td>\n",
       "    </tr>\n",
       "    <tr>\n",
       "      <td>4</td>\n",
       "      <td>2018-05-08</td>\n",
       "      <td>36.79</td>\n",
       "    </tr>\n",
       "    <tr>\n",
       "      <td>...</td>\n",
       "      <td>...</td>\n",
       "      <td>...</td>\n",
       "    </tr>\n",
       "    <tr>\n",
       "      <td>85</td>\n",
       "      <td>2018-07-28</td>\n",
       "      <td>37.86</td>\n",
       "    </tr>\n",
       "    <tr>\n",
       "      <td>86</td>\n",
       "      <td>2018-07-29</td>\n",
       "      <td>31.09</td>\n",
       "    </tr>\n",
       "    <tr>\n",
       "      <td>87</td>\n",
       "      <td>2018-07-30</td>\n",
       "      <td>18.75</td>\n",
       "    </tr>\n",
       "    <tr>\n",
       "      <td>88</td>\n",
       "      <td>2018-07-31</td>\n",
       "      <td>12.42</td>\n",
       "    </tr>\n",
       "    <tr>\n",
       "      <td>89</td>\n",
       "      <td>2018-08-01</td>\n",
       "      <td>4.93</td>\n",
       "    </tr>\n",
       "  </tbody>\n",
       "</table>\n",
       "<p>90 rows × 2 columns</p>\n",
       "</div>"
      ],
      "text/plain": [
       "          date  conversion_rate\n",
       "0   2018-05-04  42.58          \n",
       "1   2018-05-05  41.04          \n",
       "2   2018-05-06  42.79          \n",
       "3   2018-05-07  46.19          \n",
       "4   2018-05-08  36.79          \n",
       "..         ...    ...          \n",
       "85  2018-07-28  37.86          \n",
       "86  2018-07-29  31.09          \n",
       "87  2018-07-30  18.75          \n",
       "88  2018-07-31  12.42          \n",
       "89  2018-08-01  4.93           \n",
       "\n",
       "[90 rows x 2 columns]"
      ]
     },
     "execution_count": 225,
     "metadata": {},
     "output_type": "execute_result"
    }
   ],
   "source": [
    "query = '''\n",
    "SELECT \n",
    "    DATE(added) as date, ROUND(COUNT(booked_at)*100.0 / COUNT(*),2) as conversion_rate\n",
    "FROM \n",
    "    conversations_conversation\n",
    "WHERE \n",
    "    added > date '2018-08-02' - INTERVAL '90 days'\n",
    "AND\n",
    "    id IN\n",
    "        (SELECT \n",
    "            id\n",
    "        FROM\n",
    "            conversations_conversation\n",
    "        WHERE\n",
    "        (cancelled_at IS NULL))\n",
    "GROUP BY \n",
    "    date\n",
    "ORDER BY\n",
    "    date ASC;\n",
    "'''\n",
    "df_1 = pd.read_sql_query(query,conn)\n",
    "df_1"
   ]
  },
  {
   "cell_type": "code",
   "execution_count": 223,
   "metadata": {
    "scrolled": true
   },
   "outputs": [
    {
     "data": {
      "text/html": [
       "<div>\n",
       "<style scoped>\n",
       "    .dataframe tbody tr th:only-of-type {\n",
       "        vertical-align: middle;\n",
       "    }\n",
       "\n",
       "    .dataframe tbody tr th {\n",
       "        vertical-align: top;\n",
       "    }\n",
       "\n",
       "    .dataframe thead th {\n",
       "        text-align: right;\n",
       "    }\n",
       "</style>\n",
       "<table border=\"1\" class=\"dataframe\">\n",
       "  <thead>\n",
       "    <tr style=\"text-align: right;\">\n",
       "      <th></th>\n",
       "      <th>conversion_rate</th>\n",
       "    </tr>\n",
       "  </thead>\n",
       "  <tbody>\n",
       "    <tr>\n",
       "      <td>count</td>\n",
       "      <td>90.000000</td>\n",
       "    </tr>\n",
       "    <tr>\n",
       "      <td>mean</td>\n",
       "      <td>40.257222</td>\n",
       "    </tr>\n",
       "    <tr>\n",
       "      <td>std</td>\n",
       "      <td>6.376938</td>\n",
       "    </tr>\n",
       "    <tr>\n",
       "      <td>min</td>\n",
       "      <td>4.930000</td>\n",
       "    </tr>\n",
       "    <tr>\n",
       "      <td>25%</td>\n",
       "      <td>38.837500</td>\n",
       "    </tr>\n",
       "    <tr>\n",
       "      <td>50%</td>\n",
       "      <td>41.140000</td>\n",
       "    </tr>\n",
       "    <tr>\n",
       "      <td>75%</td>\n",
       "      <td>42.940000</td>\n",
       "    </tr>\n",
       "    <tr>\n",
       "      <td>max</td>\n",
       "      <td>49.000000</td>\n",
       "    </tr>\n",
       "  </tbody>\n",
       "</table>\n",
       "</div>"
      ],
      "text/plain": [
       "       conversion_rate\n",
       "count  90.000000      \n",
       "mean   40.257222      \n",
       "std    6.376938       \n",
       "min    4.930000       \n",
       "25%    38.837500      \n",
       "50%    41.140000      \n",
       "75%    42.940000      \n",
       "max    49.000000      "
      ]
     },
     "execution_count": 223,
     "metadata": {},
     "output_type": "execute_result"
    }
   ],
   "source": [
    "df_1.describe()"
   ]
  },
  {
   "cell_type": "markdown",
   "metadata": {},
   "source": [
    "During the 90 day period, the mean converstion_rate is ~ 40.26% with a standard deviation of ~6.37%"
   ]
  },
  {
   "cell_type": "code",
   "execution_count": 229,
   "metadata": {
    "scrolled": true
   },
   "outputs": [
    {
     "data": {
      "image/png": "[encoded data removed]",
      "text/plain": [
       "<Figure size 720x288 with 1 Axes>"
      ]
     },
     "metadata": {
      "needs_background": "light"
     },
     "output_type": "display_data"
    }
   ],
   "source": [
    "plt.figure(figsize=(10,4))\n",
    "plt.plot(df_1['conversion_rate'])\n",
    "plt.ylabel('corrected_conversion_rate')\n",
    "plt.ylim(0,60)\n",
    "plt.gca().set_aspect('equal', adjustable='box')\n",
    "plt.xlim(0,91)\n",
    "plt.xlabel('#_of_days_after_2018-05-04')\n",
    "plt.title('Corrected Daily Conversion After 2018-05-04')\n",
    "plt.show();"
   ]
  },
  {
   "cell_type": "markdown",
   "metadata": {},
   "source": [
    "### 1. What is the daily booking rate for each of the 90 days prior to the snapshot? Is there a downward trend?"
   ]
  },
  {
   "cell_type": "code",
   "execution_count": 182,
   "metadata": {
    "scrolled": true
   },
   "outputs": [
    {
     "data": {
      "text/html": [
       "<div>\n",
       "<style scoped>\n",
       "    .dataframe tbody tr th:only-of-type {\n",
       "        vertical-align: middle;\n",
       "    }\n",
       "\n",
       "    .dataframe tbody tr th {\n",
       "        vertical-align: top;\n",
       "    }\n",
       "\n",
       "    .dataframe thead th {\n",
       "        text-align: right;\n",
       "    }\n",
       "</style>\n",
       "<table border=\"1\" class=\"dataframe\">\n",
       "  <thead>\n",
       "    <tr style=\"text-align: right;\">\n",
       "      <th></th>\n",
       "      <th>conversion_rate</th>\n",
       "    </tr>\n",
       "  </thead>\n",
       "  <tbody>\n",
       "    <tr>\n",
       "      <td>count</td>\n",
       "      <td>90.000000</td>\n",
       "    </tr>\n",
       "    <tr>\n",
       "      <td>mean</td>\n",
       "      <td>40.257222</td>\n",
       "    </tr>\n",
       "    <tr>\n",
       "      <td>std</td>\n",
       "      <td>6.376938</td>\n",
       "    </tr>\n",
       "    <tr>\n",
       "      <td>min</td>\n",
       "      <td>4.930000</td>\n",
       "    </tr>\n",
       "    <tr>\n",
       "      <td>25%</td>\n",
       "      <td>38.837500</td>\n",
       "    </tr>\n",
       "    <tr>\n",
       "      <td>50%</td>\n",
       "      <td>41.140000</td>\n",
       "    </tr>\n",
       "    <tr>\n",
       "      <td>75%</td>\n",
       "      <td>42.940000</td>\n",
       "    </tr>\n",
       "    <tr>\n",
       "      <td>max</td>\n",
       "      <td>49.000000</td>\n",
       "    </tr>\n",
       "  </tbody>\n",
       "</table>\n",
       "</div>"
      ],
      "text/plain": [
       "       conversion_rate\n",
       "count  90.000000      \n",
       "mean   40.257222      \n",
       "std    6.376938       \n",
       "min    4.930000       \n",
       "25%    38.837500      \n",
       "50%    41.140000      \n",
       "75%    42.940000      \n",
       "max    49.000000      "
      ]
     },
     "execution_count": 182,
     "metadata": {},
     "output_type": "execute_result"
    }
   ],
   "source": [
    "df_1.describe()"
   ]
  },
  {
   "cell_type": "code",
   "execution_count": 180,
   "metadata": {},
   "outputs": [
    {
     "data": {
      "image/png": "[encoded data removed]",
      "text/plain": [
       "<Figure size 720x288 with 1 Axes>"
      ]
     },
     "metadata": {
      "needs_background": "light"
     },
     "output_type": "display_data"
    }
   ],
   "source": [
    "plt.figure(figsize=(10,4))\n",
    "plt.plot(df_1['conversion_rate'])\n",
    "plt.ylabel('corrected_conversion_rate')\n",
    "plt.ylim(0,60)\n",
    "plt.xlim(0,100)\n",
    "plt.xlabel('#_of_days_after_2018-05-04')\n",
    "plt.title('Corrected Daily Conversion After 2018-05-04')\n",
    "plt.show();"
   ]
  },
  {
   "cell_type": "markdown",
   "metadata": {},
   "source": [
    "### 2. Can you narrate a reason why this trend exists? Is there a reason to be concerned? Please provide additional data and evidence to justify your position.\n",
    "\n",
    "Although there does exist a negative trend for the converstion rate, one must simply keep in mind that the most recent bookings are for start dates that are in the future, and have not been fulfilled quite yet. \n",
    "\n",
    "By defining the daily booking rate to be the percentage of conversations created each day that eventually book, we are stil waiting for these most recent requests to be accepted by the service provider and that affects our conversion rate. Thus, we must redefine our metric to account for this.\n",
    "\n",
    "#### BELOW is a query that eliminates future requests and narrows down to bookings with end_dates on the last day of data collection."
   ]
  },
  {
   "cell_type": "code",
   "execution_count": 242,
   "metadata": {
    "scrolled": false
   },
   "outputs": [
    {
     "data": {
      "text/html": [
       "<div>\n",
       "<style scoped>\n",
       "    .dataframe tbody tr th:only-of-type {\n",
       "        vertical-align: middle;\n",
       "    }\n",
       "\n",
       "    .dataframe tbody tr th {\n",
       "        vertical-align: top;\n",
       "    }\n",
       "\n",
       "    .dataframe thead th {\n",
       "        text-align: right;\n",
       "    }\n",
       "</style>\n",
       "<table border=\"1\" class=\"dataframe\">\n",
       "  <thead>\n",
       "    <tr style=\"text-align: right;\">\n",
       "      <th></th>\n",
       "      <th>date</th>\n",
       "      <th>conversion_rate</th>\n",
       "    </tr>\n",
       "  </thead>\n",
       "  <tbody>\n",
       "    <tr>\n",
       "      <td>0</td>\n",
       "      <td>2018-05-04</td>\n",
       "      <td>42.58</td>\n",
       "    </tr>\n",
       "    <tr>\n",
       "      <td>1</td>\n",
       "      <td>2018-05-05</td>\n",
       "      <td>41.04</td>\n",
       "    </tr>\n",
       "    <tr>\n",
       "      <td>2</td>\n",
       "      <td>2018-05-06</td>\n",
       "      <td>42.79</td>\n",
       "    </tr>\n",
       "    <tr>\n",
       "      <td>3</td>\n",
       "      <td>2018-05-07</td>\n",
       "      <td>46.19</td>\n",
       "    </tr>\n",
       "    <tr>\n",
       "      <td>4</td>\n",
       "      <td>2018-05-08</td>\n",
       "      <td>36.79</td>\n",
       "    </tr>\n",
       "    <tr>\n",
       "      <td>...</td>\n",
       "      <td>...</td>\n",
       "      <td>...</td>\n",
       "    </tr>\n",
       "    <tr>\n",
       "      <td>76</td>\n",
       "      <td>2018-07-19</td>\n",
       "      <td>46.60</td>\n",
       "    </tr>\n",
       "    <tr>\n",
       "      <td>77</td>\n",
       "      <td>2018-07-20</td>\n",
       "      <td>49.18</td>\n",
       "    </tr>\n",
       "    <tr>\n",
       "      <td>78</td>\n",
       "      <td>2018-07-21</td>\n",
       "      <td>53.33</td>\n",
       "    </tr>\n",
       "    <tr>\n",
       "      <td>79</td>\n",
       "      <td>2018-07-22</td>\n",
       "      <td>47.62</td>\n",
       "    </tr>\n",
       "    <tr>\n",
       "      <td>80</td>\n",
       "      <td>2018-07-23</td>\n",
       "      <td>50.00</td>\n",
       "    </tr>\n",
       "  </tbody>\n",
       "</table>\n",
       "<p>81 rows × 2 columns</p>\n",
       "</div>"
      ],
      "text/plain": [
       "          date  conversion_rate\n",
       "0   2018-05-04  42.58          \n",
       "1   2018-05-05  41.04          \n",
       "2   2018-05-06  42.79          \n",
       "3   2018-05-07  46.19          \n",
       "4   2018-05-08  36.79          \n",
       "..         ...    ...          \n",
       "76  2018-07-19  46.60          \n",
       "77  2018-07-20  49.18          \n",
       "78  2018-07-21  53.33          \n",
       "79  2018-07-22  47.62          \n",
       "80  2018-07-23  50.00          \n",
       "\n",
       "[81 rows x 2 columns]"
      ]
     },
     "execution_count": 242,
     "metadata": {},
     "output_type": "execute_result"
    }
   ],
   "source": [
    "query = '''\n",
    "SELECT \n",
    "    DATE(added) as date, ROUND(COUNT(booked_at)*100.0 / COUNT(*),2) as conversion_rate\n",
    "FROM \n",
    "    conversations_conversation\n",
    "WHERE \n",
    "    added > date '2018-08-02' - INTERVAL '90 days'\n",
    "AND\n",
    "    end_date < date'2018-08-02'\n",
    "AND\n",
    "    id IN\n",
    "        (SELECT \n",
    "            id\n",
    "        FROM\n",
    "            conversations_conversation\n",
    "        WHERE\n",
    "        (cancelled_at IS NULL))\n",
    "GROUP BY \n",
    "    date\n",
    "ORDER BY\n",
    "    date ASC;\n",
    "'''\n",
    "df_corrected_date = pd.read_sql_query(query,conn)\n",
    "df_corrected_date"
   ]
  },
  {
   "cell_type": "code",
   "execution_count": 227,
   "metadata": {
    "scrolled": true
   },
   "outputs": [
    {
     "data": {
      "text/html": [
       "<div>\n",
       "<style scoped>\n",
       "    .dataframe tbody tr th:only-of-type {\n",
       "        vertical-align: middle;\n",
       "    }\n",
       "\n",
       "    .dataframe tbody tr th {\n",
       "        vertical-align: top;\n",
       "    }\n",
       "\n",
       "    .dataframe thead th {\n",
       "        text-align: right;\n",
       "    }\n",
       "</style>\n",
       "<table border=\"1\" class=\"dataframe\">\n",
       "  <thead>\n",
       "    <tr style=\"text-align: right;\">\n",
       "      <th></th>\n",
       "      <th>conversion_rate</th>\n",
       "    </tr>\n",
       "  </thead>\n",
       "  <tbody>\n",
       "    <tr>\n",
       "      <td>count</td>\n",
       "      <td>81.000000</td>\n",
       "    </tr>\n",
       "    <tr>\n",
       "      <td>mean</td>\n",
       "      <td>41.613704</td>\n",
       "    </tr>\n",
       "    <tr>\n",
       "      <td>std</td>\n",
       "      <td>3.860461</td>\n",
       "    </tr>\n",
       "    <tr>\n",
       "      <td>min</td>\n",
       "      <td>34.190000</td>\n",
       "    </tr>\n",
       "    <tr>\n",
       "      <td>25%</td>\n",
       "      <td>38.890000</td>\n",
       "    </tr>\n",
       "    <tr>\n",
       "      <td>50%</td>\n",
       "      <td>41.280000</td>\n",
       "    </tr>\n",
       "    <tr>\n",
       "      <td>75%</td>\n",
       "      <td>44.090000</td>\n",
       "    </tr>\n",
       "    <tr>\n",
       "      <td>max</td>\n",
       "      <td>53.330000</td>\n",
       "    </tr>\n",
       "  </tbody>\n",
       "</table>\n",
       "</div>"
      ],
      "text/plain": [
       "       conversion_rate\n",
       "count  81.000000      \n",
       "mean   41.613704      \n",
       "std    3.860461       \n",
       "min    34.190000      \n",
       "25%    38.890000      \n",
       "50%    41.280000      \n",
       "75%    44.090000      \n",
       "max    53.330000      "
      ]
     },
     "execution_count": 227,
     "metadata": {},
     "output_type": "execute_result"
    }
   ],
   "source": [
    "df_corrected_date.describe()"
   ]
  },
  {
   "cell_type": "markdown",
   "metadata": {},
   "source": [
    "Notice now, we have less days to account for, since the latest added date in our new query is 2018-07-25, with a new total of 81 days, with a mean converstion rate of ~41.61 with a standard deviation of ~3.86."
   ]
  },
  {
   "cell_type": "code",
   "execution_count": 243,
   "metadata": {
    "scrolled": true
   },
   "outputs": [
    {
     "data": {
      "image/png": "[encoded data removed]",
      "text/plain": [
       "<Figure size 720x288 with 1 Axes>"
      ]
     },
     "metadata": {
      "needs_background": "light"
     },
     "output_type": "display_data"
    }
   ],
   "source": [
    "plt.figure(figsize=(10,4))\n",
    "plt.plot(df_corrected_date['conversion_rate'])\n",
    "plt.ylabel('corrected_conversion_rate')\n",
    "plt.ylim(0,60)\n",
    "plt.gca().set_aspect('equal', adjustable='box')\n",
    "plt.xlim(0,91)\n",
    "plt.xlabel('#_of_days_after_2018-05-04')\n",
    "plt.title('Corrected Daily Conversion After 2018-05-04')\n",
    "plt.show();"
   ]
  },
  {
   "cell_type": "markdown",
   "metadata": {},
   "source": [
    "Now, compared to the graph of before..."
   ]
  },
  {
   "cell_type": "markdown",
   "metadata": {},
   "source": [
    "### "
   ]
  },
  {
   "cell_type": "code",
   "execution_count": 188,
   "metadata": {
    "scrolled": true
   },
   "outputs": [
    {
     "data": {
      "text/html": [
       "<div>\n",
       "<style scoped>\n",
       "    .dataframe tbody tr th:only-of-type {\n",
       "        vertical-align: middle;\n",
       "    }\n",
       "\n",
       "    .dataframe tbody tr th {\n",
       "        vertical-align: top;\n",
       "    }\n",
       "\n",
       "    .dataframe thead th {\n",
       "        text-align: right;\n",
       "    }\n",
       "</style>\n",
       "<table border=\"1\" class=\"dataframe\">\n",
       "  <thead>\n",
       "    <tr style=\"text-align: right;\">\n",
       "      <th></th>\n",
       "      <th>conversion_rate</th>\n",
       "    </tr>\n",
       "  </thead>\n",
       "  <tbody>\n",
       "    <tr>\n",
       "      <td>count</td>\n",
       "      <td>81.000000</td>\n",
       "    </tr>\n",
       "    <tr>\n",
       "      <td>mean</td>\n",
       "      <td>41.613704</td>\n",
       "    </tr>\n",
       "    <tr>\n",
       "      <td>std</td>\n",
       "      <td>3.860461</td>\n",
       "    </tr>\n",
       "    <tr>\n",
       "      <td>min</td>\n",
       "      <td>34.190000</td>\n",
       "    </tr>\n",
       "    <tr>\n",
       "      <td>25%</td>\n",
       "      <td>38.890000</td>\n",
       "    </tr>\n",
       "    <tr>\n",
       "      <td>50%</td>\n",
       "      <td>41.280000</td>\n",
       "    </tr>\n",
       "    <tr>\n",
       "      <td>75%</td>\n",
       "      <td>44.090000</td>\n",
       "    </tr>\n",
       "    <tr>\n",
       "      <td>max</td>\n",
       "      <td>53.330000</td>\n",
       "    </tr>\n",
       "  </tbody>\n",
       "</table>\n",
       "</div>"
      ],
      "text/plain": [
       "       conversion_rate\n",
       "count  81.000000      \n",
       "mean   41.613704      \n",
       "std    3.860461       \n",
       "min    34.190000      \n",
       "25%    38.890000      \n",
       "50%    41.280000      \n",
       "75%    44.090000      \n",
       "max    53.330000      "
      ]
     },
     "execution_count": 188,
     "metadata": {},
     "output_type": "execute_result"
    }
   ],
   "source": []
  },
  {
   "cell_type": "code",
   "execution_count": 155,
   "metadata": {},
   "outputs": [
    {
     "data": {
      "image/png": "[encoded data removed]",
      "text/plain": [
       "<Figure size 720x288 with 1 Axes>"
      ]
     },
     "metadata": {
      "needs_background": "light"
     },
     "output_type": "display_data"
    }
   ],
   "source": [
    "query = '''\n",
    "SELECT \n",
    "    DATE(added) as date, ROUND(COUNT(booked_at)*100.0 / COUNT(*),2) as conversion_rate\n",
    "FROM \n",
    "    conversations_conversation\n",
    "WHERE \n",
    "    added > date '2018-08-02' - INTERVAL '90 days'\n",
    "AND\n",
    "    end_date < date'2018-08-02'\n",
    "GROUP BY \n",
    "    date\n",
    "ORDER BY\n",
    "    date ASC;\n",
    "'''\n",
    "df_corrected_date = pd.read_sql_query(query,conn)\n",
    "df_corrected_date\n",
    "plt.figure(figsize=(10,4))\n",
    "plt.plot(df_corrected_date['conversion_rate'])\n",
    "plt.ylabel('corrected_conversion_rate')\n",
    "plt.ylim(0,75)\n",
    "plt.xlim(0,100)\n",
    "plt.xlabel('#_of_days_after_2018-05-04')\n",
    "plt.title('Corrected Daily Conversion After 2018-05-04')\n",
    "plt.show();"
   ]
  },
  {
   "cell_type": "code",
   "execution_count": 155,
   "metadata": {},
   "outputs": [
    {
     "data": {
      "image/png": "[encoded data removed]",
      "text/plain": [
       "<Figure size 720x288 with 1 Axes>"
      ]
     },
     "metadata": {
      "needs_background": "light"
     },
     "output_type": "display_data"
    }
   ],
   "source": [
    "query = '''\n",
    "SELECT \n",
    "    DATE(added) as date, ROUND(COUNT(booked_at)*100.0 / COUNT(*),2) as conversion_rate\n",
    "FROM \n",
    "    conversations_conversation\n",
    "WHERE \n",
    "    added > date '2018-08-02' - INTERVAL '90 days'\n",
    "AND\n",
    "    end_date < date'2018-08-02'\n",
    "GROUP BY \n",
    "    date\n",
    "ORDER BY\n",
    "    date ASC;\n",
    "'''\n",
    "df_corrected_date = pd.read_sql_query(query,conn)\n",
    "df_corrected_date\n",
    "plt.figure(figsize=(10,4))\n",
    "plt.plot(df_corrected_date['conversion_rate'])\n",
    "plt.ylabel('corrected_conversion_rate')\n",
    "plt.ylim(0,75)\n",
    "plt.xlim(0,100)\n",
    "plt.xlabel('#_of_days_after_2018-05-04')\n",
    "plt.title('Corrected Daily Conversion After 2018-05-04')\n",
    "plt.show();"
   ]
  },
  {
   "cell_type": "code",
   "execution_count": 155,
   "metadata": {},
   "outputs": [
    {
     "data": {
      "image/png": "[encoded data removed]",
      "text/plain": [
       "<Figure size 720x288 with 1 Axes>"
      ]
     },
     "metadata": {
      "needs_background": "light"
     },
     "output_type": "display_data"
    }
   ],
   "source": [
    "query = '''\n",
    "SELECT \n",
    "    DATE(added) as date, ROUND(COUNT(booked_at)*100.0 / COUNT(*),2) as conversion_rate\n",
    "FROM \n",
    "    conversations_conversation\n",
    "WHERE \n",
    "    added > date '2018-08-02' - INTERVAL '90 days'\n",
    "AND\n",
    "    end_date < date'2018-08-02'\n",
    "GROUP BY \n",
    "    date\n",
    "ORDER BY\n",
    "    date ASC;\n",
    "'''\n",
    "df_corrected_date = pd.read_sql_query(query,conn)\n",
    "df_corrected_date\n",
    "plt.figure(figsize=(10,4))\n",
    "plt.plot(df_corrected_date['conversion_rate'])\n",
    "plt.ylabel('corrected_conversion_rate')\n",
    "plt.ylim(0,75)\n",
    "plt.xlim(0,100)\n",
    "plt.xlabel('#_of_days_after_2018-05-04')\n",
    "plt.title('Corrected Daily Conversion After 2018-05-04')\n",
    "plt.show();"
   ]
  },
  {
   "cell_type": "code",
   "execution_count": null,
   "metadata": {},
   "outputs": [],
   "source": []
  },
  {
   "cell_type": "code",
   "execution_count": 155,
   "metadata": {},
   "outputs": [
    {
     "data": {
      "image/png": "[encoded data removed]",
      "text/plain": [
       "<Figure size 720x288 with 1 Axes>"
      ]
     },
     "metadata": {
      "needs_background": "light"
     },
     "output_type": "display_data"
    }
   ],
   "source": [
    "query = '''\n",
    "SELECT \n",
    "    DATE(added) as date, ROUND(COUNT(booked_at)*100.0 / COUNT(*),2) as conversion_rate\n",
    "FROM \n",
    "    conversations_conversation\n",
    "WHERE \n",
    "    added > date '2018-08-02' - INTERVAL '90 days'\n",
    "AND\n",
    "    end_date < date'2018-08-02'\n",
    "GROUP BY \n",
    "    date\n",
    "ORDER BY\n",
    "    date ASC;\n",
    "'''\n",
    "df_corrected_date = pd.read_sql_query(query,conn)\n",
    "df_corrected_date\n",
    "plt.figure(figsize=(10,4))\n",
    "plt.plot(df_corrected_date['conversion_rate'])\n",
    "plt.ylabel('corrected_conversion_rate')\n",
    "plt.ylim(0,75)\n",
    "plt.xlim(0,100)\n",
    "plt.xlabel('#_of_days_after_2018-05-04')\n",
    "plt.title('Corrected Daily Conversion After 2018-05-04')\n",
    "plt.show();"
   ]
  },
  {
   "cell_type": "code",
   "execution_count": 104,
   "metadata": {
    "scrolled": true
   },
   "outputs": [
    {
     "data": {
      "text/plain": [
       "<matplotlib.axes._subplots.AxesSubplot at 0x1a272cc9d0>"
      ]
     },
     "execution_count": 104,
     "metadata": {},
     "output_type": "execute_result"
    },
    {
     "data": {
      "image/png": "[encoded data removed]",
      "text/plain": [
       "<Figure size 432x288 with 1 Axes>"
      ]
     },
     "metadata": {
      "needs_background": "light"
     },
     "output_type": "display_data"
    }
   ],
   "source": [
    "df.plot(y='conversion_rate',use_index=True,kind='line')"
   ]
  },
  {
   "cell_type": "code",
   "execution_count": 253,
   "metadata": {},
   "outputs": [
    {
     "data": {
      "image/png": "[encoded data removed]",
      "text/plain": [
       "<Figure size 720x288 with 1 Axes>"
      ]
     },
     "metadata": {
      "needs_background": "light"
     },
     "output_type": "display_data"
    }
   ],
   "source": [
    "plt.figure(figsize=(10,4))\n",
    "plt.plot(df_1['conversion_rate'])\n",
    "plt.ylabel('corrected_conversion_rate')\n",
    "plt.ylim(0,60)\n",
    "plt.gca().set_aspect('equal', adjustable='box')\n",
    "plt.xlim(0,91)\n",
    "plt.xlabel('#_of_days_after_2018-05-04')\n",
    "plt.title('Corrected Daily Conversion After 2018-05-04')\n",
    "plt.show();"
   ]
  },
  {
   "cell_type": "markdown",
   "metadata": {},
   "source": [
    "By correctly defining our metric and narrowing down on bookings that have been completed. Although it does not account for bookings that might still be cancelled, the corrected conversion trend is not as bad as first perceived."
   ]
  },
  {
   "cell_type": "markdown",
   "metadata": {},
   "source": [
    " ## IV. Analyzing Take Rate (IV)\n",
    " In order to do the next exercise, you will need to understand the fee structure for this company. Each user has a fee associated with their account (recorded on\n",
    "people_person ). If that user books as an owner, the company charges a service fee (in addition to the booking total) that is a percentage of the booking total (to a maximum of \\\\$50).\n",
    "\n",
    "Also, each service has a fee amount (recorded on services_service ). Before a provider receives their payment, the company takes a percentage of the booking total as dictated by that fee. As an example, suppose an owner has a fee amount of 5\\% and books with a service that has a fee amount of 15\\%. \n",
    "\n",
    "If the booking was for \\\\$100, then the owner would get charged \\\\$105 (adding the ownerʼs fee). The \\\\$5 owner fee would go to the company. An additional \\\\$15 would also go to the company since the service had a 15% fee associated to it. The remaining \\\\$85 would go to the provider. To summarize:"
   ]
  },
  {
   "cell_type": "markdown",
   "metadata": {},
   "source": [
    "| | Amount | Description |\n",
    "| --- | --- | --- |\n",
    "| Booking Total |\\$100 |  e.g., 4 walks at \\$25/walk |\n",
    "|  Owner Fee |\\$5 |  5\\% of the booking total |\n",
    "| Gross Billings |\\$105 |  charged to the owner |\n",
    "| Service Fee |\\$15 |  15\\% of the booking total|\n",
    "| Net Revenue |\\$20 |  all fees that go to the company\n",
    "| Provider Payment |\\$85 |  earnings for the provider\n"
   ]
  },
  {
   "cell_type": "markdown",
   "metadata": {},
   "source": [
    "### 1. In each month, what were the gross billings and net revenue?\n",
    "\n",
    "First, let's find the total of bookings that are are completed"
   ]
  },
  {
   "cell_type": "code",
   "execution_count": 267,
   "metadata": {
    "scrolled": true
   },
   "outputs": [
    {
     "data": {
      "text/html": [
       "<div>\n",
       "<style scoped>\n",
       "    .dataframe tbody tr th:only-of-type {\n",
       "        vertical-align: middle;\n",
       "    }\n",
       "\n",
       "    .dataframe tbody tr th {\n",
       "        vertical-align: top;\n",
       "    }\n",
       "\n",
       "    .dataframe thead th {\n",
       "        text-align: right;\n",
       "    }\n",
       "</style>\n",
       "<table border=\"1\" class=\"dataframe\">\n",
       "  <thead>\n",
       "    <tr style=\"text-align: right;\">\n",
       "      <th></th>\n",
       "      <th>id</th>\n",
       "      <th>start_date</th>\n",
       "      <th>end_date</th>\n",
       "      <th>units</th>\n",
       "      <th>added</th>\n",
       "      <th>booking_total</th>\n",
       "      <th>cancellation_fault</th>\n",
       "      <th>requester_id</th>\n",
       "      <th>service_id</th>\n",
       "      <th>booked_at</th>\n",
       "      <th>cancelled_at</th>\n",
       "    </tr>\n",
       "  </thead>\n",
       "  <tbody>\n",
       "    <tr>\n",
       "      <td>0</td>\n",
       "      <td>6</td>\n",
       "      <td>2018-07-04</td>\n",
       "      <td>2018-07-07</td>\n",
       "      <td>3</td>\n",
       "      <td>2018-06-23 16:16:16.891344-07:00</td>\n",
       "      <td>78</td>\n",
       "      <td>None</td>\n",
       "      <td>64388</td>\n",
       "      <td>14772</td>\n",
       "      <td>2018-06-27 14:39:51.433544-07:00</td>\n",
       "      <td>None</td>\n",
       "    </tr>\n",
       "    <tr>\n",
       "      <td>1</td>\n",
       "      <td>7</td>\n",
       "      <td>2018-07-31</td>\n",
       "      <td>2018-08-04</td>\n",
       "      <td>4</td>\n",
       "      <td>2018-07-21 04:55:57.951572-07:00</td>\n",
       "      <td>100</td>\n",
       "      <td>None</td>\n",
       "      <td>64386</td>\n",
       "      <td>14783</td>\n",
       "      <td>2018-07-22 02:50:20.676664-07:00</td>\n",
       "      <td>None</td>\n",
       "    </tr>\n",
       "    <tr>\n",
       "      <td>2</td>\n",
       "      <td>9</td>\n",
       "      <td>2018-07-02</td>\n",
       "      <td>2018-07-03</td>\n",
       "      <td>1</td>\n",
       "      <td>2018-06-21 06:23:08.092389-07:00</td>\n",
       "      <td>23</td>\n",
       "      <td>None</td>\n",
       "      <td>64384</td>\n",
       "      <td>7656</td>\n",
       "      <td>2018-06-23 01:49:33.596667-07:00</td>\n",
       "      <td>None</td>\n",
       "    </tr>\n",
       "    <tr>\n",
       "      <td>3</td>\n",
       "      <td>11</td>\n",
       "      <td>2018-06-12</td>\n",
       "      <td>2018-06-18</td>\n",
       "      <td>6</td>\n",
       "      <td>2018-06-03 09:11:33.421951-07:00</td>\n",
       "      <td>300</td>\n",
       "      <td>None</td>\n",
       "      <td>64382</td>\n",
       "      <td>2512</td>\n",
       "      <td>2018-06-07 01:24:20.187356-07:00</td>\n",
       "      <td>None</td>\n",
       "    </tr>\n",
       "    <tr>\n",
       "      <td>4</td>\n",
       "      <td>13</td>\n",
       "      <td>2018-07-24</td>\n",
       "      <td>2018-07-27</td>\n",
       "      <td>3</td>\n",
       "      <td>2018-07-13 10:30:05.875588-07:00</td>\n",
       "      <td>126</td>\n",
       "      <td>None</td>\n",
       "      <td>64381</td>\n",
       "      <td>1634</td>\n",
       "      <td>2018-07-19 01:01:11.552880-07:00</td>\n",
       "      <td>None</td>\n",
       "    </tr>\n",
       "  </tbody>\n",
       "</table>\n",
       "</div>"
      ],
      "text/plain": [
       "   id  start_date    end_date  units                             added  \\\n",
       "0  6   2018-07-04  2018-07-07  3      2018-06-23 16:16:16.891344-07:00   \n",
       "1  7   2018-07-31  2018-08-04  4      2018-07-21 04:55:57.951572-07:00   \n",
       "2  9   2018-07-02  2018-07-03  1      2018-06-21 06:23:08.092389-07:00   \n",
       "3  11  2018-06-12  2018-06-18  6      2018-06-03 09:11:33.421951-07:00   \n",
       "4  13  2018-07-24  2018-07-27  3      2018-07-13 10:30:05.875588-07:00   \n",
       "\n",
       "   booking_total cancellation_fault  requester_id  service_id  \\\n",
       "0  78             None               64388         14772        \n",
       "1  100            None               64386         14783        \n",
       "2  23             None               64384         7656         \n",
       "3  300            None               64382         2512         \n",
       "4  126            None               64381         1634         \n",
       "\n",
       "                          booked_at cancelled_at  \n",
       "0  2018-06-27 14:39:51.433544-07:00  None         \n",
       "1  2018-07-22 02:50:20.676664-07:00  None         \n",
       "2  2018-06-23 01:49:33.596667-07:00  None         \n",
       "3  2018-06-07 01:24:20.187356-07:00  None         \n",
       "4  2018-07-19 01:01:11.552880-07:00  None         "
      ]
     },
     "execution_count": 267,
     "metadata": {},
     "output_type": "execute_result"
    }
   ],
   "source": [
    "query='''\n",
    "SELECT \n",
    "    *\n",
    "FROM \n",
    "    conversations_conversation as cc\n",
    "WHERE\n",
    "    booked_at IS NOT NULL\n",
    "AND\n",
    "    cancelled_at IS NULL\n",
    ";'''\n",
    "df_completed = pd.read_sql_query(query,conn)\n",
    "df_completed.head()"
   ]
  },
  {
   "cell_type": "code",
   "execution_count": 268,
   "metadata": {},
   "outputs": [
    {
     "data": {
      "text/plain": [
       "30093"
      ]
     },
     "execution_count": 268,
     "metadata": {},
     "output_type": "execute_result"
    }
   ],
   "source": [
    "df_completed.shape[0]"
   ]
  },
  {
   "cell_type": "code",
   "execution_count": 269,
   "metadata": {},
   "outputs": [
    {
     "name": "stdout",
     "output_type": "stream",
     "text": [
      "THERE are 30093 completed bookings in the dataset\n"
     ]
    }
   ],
   "source": [
    "print(f'THERE are {df_completed.shape[0]} completed bookings in the dataset')"
   ]
  },
  {
   "cell_type": "markdown",
   "metadata": {},
   "source": [
    "Now, we want to add: \n",
    "- people_person pp.fee to get the owner fee which is a a decial form. To join it to our table, we can use conversations_conversation cc.requester_id on pp.id\n",
    "- services_service ss.price for the price, and ss.fee to get the fee we gain from the total booking. To join this ss to cc, we can use cc.service_id = ss.id\n",
    "- THEN SOME MATHS"
   ]
  },
  {
   "cell_type": "code",
   "execution_count": 309,
   "metadata": {
    "scrolled": true
   },
   "outputs": [
    {
     "data": {
      "text/html": [
       "<div>\n",
       "<style scoped>\n",
       "    .dataframe tbody tr th:only-of-type {\n",
       "        vertical-align: middle;\n",
       "    }\n",
       "\n",
       "    .dataframe tbody tr th {\n",
       "        vertical-align: top;\n",
       "    }\n",
       "\n",
       "    .dataframe thead th {\n",
       "        text-align: right;\n",
       "    }\n",
       "</style>\n",
       "<table border=\"1\" class=\"dataframe\">\n",
       "  <thead>\n",
       "    <tr style=\"text-align: right;\">\n",
       "      <th></th>\n",
       "      <th>year</th>\n",
       "      <th>month</th>\n",
       "      <th>net_revenue</th>\n",
       "      <th>gross_billings</th>\n",
       "    </tr>\n",
       "  </thead>\n",
       "  <tbody>\n",
       "    <tr>\n",
       "      <td>0</td>\n",
       "      <td>2016.0</td>\n",
       "      <td>8.0</td>\n",
       "      <td>635.12</td>\n",
       "      <td>3810.72</td>\n",
       "    </tr>\n",
       "    <tr>\n",
       "      <td>1</td>\n",
       "      <td>2016.0</td>\n",
       "      <td>9.0</td>\n",
       "      <td>2746.35</td>\n",
       "      <td>16478.10</td>\n",
       "    </tr>\n",
       "    <tr>\n",
       "      <td>2</td>\n",
       "      <td>2016.0</td>\n",
       "      <td>10.0</td>\n",
       "      <td>4805.56</td>\n",
       "      <td>28833.36</td>\n",
       "    </tr>\n",
       "    <tr>\n",
       "      <td>3</td>\n",
       "      <td>2016.0</td>\n",
       "      <td>11.0</td>\n",
       "      <td>6402.37</td>\n",
       "      <td>38414.22</td>\n",
       "    </tr>\n",
       "    <tr>\n",
       "      <td>4</td>\n",
       "      <td>2016.0</td>\n",
       "      <td>12.0</td>\n",
       "      <td>8575.93</td>\n",
       "      <td>51103.98</td>\n",
       "    </tr>\n",
       "    <tr>\n",
       "      <td>5</td>\n",
       "      <td>2017.0</td>\n",
       "      <td>1.0</td>\n",
       "      <td>12943.49</td>\n",
       "      <td>69952.14</td>\n",
       "    </tr>\n",
       "    <tr>\n",
       "      <td>6</td>\n",
       "      <td>2017.0</td>\n",
       "      <td>2.0</td>\n",
       "      <td>15410.61</td>\n",
       "      <td>82967.76</td>\n",
       "    </tr>\n",
       "    <tr>\n",
       "      <td>7</td>\n",
       "      <td>2017.0</td>\n",
       "      <td>3.0</td>\n",
       "      <td>21550.51</td>\n",
       "      <td>115218.81</td>\n",
       "    </tr>\n",
       "    <tr>\n",
       "      <td>8</td>\n",
       "      <td>2017.0</td>\n",
       "      <td>4.0</td>\n",
       "      <td>22890.05</td>\n",
       "      <td>122019.60</td>\n",
       "    </tr>\n",
       "    <tr>\n",
       "      <td>9</td>\n",
       "      <td>2017.0</td>\n",
       "      <td>5.0</td>\n",
       "      <td>28323.93</td>\n",
       "      <td>150345.78</td>\n",
       "    </tr>\n",
       "    <tr>\n",
       "      <td>10</td>\n",
       "      <td>2017.0</td>\n",
       "      <td>6.0</td>\n",
       "      <td>32824.67</td>\n",
       "      <td>169077.42</td>\n",
       "    </tr>\n",
       "    <tr>\n",
       "      <td>11</td>\n",
       "      <td>2017.0</td>\n",
       "      <td>7.0</td>\n",
       "      <td>36960.00</td>\n",
       "      <td>183187.50</td>\n",
       "    </tr>\n",
       "    <tr>\n",
       "      <td>12</td>\n",
       "      <td>2017.0</td>\n",
       "      <td>8.0</td>\n",
       "      <td>43617.82</td>\n",
       "      <td>210495.57</td>\n",
       "    </tr>\n",
       "    <tr>\n",
       "      <td>13</td>\n",
       "      <td>2017.0</td>\n",
       "      <td>9.0</td>\n",
       "      <td>50341.67</td>\n",
       "      <td>233801.67</td>\n",
       "    </tr>\n",
       "    <tr>\n",
       "      <td>14</td>\n",
       "      <td>2017.0</td>\n",
       "      <td>10.0</td>\n",
       "      <td>59484.28</td>\n",
       "      <td>274740.48</td>\n",
       "    </tr>\n",
       "    <tr>\n",
       "      <td>15</td>\n",
       "      <td>2017.0</td>\n",
       "      <td>11.0</td>\n",
       "      <td>60950.91</td>\n",
       "      <td>280036.11</td>\n",
       "    </tr>\n",
       "    <tr>\n",
       "      <td>16</td>\n",
       "      <td>2017.0</td>\n",
       "      <td>12.0</td>\n",
       "      <td>74511.39</td>\n",
       "      <td>328178.04</td>\n",
       "    </tr>\n",
       "    <tr>\n",
       "      <td>17</td>\n",
       "      <td>2018.0</td>\n",
       "      <td>1.0</td>\n",
       "      <td>81618.35</td>\n",
       "      <td>352150.75</td>\n",
       "    </tr>\n",
       "    <tr>\n",
       "      <td>18</td>\n",
       "      <td>2018.0</td>\n",
       "      <td>2.0</td>\n",
       "      <td>77399.88</td>\n",
       "      <td>331139.58</td>\n",
       "    </tr>\n",
       "    <tr>\n",
       "      <td>19</td>\n",
       "      <td>2018.0</td>\n",
       "      <td>3.0</td>\n",
       "      <td>95958.39</td>\n",
       "      <td>409591.99</td>\n",
       "    </tr>\n",
       "    <tr>\n",
       "      <td>20</td>\n",
       "      <td>2018.0</td>\n",
       "      <td>4.0</td>\n",
       "      <td>103370.89</td>\n",
       "      <td>435705.69</td>\n",
       "    </tr>\n",
       "    <tr>\n",
       "      <td>21</td>\n",
       "      <td>2018.0</td>\n",
       "      <td>5.0</td>\n",
       "      <td>120369.64</td>\n",
       "      <td>504302.89</td>\n",
       "    </tr>\n",
       "    <tr>\n",
       "      <td>22</td>\n",
       "      <td>2018.0</td>\n",
       "      <td>6.0</td>\n",
       "      <td>130917.09</td>\n",
       "      <td>545595.09</td>\n",
       "    </tr>\n",
       "    <tr>\n",
       "      <td>23</td>\n",
       "      <td>2018.0</td>\n",
       "      <td>7.0</td>\n",
       "      <td>161878.40</td>\n",
       "      <td>671235.75</td>\n",
       "    </tr>\n",
       "    <tr>\n",
       "      <td>24</td>\n",
       "      <td>2018.0</td>\n",
       "      <td>8.0</td>\n",
       "      <td>8069.92</td>\n",
       "      <td>33477.22</td>\n",
       "    </tr>\n",
       "  </tbody>\n",
       "</table>\n",
       "</div>"
      ],
      "text/plain": [
       "      year  month  net_revenue  gross_billings\n",
       "0   2016.0  8.0    635.12       3810.72       \n",
       "1   2016.0  9.0    2746.35      16478.10      \n",
       "2   2016.0  10.0   4805.56      28833.36      \n",
       "3   2016.0  11.0   6402.37      38414.22      \n",
       "4   2016.0  12.0   8575.93      51103.98      \n",
       "5   2017.0  1.0    12943.49     69952.14      \n",
       "6   2017.0  2.0    15410.61     82967.76      \n",
       "7   2017.0  3.0    21550.51     115218.81     \n",
       "8   2017.0  4.0    22890.05     122019.60     \n",
       "9   2017.0  5.0    28323.93     150345.78     \n",
       "10  2017.0  6.0    32824.67     169077.42     \n",
       "11  2017.0  7.0    36960.00     183187.50     \n",
       "12  2017.0  8.0    43617.82     210495.57     \n",
       "13  2017.0  9.0    50341.67     233801.67     \n",
       "14  2017.0  10.0   59484.28     274740.48     \n",
       "15  2017.0  11.0   60950.91     280036.11     \n",
       "16  2017.0  12.0   74511.39     328178.04     \n",
       "17  2018.0  1.0    81618.35     352150.75     \n",
       "18  2018.0  2.0    77399.88     331139.58     \n",
       "19  2018.0  3.0    95958.39     409591.99     \n",
       "20  2018.0  4.0    103370.89    435705.69     \n",
       "21  2018.0  5.0    120369.64    504302.89     \n",
       "22  2018.0  6.0    130917.09    545595.09     \n",
       "23  2018.0  7.0    161878.40    671235.75     \n",
       "24  2018.0  8.0    8069.92      33477.22      "
      ]
     },
     "execution_count": 309,
     "metadata": {},
     "output_type": "execute_result"
    }
   ],
   "source": [
    "query='''\n",
    "WITH CTE \n",
    "AS \n",
    "(SELECT \n",
    "    EXTRACT(YEAR FROM booked_at) as year,\n",
    "    EXTRACT(MONTH FROM booked_at) as month,\n",
    "    cc.service_id,\n",
    "    cc.requester_id,\n",
    "    cc.booking_total as booking_total,\n",
    "    pp.fee as owner_fee_perc, \n",
    "    (cc.booking_total * pp.fee) as owner_fee,\n",
    "    (cc.booking_total + cc.booking_total * pp.fee) as gross_billings,\n",
    "    ss.fee as service_fee_perc,\n",
    "    ss.fee * cc.booking_total as service_fee,\n",
    "    ((ss.fee * cc.booking_total) + (cc.booking_total*pp.fee)) as net_revenue,\n",
    "    booking_total - ss.fee * cc.booking_total as provider_payment\n",
    "FROM \n",
    "    conversations_conversation as cc\n",
    "JOIN\n",
    "    services_service ss ON cc.service_id = ss.id\n",
    "JOIN\n",
    "    people_person pp ON pp.id = cc.requester_id\n",
    "WHERE\n",
    "    cc.booked_at IS NOT NULL\n",
    "AND\n",
    "    cc.cancelled_at IS NULL)\n",
    "SELECT \n",
    " year,month, SUM(net_revenue) as net_revenue, SUM(gross_billings) as gross_billings\n",
    "FROM cte\n",
    "GROUP BY\n",
    "    year, month\n",
    "ORDER BY year ASC\n",
    ";\n",
    "\n",
    ";'''\n",
    "df_revenue = pd.read_sql_query(query,conn)\n",
    "df_revenue"
   ]
  },
  {
   "cell_type": "code",
   "execution_count": 310,
   "metadata": {},
   "outputs": [
    {
     "data": {
      "image/png": "[encoded data removed]",
      "text/plain": [
       "<Figure size 720x288 with 1 Axes>"
      ]
     },
     "metadata": {
      "needs_background": "light"
     },
     "output_type": "display_data"
    }
   ],
   "source": [
    "plt.figure(figsize=(10,4))\n",
    "plt.plot(df_revenue['gross_billings'])\n",
    "plt.ylabel('Gross Billings')\n",
    "plt.xlabel('# Months After 2016-08')\n",
    "plt.title('Gross Billings From 2016-08 to 2018-08')\n",
    "plt.show();"
   ]
  },
  {
   "cell_type": "markdown",
   "metadata": {},
   "source": [
    "### 2. Define take rate to be the percentage of gross billings that is net revenue. Inthe previous example, the take rate is slightly more than 19\\% since 20 /105 is approximately 0.1905. In each month, what was the aggregate take rate?"
   ]
  },
  {
   "cell_type": "code",
   "execution_count": 277,
   "metadata": {},
   "outputs": [
    {
     "data": {
      "text/html": [
       "<div>\n",
       "<style scoped>\n",
       "    .dataframe tbody tr th:only-of-type {\n",
       "        vertical-align: middle;\n",
       "    }\n",
       "\n",
       "    .dataframe tbody tr th {\n",
       "        vertical-align: top;\n",
       "    }\n",
       "\n",
       "    .dataframe thead th {\n",
       "        text-align: right;\n",
       "    }\n",
       "</style>\n",
       "<table border=\"1\" class=\"dataframe\">\n",
       "  <thead>\n",
       "    <tr style=\"text-align: right;\">\n",
       "      <th></th>\n",
       "      <th>year</th>\n",
       "      <th>month</th>\n",
       "      <th>take_rate</th>\n",
       "    </tr>\n",
       "  </thead>\n",
       "  <tbody>\n",
       "    <tr>\n",
       "      <td>0</td>\n",
       "      <td>2016.0</td>\n",
       "      <td>8.0</td>\n",
       "      <td>16.67</td>\n",
       "    </tr>\n",
       "    <tr>\n",
       "      <td>1</td>\n",
       "      <td>2016.0</td>\n",
       "      <td>9.0</td>\n",
       "      <td>16.67</td>\n",
       "    </tr>\n",
       "    <tr>\n",
       "      <td>2</td>\n",
       "      <td>2016.0</td>\n",
       "      <td>10.0</td>\n",
       "      <td>16.67</td>\n",
       "    </tr>\n",
       "    <tr>\n",
       "      <td>3</td>\n",
       "      <td>2016.0</td>\n",
       "      <td>11.0</td>\n",
       "      <td>16.67</td>\n",
       "    </tr>\n",
       "    <tr>\n",
       "      <td>4</td>\n",
       "      <td>2016.0</td>\n",
       "      <td>12.0</td>\n",
       "      <td>16.78</td>\n",
       "    </tr>\n",
       "    <tr>\n",
       "      <td>5</td>\n",
       "      <td>2017.0</td>\n",
       "      <td>1.0</td>\n",
       "      <td>18.50</td>\n",
       "    </tr>\n",
       "    <tr>\n",
       "      <td>6</td>\n",
       "      <td>2017.0</td>\n",
       "      <td>2.0</td>\n",
       "      <td>18.57</td>\n",
       "    </tr>\n",
       "    <tr>\n",
       "      <td>7</td>\n",
       "      <td>2017.0</td>\n",
       "      <td>3.0</td>\n",
       "      <td>18.70</td>\n",
       "    </tr>\n",
       "    <tr>\n",
       "      <td>8</td>\n",
       "      <td>2017.0</td>\n",
       "      <td>4.0</td>\n",
       "      <td>18.76</td>\n",
       "    </tr>\n",
       "    <tr>\n",
       "      <td>9</td>\n",
       "      <td>2017.0</td>\n",
       "      <td>5.0</td>\n",
       "      <td>18.84</td>\n",
       "    </tr>\n",
       "    <tr>\n",
       "      <td>10</td>\n",
       "      <td>2017.0</td>\n",
       "      <td>6.0</td>\n",
       "      <td>19.41</td>\n",
       "    </tr>\n",
       "    <tr>\n",
       "      <td>11</td>\n",
       "      <td>2017.0</td>\n",
       "      <td>7.0</td>\n",
       "      <td>20.18</td>\n",
       "    </tr>\n",
       "    <tr>\n",
       "      <td>12</td>\n",
       "      <td>2017.0</td>\n",
       "      <td>8.0</td>\n",
       "      <td>20.72</td>\n",
       "    </tr>\n",
       "    <tr>\n",
       "      <td>13</td>\n",
       "      <td>2017.0</td>\n",
       "      <td>9.0</td>\n",
       "      <td>21.53</td>\n",
       "    </tr>\n",
       "    <tr>\n",
       "      <td>14</td>\n",
       "      <td>2017.0</td>\n",
       "      <td>10.0</td>\n",
       "      <td>21.65</td>\n",
       "    </tr>\n",
       "    <tr>\n",
       "      <td>15</td>\n",
       "      <td>2017.0</td>\n",
       "      <td>11.0</td>\n",
       "      <td>21.77</td>\n",
       "    </tr>\n",
       "    <tr>\n",
       "      <td>16</td>\n",
       "      <td>2017.0</td>\n",
       "      <td>12.0</td>\n",
       "      <td>22.70</td>\n",
       "    </tr>\n",
       "    <tr>\n",
       "      <td>17</td>\n",
       "      <td>2018.0</td>\n",
       "      <td>1.0</td>\n",
       "      <td>23.18</td>\n",
       "    </tr>\n",
       "    <tr>\n",
       "      <td>18</td>\n",
       "      <td>2018.0</td>\n",
       "      <td>2.0</td>\n",
       "      <td>23.37</td>\n",
       "    </tr>\n",
       "    <tr>\n",
       "      <td>19</td>\n",
       "      <td>2018.0</td>\n",
       "      <td>3.0</td>\n",
       "      <td>23.43</td>\n",
       "    </tr>\n",
       "    <tr>\n",
       "      <td>20</td>\n",
       "      <td>2018.0</td>\n",
       "      <td>4.0</td>\n",
       "      <td>23.72</td>\n",
       "    </tr>\n",
       "    <tr>\n",
       "      <td>21</td>\n",
       "      <td>2018.0</td>\n",
       "      <td>5.0</td>\n",
       "      <td>23.87</td>\n",
       "    </tr>\n",
       "    <tr>\n",
       "      <td>22</td>\n",
       "      <td>2018.0</td>\n",
       "      <td>6.0</td>\n",
       "      <td>24.00</td>\n",
       "    </tr>\n",
       "    <tr>\n",
       "      <td>23</td>\n",
       "      <td>2018.0</td>\n",
       "      <td>7.0</td>\n",
       "      <td>24.12</td>\n",
       "    </tr>\n",
       "    <tr>\n",
       "      <td>24</td>\n",
       "      <td>2018.0</td>\n",
       "      <td>8.0</td>\n",
       "      <td>24.11</td>\n",
       "    </tr>\n",
       "  </tbody>\n",
       "</table>\n",
       "</div>"
      ],
      "text/plain": [
       "      year  month  take_rate\n",
       "0   2016.0  8.0    16.67    \n",
       "1   2016.0  9.0    16.67    \n",
       "2   2016.0  10.0   16.67    \n",
       "3   2016.0  11.0   16.67    \n",
       "4   2016.0  12.0   16.78    \n",
       "5   2017.0  1.0    18.50    \n",
       "6   2017.0  2.0    18.57    \n",
       "7   2017.0  3.0    18.70    \n",
       "8   2017.0  4.0    18.76    \n",
       "9   2017.0  5.0    18.84    \n",
       "10  2017.0  6.0    19.41    \n",
       "11  2017.0  7.0    20.18    \n",
       "12  2017.0  8.0    20.72    \n",
       "13  2017.0  9.0    21.53    \n",
       "14  2017.0  10.0   21.65    \n",
       "15  2017.0  11.0   21.77    \n",
       "16  2017.0  12.0   22.70    \n",
       "17  2018.0  1.0    23.18    \n",
       "18  2018.0  2.0    23.37    \n",
       "19  2018.0  3.0    23.43    \n",
       "20  2018.0  4.0    23.72    \n",
       "21  2018.0  5.0    23.87    \n",
       "22  2018.0  6.0    24.00    \n",
       "23  2018.0  7.0    24.12    \n",
       "24  2018.0  8.0    24.11    "
      ]
     },
     "execution_count": 277,
     "metadata": {},
     "output_type": "execute_result"
    }
   ],
   "source": [
    "query='''\n",
    "WITH CTE \n",
    "AS \n",
    "(SELECT \n",
    "    EXTRACT(YEAR FROM booked_at) as year,\n",
    "    EXTRACT(MONTH FROM booked_at) as month,\n",
    "    cc.service_id,\n",
    "    cc.requester_id,\n",
    "    cc.booking_total as booking_total,\n",
    "    pp.fee as owner_fee_perc, \n",
    "    (cc.booking_total * pp.fee) as owner_fee,\n",
    "    (cc.booking_total + cc.booking_total * pp.fee) as gross_billings,\n",
    "    ss.fee as service_fee_perc,\n",
    "    ss.fee * cc.booking_total as service_fee,\n",
    "    ((ss.fee * cc.booking_total) + (cc.booking_total*pp.fee)) as net_revenue,\n",
    "    booking_total - ss.fee * cc.booking_total as provider_payment\n",
    "FROM \n",
    "    conversations_conversation as cc\n",
    "JOIN\n",
    "    services_service ss ON cc.service_id = ss.id\n",
    "JOIN\n",
    "    people_person pp ON pp.id = cc.requester_id\n",
    "WHERE\n",
    "    cc.booked_at IS NOT NULL\n",
    "AND\n",
    "    cc.cancelled_at IS NULL)\n",
    "SELECT \n",
    " year,month, ROUND(SUM(net_revenue) *100 / SUM(gross_billings),2) as take_rate\n",
    "FROM cte\n",
    "GROUP BY\n",
    "    year, month\n",
    "ORDER BY year ASC;\n",
    ";'''\n",
    "df_take_rate = pd.read_sql_query(query,conn)\n",
    "df_take_rate"
   ]
  },
  {
   "cell_type": "markdown",
   "metadata": {},
   "source": [
    "### 3. Did take rate trend up or trend down or remain unchanged over time?\n",
    "Let's Plot it!"
   ]
  },
  {
   "cell_type": "code",
   "execution_count": 289,
   "metadata": {},
   "outputs": [
    {
     "data": {
      "text/plain": [
       "<matplotlib.axes._subplots.AxesSubplot at 0x1a2c571f50>"
      ]
     },
     "execution_count": 289,
     "metadata": {},
     "output_type": "execute_result"
    },
    {
     "data": {
      "image/png": "[encoded data removed]",
      "text/plain": [
       "<Figure size 432x288 with 1 Axes>"
      ]
     },
     "metadata": {
      "needs_background": "light"
     },
     "output_type": "display_data"
    }
   ],
   "source": [
    "df_take_rate.plot(y='take_rate')"
   ]
  },
  {
   "cell_type": "code",
   "execution_count": 304,
   "metadata": {},
   "outputs": [
    {
     "data": {
      "image/png": "[encoded data removed]",
      "text/plain": [
       "<Figure size 720x288 with 1 Axes>"
      ]
     },
     "metadata": {
      "needs_background": "light"
     },
     "output_type": "display_data"
    }
   ],
   "source": [
    "plt.figure(figsize=(10,4))\n",
    "plt.plot(df_take_rate['take_rate'])\n",
    "plt.ylabel('take_rate_percentage')\n",
    "plt.xlabel('# Months After 2016-08')\n",
    "plt.title('Take Rate From 2016-08 to 2018-08')\n",
    "plt.show();"
   ]
  },
  {
   "cell_type": "markdown",
   "metadata": {},
   "source": [
    "It most definetely increased!"
   ]
  },
  {
   "cell_type": "markdown",
   "metadata": {},
   "source": [
    "### 4. If it did change, investigate why and provide an explanation. Be sure to provide additional data/charts/evidence that justify your explaination. Any claims should be backed by data.\n",
    "\n",
    "Let's see if Gross Billings and Net Revenue is also increasing. Lets also truncate the data so that the last month of August 2018 is not accounted for since it is not complete.\n"
   ]
  },
  {
   "cell_type": "code",
   "execution_count": 319,
   "metadata": {},
   "outputs": [
    {
     "data": {
      "text/html": [
       "<div>\n",
       "<style scoped>\n",
       "    .dataframe tbody tr th:only-of-type {\n",
       "        vertical-align: middle;\n",
       "    }\n",
       "\n",
       "    .dataframe tbody tr th {\n",
       "        vertical-align: top;\n",
       "    }\n",
       "\n",
       "    .dataframe thead th {\n",
       "        text-align: right;\n",
       "    }\n",
       "</style>\n",
       "<table border=\"1\" class=\"dataframe\">\n",
       "  <thead>\n",
       "    <tr style=\"text-align: right;\">\n",
       "      <th></th>\n",
       "      <th>year</th>\n",
       "      <th>month</th>\n",
       "      <th>net_revenue</th>\n",
       "      <th>gross_billings</th>\n",
       "    </tr>\n",
       "  </thead>\n",
       "  <tbody>\n",
       "    <tr>\n",
       "      <td>0</td>\n",
       "      <td>2016.0</td>\n",
       "      <td>8.0</td>\n",
       "      <td>635.12</td>\n",
       "      <td>3810.72</td>\n",
       "    </tr>\n",
       "    <tr>\n",
       "      <td>1</td>\n",
       "      <td>2016.0</td>\n",
       "      <td>9.0</td>\n",
       "      <td>2746.35</td>\n",
       "      <td>16478.10</td>\n",
       "    </tr>\n",
       "    <tr>\n",
       "      <td>2</td>\n",
       "      <td>2016.0</td>\n",
       "      <td>10.0</td>\n",
       "      <td>4805.56</td>\n",
       "      <td>28833.36</td>\n",
       "    </tr>\n",
       "    <tr>\n",
       "      <td>3</td>\n",
       "      <td>2016.0</td>\n",
       "      <td>11.0</td>\n",
       "      <td>6402.37</td>\n",
       "      <td>38414.22</td>\n",
       "    </tr>\n",
       "    <tr>\n",
       "      <td>4</td>\n",
       "      <td>2016.0</td>\n",
       "      <td>12.0</td>\n",
       "      <td>8575.93</td>\n",
       "      <td>51103.98</td>\n",
       "    </tr>\n",
       "    <tr>\n",
       "      <td>5</td>\n",
       "      <td>2017.0</td>\n",
       "      <td>1.0</td>\n",
       "      <td>12943.49</td>\n",
       "      <td>69952.14</td>\n",
       "    </tr>\n",
       "    <tr>\n",
       "      <td>6</td>\n",
       "      <td>2017.0</td>\n",
       "      <td>2.0</td>\n",
       "      <td>15410.61</td>\n",
       "      <td>82967.76</td>\n",
       "    </tr>\n",
       "    <tr>\n",
       "      <td>7</td>\n",
       "      <td>2017.0</td>\n",
       "      <td>3.0</td>\n",
       "      <td>21550.51</td>\n",
       "      <td>115218.81</td>\n",
       "    </tr>\n",
       "    <tr>\n",
       "      <td>8</td>\n",
       "      <td>2017.0</td>\n",
       "      <td>4.0</td>\n",
       "      <td>22890.05</td>\n",
       "      <td>122019.60</td>\n",
       "    </tr>\n",
       "    <tr>\n",
       "      <td>9</td>\n",
       "      <td>2017.0</td>\n",
       "      <td>5.0</td>\n",
       "      <td>28323.93</td>\n",
       "      <td>150345.78</td>\n",
       "    </tr>\n",
       "    <tr>\n",
       "      <td>10</td>\n",
       "      <td>2017.0</td>\n",
       "      <td>6.0</td>\n",
       "      <td>32824.67</td>\n",
       "      <td>169077.42</td>\n",
       "    </tr>\n",
       "    <tr>\n",
       "      <td>11</td>\n",
       "      <td>2017.0</td>\n",
       "      <td>7.0</td>\n",
       "      <td>36960.00</td>\n",
       "      <td>183187.50</td>\n",
       "    </tr>\n",
       "    <tr>\n",
       "      <td>12</td>\n",
       "      <td>2017.0</td>\n",
       "      <td>8.0</td>\n",
       "      <td>43617.82</td>\n",
       "      <td>210495.57</td>\n",
       "    </tr>\n",
       "    <tr>\n",
       "      <td>13</td>\n",
       "      <td>2017.0</td>\n",
       "      <td>9.0</td>\n",
       "      <td>50341.67</td>\n",
       "      <td>233801.67</td>\n",
       "    </tr>\n",
       "    <tr>\n",
       "      <td>14</td>\n",
       "      <td>2017.0</td>\n",
       "      <td>10.0</td>\n",
       "      <td>59484.28</td>\n",
       "      <td>274740.48</td>\n",
       "    </tr>\n",
       "    <tr>\n",
       "      <td>15</td>\n",
       "      <td>2017.0</td>\n",
       "      <td>11.0</td>\n",
       "      <td>60950.91</td>\n",
       "      <td>280036.11</td>\n",
       "    </tr>\n",
       "    <tr>\n",
       "      <td>16</td>\n",
       "      <td>2017.0</td>\n",
       "      <td>12.0</td>\n",
       "      <td>74511.39</td>\n",
       "      <td>328178.04</td>\n",
       "    </tr>\n",
       "    <tr>\n",
       "      <td>17</td>\n",
       "      <td>2018.0</td>\n",
       "      <td>1.0</td>\n",
       "      <td>81618.35</td>\n",
       "      <td>352150.75</td>\n",
       "    </tr>\n",
       "    <tr>\n",
       "      <td>18</td>\n",
       "      <td>2018.0</td>\n",
       "      <td>2.0</td>\n",
       "      <td>77399.88</td>\n",
       "      <td>331139.58</td>\n",
       "    </tr>\n",
       "    <tr>\n",
       "      <td>19</td>\n",
       "      <td>2018.0</td>\n",
       "      <td>3.0</td>\n",
       "      <td>95958.39</td>\n",
       "      <td>409591.99</td>\n",
       "    </tr>\n",
       "    <tr>\n",
       "      <td>20</td>\n",
       "      <td>2018.0</td>\n",
       "      <td>4.0</td>\n",
       "      <td>103370.89</td>\n",
       "      <td>435705.69</td>\n",
       "    </tr>\n",
       "    <tr>\n",
       "      <td>21</td>\n",
       "      <td>2018.0</td>\n",
       "      <td>5.0</td>\n",
       "      <td>120369.64</td>\n",
       "      <td>504302.89</td>\n",
       "    </tr>\n",
       "    <tr>\n",
       "      <td>22</td>\n",
       "      <td>2018.0</td>\n",
       "      <td>6.0</td>\n",
       "      <td>130917.09</td>\n",
       "      <td>545595.09</td>\n",
       "    </tr>\n",
       "    <tr>\n",
       "      <td>23</td>\n",
       "      <td>2018.0</td>\n",
       "      <td>7.0</td>\n",
       "      <td>161878.40</td>\n",
       "      <td>671235.75</td>\n",
       "    </tr>\n",
       "  </tbody>\n",
       "</table>\n",
       "</div>"
      ],
      "text/plain": [
       "      year  month  net_revenue  gross_billings\n",
       "0   2016.0  8.0    635.12       3810.72       \n",
       "1   2016.0  9.0    2746.35      16478.10      \n",
       "2   2016.0  10.0   4805.56      28833.36      \n",
       "3   2016.0  11.0   6402.37      38414.22      \n",
       "4   2016.0  12.0   8575.93      51103.98      \n",
       "5   2017.0  1.0    12943.49     69952.14      \n",
       "6   2017.0  2.0    15410.61     82967.76      \n",
       "7   2017.0  3.0    21550.51     115218.81     \n",
       "8   2017.0  4.0    22890.05     122019.60     \n",
       "9   2017.0  5.0    28323.93     150345.78     \n",
       "10  2017.0  6.0    32824.67     169077.42     \n",
       "11  2017.0  7.0    36960.00     183187.50     \n",
       "12  2017.0  8.0    43617.82     210495.57     \n",
       "13  2017.0  9.0    50341.67     233801.67     \n",
       "14  2017.0  10.0   59484.28     274740.48     \n",
       "15  2017.0  11.0   60950.91     280036.11     \n",
       "16  2017.0  12.0   74511.39     328178.04     \n",
       "17  2018.0  1.0    81618.35     352150.75     \n",
       "18  2018.0  2.0    77399.88     331139.58     \n",
       "19  2018.0  3.0    95958.39     409591.99     \n",
       "20  2018.0  4.0    103370.89    435705.69     \n",
       "21  2018.0  5.0    120369.64    504302.89     \n",
       "22  2018.0  6.0    130917.09    545595.09     \n",
       "23  2018.0  7.0    161878.40    671235.75     "
      ]
     },
     "execution_count": 319,
     "metadata": {},
     "output_type": "execute_result"
    }
   ],
   "source": [
    "query='''\n",
    "WITH CTE \n",
    "AS \n",
    "(SELECT \n",
    "    EXTRACT(YEAR FROM booked_at) as year,\n",
    "    EXTRACT(MONTH FROM booked_at) as month,\n",
    "    cc.service_id,\n",
    "    cc.requester_id,\n",
    "    cc.booking_total as booking_total,\n",
    "    pp.fee as owner_fee_perc, \n",
    "    (cc.booking_total * pp.fee) as owner_fee,\n",
    "    (cc.booking_total + cc.booking_total * pp.fee) as gross_billings,\n",
    "    ss.fee as service_fee_perc,\n",
    "    ss.fee * cc.booking_total as service_fee,\n",
    "    ((ss.fee * cc.booking_total) + (cc.booking_total*pp.fee)) as net_revenue,\n",
    "    booking_total - ss.fee * cc.booking_total as provider_payment\n",
    "FROM \n",
    "    conversations_conversation as cc\n",
    "JOIN\n",
    "    services_service ss ON cc.service_id = ss.id\n",
    "JOIN\n",
    "    people_person pp ON pp.id = cc.requester_id\n",
    "WHERE\n",
    "    cc.booked_at IS NOT NULL\n",
    "AND\n",
    "    cc.cancelled_at IS NULL\n",
    "AND\n",
    "    cc.booked_at < date'2018-08-01' )\n",
    "SELECT \n",
    " year,month, SUM(net_revenue) as net_revenue, SUM(gross_billings) as gross_billings\n",
    "FROM cte\n",
    "GROUP BY\n",
    "    year, month\n",
    "ORDER BY year ASC\n",
    ";\n",
    "\n",
    ";'''\n",
    "df_revenue2 = pd.read_sql_query(query,conn)\n",
    "df_revenue2"
   ]
  },
  {
   "cell_type": "code",
   "execution_count": 312,
   "metadata": {},
   "outputs": [
    {
     "data": {
      "image/png": "[encoded data removed]",
      "text/plain": [
       "<Figure size 720x288 with 1 Axes>"
      ]
     },
     "metadata": {
      "needs_background": "light"
     },
     "output_type": "display_data"
    }
   ],
   "source": [
    "plt.figure(figsize=(10,4))\n",
    "plt.plot(df_revenue2['gross_billings'])\n",
    "plt.ylabel('Gross Billings')\n",
    "plt.xlabel('# Months After 2016-08')\n",
    "plt.title('Gross Billings From 2016-08 to 2018-08')\n",
    "plt.show();"
   ]
  },
  {
   "cell_type": "code",
   "execution_count": 320,
   "metadata": {},
   "outputs": [
    {
     "data": {
      "image/png": "[encoded data removed]",
      "text/plain": [
       "<Figure size 720x288 with 1 Axes>"
      ]
     },
     "metadata": {
      "needs_background": "light"
     },
     "output_type": "display_data"
    }
   ],
   "source": [
    "plt.figure(figsize=(10,4))\n",
    "plt.plot(df_revenue2['net_revenue'])\n",
    "plt.ylabel('Net Revenue')\n",
    "plt.xlabel('# Months After 2016-08')\n",
    "plt.title('Net Revenue From 2016-08 to 2018-08')\n",
    "plt.show();"
   ]
  },
  {
   "cell_type": "markdown",
   "metadata": {},
   "source": [
    "Yes, both are increasing."
   ]
  },
  {
   "cell_type": "markdown",
   "metadata": {},
   "source": [
    "Let's also explore the number of services and their growth, and also the number of users. "
   ]
  },
  {
   "cell_type": "code",
   "execution_count": 321,
   "metadata": {},
   "outputs": [
    {
     "data": {
      "image/png": "[encoded data removed]",
      "text/plain": [
       "<Figure size 720x288 with 1 Axes>"
      ]
     },
     "metadata": {
      "needs_background": "light"
     },
     "output_type": "display_data"
    }
   ],
   "source": [
    "query=''' \n",
    "WITH CTE \n",
    "AS \n",
    "(SELECT \n",
    "    EXTRACT(YEAR FROM date_joined) as year,\n",
    "    EXTRACT(MONTH FROM date_joined) as month,\n",
    " \tid as id\n",
    " FROM\n",
    " \tpeople_person\n",
    "WHERE\n",
    "\tdate_joined < date('2018-08-01'))\n",
    "SELECT \n",
    " COUNT(id) as total_users_joined\n",
    "FROM cte\n",
    "GROUP BY\n",
    "    year, month\n",
    "ORDER BY year ASC;\n",
    "'''\n",
    "df_user_growth = pd.read_sql_query(query,conn)\n",
    "plt.figure(figsize=(10,4))\n",
    "plt.plot(df_user_growth['total_users_joined'])\n",
    "plt.ylabel('Number of Users Joined')\n",
    "plt.xlabel('# Months After 2016-08')\n",
    "plt.title('Monthly Added Users From 2016-08 to 2018-08')\n",
    "plt.show();"
   ]
  },
  {
   "cell_type": "code",
   "execution_count": 329,
   "metadata": {},
   "outputs": [
    {
     "data": {
      "image/png": "[encoded data removed]",
      "text/plain": [
       "<Figure size 720x288 with 1 Axes>"
      ]
     },
     "metadata": {
      "needs_background": "light"
     },
     "output_type": "display_data"
    }
   ],
   "source": [
    "query = '''\n",
    "WITH CTE AS\n",
    "(SELECT \n",
    "    EXTRACT(YEAR FROM added) as year,\n",
    "    EXTRACT(MONTH FROM added) as month,\n",
    "    service_type\n",
    "FROM\n",
    "    services_service\n",
    "WHERE added < date '2018-08-01')\n",
    "SELECT year, month, service_type, COUNT(service_type) as count\n",
    "FROM cte\n",
    "WHERE service_type = 'dog-walking'\n",
    "GROUP BY \n",
    "    year, month, service_type\n",
    "ORDER BY\n",
    "    year ASC, month;'''\n",
    "df_dog_walking = pd.read_sql_query(query,conn)\n",
    "plt.figure(figsize=(10,4))\n",
    "plt.plot(df_dog_walking['count'])\n",
    "plt.ylabel('# Added')\n",
    "plt.ylim(0,650)\n",
    "plt.xlabel('# Months After 2016-08')\n",
    "plt.title('Monthly Added Dog-Walking Services From 2016-08 to 2018-08')\n",
    "plt.show();"
   ]
  },
  {
   "cell_type": "code",
   "execution_count": 330,
   "metadata": {
    "scrolled": false
   },
   "outputs": [
    {
     "data": {
      "image/png": "[encoded data removed]",
      "text/plain": [
       "<Figure size 720x288 with 1 Axes>"
      ]
     },
     "metadata": {
      "needs_background": "light"
     },
     "output_type": "display_data"
    }
   ],
   "source": [
    "query = '''\n",
    "WITH CTE AS\n",
    "(SELECT \n",
    "    EXTRACT(YEAR FROM added) as year,\n",
    "    EXTRACT(MONTH FROM added) as month,\n",
    "    service_type\n",
    "FROM\n",
    "    services_service\n",
    "WHERE added < date '2018-08-01')\n",
    "SELECT year, month, service_type, COUNT(service_type) as count\n",
    "FROM cte\n",
    "WHERE service_type = 'day-care'\n",
    "GROUP BY \n",
    "    year, month, service_type\n",
    "ORDER BY\n",
    "    year ASC, month;'''\n",
    "df_day_care = pd.read_sql_query(query,conn)\n",
    "plt.figure(figsize=(10,4))\n",
    "plt.plot(df_day_care['count'])\n",
    "plt.ylim(0,650)\n",
    "plt.ylabel('# Added')\n",
    "plt.xlabel('# Months After 2016-08')\n",
    "plt.title('Monthly Added Day-Care Services From 2016-08 to 2018-08')\n",
    "plt.show();"
   ]
  },
  {
   "cell_type": "code",
   "execution_count": 374,
   "metadata": {},
   "outputs": [
    {
     "data": {
      "image/png": "[encoded data removed]",
      "text/plain": [
       "<Figure size 720x288 with 1 Axes>"
      ]
     },
     "metadata": {
      "needs_background": "light"
     },
     "output_type": "display_data"
    }
   ],
   "source": [
    "query = '''\n",
    "WITH CTE AS\n",
    "(SELECT \n",
    "    EXTRACT(YEAR FROM added) as year,\n",
    "    EXTRACT(MONTH FROM added) as month,\n",
    "    service_type\n",
    "FROM\n",
    "    services_service\n",
    "WHERE added < date '2018-08-01')\n",
    "SELECT year, month, service_type, COUNT(service_type) as count\n",
    "FROM cte\n",
    "WHERE service_type = 'boarding'\n",
    "GROUP BY \n",
    "    year, month, service_type\n",
    "ORDER BY\n",
    "    year ASC, month;'''\n",
    "df_boarding = pd.read_sql_query(query,conn)\n",
    "plt.figure(figsize=(10,4))\n",
    "plt.plot(df_boarding['count'])\n",
    "plt.ylim(0,650)\n",
    "plt.ylabel('# Added')\n",
    "plt.xlabel('# Months After 2016-08')\n",
    "plt.title('Monthly Added Boarding Services From 2016-08 to 2018-08')\n",
    "plt.show();"
   ]
  },
  {
   "cell_type": "markdown",
   "metadata": {},
   "source": [
    "### The key take away is that the data above shows that the company itself is growing. The growth in number of users added and the number of services leads to the potential of more bookings to be completed, thus attributing to increases in Net Revenue and Gross Billings."
   ]
  },
  {
   "cell_type": "markdown",
   "metadata": {},
   "source": [
    " ## VI. Search Engine Marketing (VI)."
   ]
  },
  {
   "cell_type": "markdown",
   "metadata": {},
   "source": [
    "#### Search engine advertising is a huge driver of new user accounts. Users that are aquired through search engine marketing can be identified by looking at people_person.channel . These users will have 'Google' listed there. <br><br> Historically, this company spent an average of \\\\$30 per account to advertise in the 2nd position on Google. <br><br> However, on 2018-05-04 , they decided to start bidding for the 1st position. Since 2018-05-04 , they have spent \\\\$207180 in total."
   ]
  },
  {
   "cell_type": "markdown",
   "metadata": {},
   "source": [
    "### 1. For each day,determine the count of users that joined and were acquired through Google. Plot this and confirm there is an inflection point on or near 2018-05-04 ."
   ]
  },
  {
   "cell_type": "code",
   "execution_count": 334,
   "metadata": {},
   "outputs": [
    {
     "data": {
      "image/png": "[encoded data removed]",
      "text/plain": [
       "<Figure size 720x288 with 1 Axes>"
      ]
     },
     "metadata": {
      "needs_background": "light"
     },
     "output_type": "display_data"
    }
   ],
   "source": [
    "query='''\n",
    "SELECT\n",
    "    DATE(date_joined) as date, count(id) as count, channel\n",
    "FROM\n",
    "    people_person\n",
    "WHERE \n",
    "    channel='Google'\n",
    "GROUP BY\n",
    "    channel, date\n",
    "ORDER BY\n",
    "    date\n",
    "'''\n",
    "df_google = pd.read_sql_query(query,conn)\n",
    "plt.figure(figsize=(10,4))\n",
    "plt.plot(df_google['count'])\n",
    "plt.ylabel('# Added')\n",
    "plt.xlabel('# Days After 2016-08')\n",
    "plt.title('Daily Added Users Via Google From 2016-08 to 2018-08')\n",
    "plt.show();"
   ]
  },
  {
   "cell_type": "markdown",
   "metadata": {},
   "source": [
    "It appears there is an inflection point."
   ]
  },
  {
   "cell_type": "markdown",
   "metadata": {},
   "source": [
    "### 2. How many users were acquired via Google advertising since 2018-05-04 and what was the average cost per account?"
   ]
  },
  {
   "cell_type": "markdown",
   "metadata": {},
   "source": [
    "First, we need to find the number of users added via google and multiply that by 30 to get the cost and number of users added before 2018-05-04."
   ]
  },
  {
   "cell_type": "code",
   "execution_count": 347,
   "metadata": {},
   "outputs": [
    {
     "data": {
      "text/html": [
       "<div>\n",
       "<style scoped>\n",
       "    .dataframe tbody tr th:only-of-type {\n",
       "        vertical-align: middle;\n",
       "    }\n",
       "\n",
       "    .dataframe tbody tr th {\n",
       "        vertical-align: top;\n",
       "    }\n",
       "\n",
       "    .dataframe thead th {\n",
       "        text-align: right;\n",
       "    }\n",
       "</style>\n",
       "<table border=\"1\" class=\"dataframe\">\n",
       "  <thead>\n",
       "    <tr style=\"text-align: right;\">\n",
       "      <th></th>\n",
       "      <th>count</th>\n",
       "    </tr>\n",
       "  </thead>\n",
       "  <tbody>\n",
       "    <tr>\n",
       "      <td>0</td>\n",
       "      <td>14262</td>\n",
       "    </tr>\n",
       "  </tbody>\n",
       "</table>\n",
       "</div>"
      ],
      "text/plain": [
       "   count\n",
       "0  14262"
      ]
     },
     "execution_count": 347,
     "metadata": {},
     "output_type": "execute_result"
    }
   ],
   "source": [
    "query = '''\n",
    "SELECT\n",
    "    COUNT(*)\n",
    "FROM\n",
    "    people_person\n",
    "WHERE \n",
    "    channel='Google'\n",
    ";'''\n",
    "df_sum_google = pd.read_sql_query(query,conn)\n",
    "df_sum_google"
   ]
  },
  {
   "cell_type": "code",
   "execution_count": 348,
   "metadata": {},
   "outputs": [],
   "source": [
    "sum_google_users = df_sum_google.loc[0][0]"
   ]
  },
  {
   "cell_type": "code",
   "execution_count": 352,
   "metadata": {},
   "outputs": [
    {
     "data": {
      "text/html": [
       "<div>\n",
       "<style scoped>\n",
       "    .dataframe tbody tr th:only-of-type {\n",
       "        vertical-align: middle;\n",
       "    }\n",
       "\n",
       "    .dataframe tbody tr th {\n",
       "        vertical-align: top;\n",
       "    }\n",
       "\n",
       "    .dataframe thead th {\n",
       "        text-align: right;\n",
       "    }\n",
       "</style>\n",
       "<table border=\"1\" class=\"dataframe\">\n",
       "  <thead>\n",
       "    <tr style=\"text-align: right;\">\n",
       "      <th></th>\n",
       "      <th>count</th>\n",
       "    </tr>\n",
       "  </thead>\n",
       "  <tbody>\n",
       "    <tr>\n",
       "      <td>0</td>\n",
       "      <td>9658</td>\n",
       "    </tr>\n",
       "  </tbody>\n",
       "</table>\n",
       "</div>"
      ],
      "text/plain": [
       "   count\n",
       "0  9658 "
      ]
     },
     "execution_count": 352,
     "metadata": {},
     "output_type": "execute_result"
    }
   ],
   "source": [
    "query = '''\n",
    "SELECT\n",
    "    COUNT(*)\n",
    "FROM\n",
    "    people_person\n",
    "WHERE \n",
    "    channel='Google'\n",
    "AND\n",
    "    date_joined < DATE '2018-05-04'\n",
    ";'''\n",
    "df_users_before_may = pd.read_sql_query(query,conn)\n",
    "df_users_before_may"
   ]
  },
  {
   "cell_type": "code",
   "execution_count": 353,
   "metadata": {},
   "outputs": [],
   "source": [
    "sum_users_before_may = df_users_before_may.loc[0][0]"
   ]
  },
  {
   "cell_type": "code",
   "execution_count": 354,
   "metadata": {},
   "outputs": [
    {
     "data": {
      "text/plain": [
       "4604"
      ]
     },
     "execution_count": 354,
     "metadata": {},
     "output_type": "execute_result"
    }
   ],
   "source": [
    "sum_since_may = sum_google_users - sum_users_before_may\n",
    "\n",
    "sum_since_may"
   ]
  },
  {
   "cell_type": "code",
   "execution_count": 376,
   "metadata": {},
   "outputs": [
    {
     "name": "stdout",
     "output_type": "stream",
     "text": [
      "The number of users aquired via Google since 2018-05-04 is 4604,\n",
      "with an average $45.0 spent per user.\n",
      "This is an increase of 50.0% in spending before the inflection.\n"
     ]
    }
   ],
   "source": [
    "print(f'The number of users aquired via Google since 2018-05-04 is {sum_since_may},\\n'\n",
    "      f'with an average ${207180/sum_since_may} spent per user.\\n'\n",
    "      f'This is an increase of {((45-30)/30)*100}% in spending before the inflection.')"
   ]
  },
  {
   "cell_type": "markdown",
   "metadata": {},
   "source": [
    "### 3. Estimate how many users would have been aquired had the company not changed it's bidding strategy. What would have been the marketing spend in that case?"
   ]
  },
  {
   "cell_type": "markdown",
   "metadata": {},
   "source": [
    "Let's find out the growth before 2018-05-04, find the regression of the growth, then estimate how many more users would have been added."
   ]
  },
  {
   "cell_type": "code",
   "execution_count": 375,
   "metadata": {},
   "outputs": [
    {
     "data": {
      "text/plain": [
       "<method 'date' of 'datetime.datetime' objects>"
      ]
     },
     "execution_count": 375,
     "metadata": {},
     "output_type": "execute_result"
    }
   ],
   "source": [
    "query = '''\n",
    "SELECT\n",
    "    id\n",
    "FROM\n",
    "    people_person\n",
    "WHERE \n",
    "    channel='Google'\n",
    "AND\n",
    "    date_joined < DATE '2018-05-04'\n",
    "ORDER BY \n",
    ";'''\n",
    "df_users_before_may = pd.read_sql_query(query,conn)\n",
    "df_users_before_may"
   ]
  },
  {
   "cell_type": "code",
   "execution_count": 387,
   "metadata": {},
   "outputs": [],
   "source": [
    "d0 = dt(2018,8,2)\n",
    "d1 = dt(2018,5,4)"
   ]
  },
  {
   "cell_type": "code",
   "execution_count": 388,
   "metadata": {},
   "outputs": [],
   "source": [
    "delta = d0-d1"
   ]
  },
  {
   "cell_type": "code",
   "execution_count": 389,
   "metadata": {},
   "outputs": [
    {
     "data": {
      "text/plain": [
       "90"
      ]
     },
     "execution_count": 389,
     "metadata": {},
     "output_type": "execute_result"
    }
   ],
   "source": [
    "delta.days"
   ]
  },
  {
   "cell_type": "code",
   "execution_count": 392,
   "metadata": {},
   "outputs": [
    {
     "name": "stdout",
     "output_type": "stream",
     "text": [
      "The number of days after 2018-05-04 is 90 days\n"
     ]
    }
   ],
   "source": [
    "print(f'The number of days after 2018-05-04 is {delta.days} days')"
   ]
  },
  {
   "cell_type": "markdown",
   "metadata": {},
   "source": [
    "Let's consider daily growth so can group the number of users added via Google daily. "
   ]
  },
  {
   "cell_type": "code",
   "execution_count": 398,
   "metadata": {
    "scrolled": true
   },
   "outputs": [
    {
     "data": {
      "text/html": [
       "<div>\n",
       "<style scoped>\n",
       "    .dataframe tbody tr th:only-of-type {\n",
       "        vertical-align: middle;\n",
       "    }\n",
       "\n",
       "    .dataframe tbody tr th {\n",
       "        vertical-align: top;\n",
       "    }\n",
       "\n",
       "    .dataframe thead th {\n",
       "        text-align: right;\n",
       "    }\n",
       "</style>\n",
       "<table border=\"1\" class=\"dataframe\">\n",
       "  <thead>\n",
       "    <tr style=\"text-align: right;\">\n",
       "      <th></th>\n",
       "      <th>date</th>\n",
       "      <th>count</th>\n",
       "      <th>channel</th>\n",
       "    </tr>\n",
       "  </thead>\n",
       "  <tbody>\n",
       "    <tr>\n",
       "      <td>0</td>\n",
       "      <td>2016-08-08</td>\n",
       "      <td>1</td>\n",
       "      <td>Google</td>\n",
       "    </tr>\n",
       "    <tr>\n",
       "      <td>1</td>\n",
       "      <td>2016-08-09</td>\n",
       "      <td>1</td>\n",
       "      <td>Google</td>\n",
       "    </tr>\n",
       "    <tr>\n",
       "      <td>2</td>\n",
       "      <td>2016-08-10</td>\n",
       "      <td>1</td>\n",
       "      <td>Google</td>\n",
       "    </tr>\n",
       "    <tr>\n",
       "      <td>3</td>\n",
       "      <td>2016-08-11</td>\n",
       "      <td>1</td>\n",
       "      <td>Google</td>\n",
       "    </tr>\n",
       "    <tr>\n",
       "      <td>4</td>\n",
       "      <td>2016-08-12</td>\n",
       "      <td>1</td>\n",
       "      <td>Google</td>\n",
       "    </tr>\n",
       "    <tr>\n",
       "      <td>...</td>\n",
       "      <td>...</td>\n",
       "      <td>...</td>\n",
       "      <td>...</td>\n",
       "    </tr>\n",
       "    <tr>\n",
       "      <td>610</td>\n",
       "      <td>2018-04-29</td>\n",
       "      <td>40</td>\n",
       "      <td>Google</td>\n",
       "    </tr>\n",
       "    <tr>\n",
       "      <td>611</td>\n",
       "      <td>2018-04-30</td>\n",
       "      <td>28</td>\n",
       "      <td>Google</td>\n",
       "    </tr>\n",
       "    <tr>\n",
       "      <td>612</td>\n",
       "      <td>2018-05-01</td>\n",
       "      <td>36</td>\n",
       "      <td>Google</td>\n",
       "    </tr>\n",
       "    <tr>\n",
       "      <td>613</td>\n",
       "      <td>2018-05-02</td>\n",
       "      <td>40</td>\n",
       "      <td>Google</td>\n",
       "    </tr>\n",
       "    <tr>\n",
       "      <td>614</td>\n",
       "      <td>2018-05-03</td>\n",
       "      <td>39</td>\n",
       "      <td>Google</td>\n",
       "    </tr>\n",
       "  </tbody>\n",
       "</table>\n",
       "<p>615 rows × 3 columns</p>\n",
       "</div>"
      ],
      "text/plain": [
       "           date  count channel\n",
       "0    2016-08-08  1      Google\n",
       "1    2016-08-09  1      Google\n",
       "2    2016-08-10  1      Google\n",
       "3    2016-08-11  1      Google\n",
       "4    2016-08-12  1      Google\n",
       "..          ... ..         ...\n",
       "610  2018-04-29  40     Google\n",
       "611  2018-04-30  28     Google\n",
       "612  2018-05-01  36     Google\n",
       "613  2018-05-02  40     Google\n",
       "614  2018-05-03  39     Google\n",
       "\n",
       "[615 rows x 3 columns]"
      ]
     },
     "execution_count": 398,
     "metadata": {},
     "output_type": "execute_result"
    }
   ],
   "source": [
    "query='''\n",
    "SELECT\n",
    "    DATE(date_joined) as date, count(id) as count, channel\n",
    "FROM\n",
    "    people_person\n",
    "WHERE \n",
    "    channel='Google'\n",
    "AND\n",
    "    date_joined < DATE '2018-05-04'\n",
    "GROUP BY\n",
    "    date, channel\n",
    "ORDER BY\n",
    "    date\n",
    ";'''\n",
    "df_growth_google = pd.read_sql_query(query,conn)\n",
    "df_growth_google"
   ]
  },
  {
   "cell_type": "code",
   "execution_count": 395,
   "metadata": {
    "scrolled": true
   },
   "outputs": [
    {
     "data": {
      "text/plain": [
       "<matplotlib.axes._subplots.AxesSubplot at 0x1a307e5690>"
      ]
     },
     "execution_count": 395,
     "metadata": {},
     "output_type": "execute_result"
    },
    {
     "data": {
      "image/png": "[encoded data removed]",
      "text/plain": [
       "<Figure size 432x288 with 1 Axes>"
      ]
     },
     "metadata": {
      "needs_background": "light"
     },
     "output_type": "display_data"
    }
   ],
   "source": [
    "df_growth_google.plot()"
   ]
  },
  {
   "cell_type": "markdown",
   "metadata": {},
   "source": [
    "It appears to be growing linearly, so let's apply a linear regression."
   ]
  },
  {
   "cell_type": "code",
   "execution_count": 402,
   "metadata": {},
   "outputs": [],
   "source": [
    "import statsmodels.api as sm"
   ]
  },
  {
   "cell_type": "code",
   "execution_count": null,
   "metadata": {},
   "outputs": [],
   "source": [
    "y = df_growth_google['count']\n",
    "x = "
   ]
  },
  {
   "cell_type": "code",
   "execution_count": 399,
   "metadata": {},
   "outputs": [
    {
     "data": {
      "text/plain": [
       "RangeIndex(start=0, stop=615, step=1)"
      ]
     },
     "execution_count": 399,
     "metadata": {},
     "output_type": "execute_result"
    }
   ],
   "source": [
    "df_growth_google.index"
   ]
  },
  {
   "cell_type": "code",
   "execution_count": 406,
   "metadata": {},
   "outputs": [
    {
     "data": {
      "text/html": [
       "<table class=\"simpletable\">\n",
       "<caption>OLS Regression Results</caption>\n",
       "<tr>\n",
       "  <th>Dep. Variable:</th>          <td>count</td>      <th>  R-squared (uncentered):</th>      <td>   0.953</td> \n",
       "</tr>\n",
       "<tr>\n",
       "  <th>Model:</th>                   <td>OLS</td>       <th>  Adj. R-squared (uncentered):</th> <td>   0.952</td> \n",
       "</tr>\n",
       "<tr>\n",
       "  <th>Method:</th>             <td>Least Squares</td>  <th>  F-statistic:       </th>          <td>1.232e+04</td>\n",
       "</tr>\n",
       "<tr>\n",
       "  <th>Date:</th>             <td>Wed, 11 Dec 2019</td> <th>  Prob (F-statistic):</th>           <td>  0.00</td>  \n",
       "</tr>\n",
       "<tr>\n",
       "  <th>Time:</th>                 <td>20:55:00</td>     <th>  Log-Likelihood:    </th>          <td> -1723.7</td> \n",
       "</tr>\n",
       "<tr>\n",
       "  <th>No. Observations:</th>      <td>   615</td>      <th>  AIC:               </th>          <td>   3449.</td> \n",
       "</tr>\n",
       "<tr>\n",
       "  <th>Df Residuals:</th>          <td>   614</td>      <th>  BIC:               </th>          <td>   3454.</td> \n",
       "</tr>\n",
       "<tr>\n",
       "  <th>Df Model:</th>              <td>     1</td>      <th>                     </th>              <td> </td>    \n",
       "</tr>\n",
       "<tr>\n",
       "  <th>Covariance Type:</th>      <td>nonrobust</td>    <th>                     </th>              <td> </td>    \n",
       "</tr>\n",
       "</table>\n",
       "<table class=\"simpletable\">\n",
       "<tr>\n",
       "   <td></td>     <th>coef</th>     <th>std err</th>      <th>t</th>      <th>P>|t|</th>  <th>[0.025</th>    <th>0.975]</th>  \n",
       "</tr>\n",
       "<tr>\n",
       "  <th>x1</th> <td>    0.0504</td> <td>    0.000</td> <td>  110.982</td> <td> 0.000</td> <td>    0.050</td> <td>    0.051</td>\n",
       "</tr>\n",
       "</table>\n",
       "<table class=\"simpletable\">\n",
       "<tr>\n",
       "  <th>Omnibus:</th>       <td> 8.798</td> <th>  Durbin-Watson:     </th> <td>   1.909</td>\n",
       "</tr>\n",
       "<tr>\n",
       "  <th>Prob(Omnibus):</th> <td> 0.012</td> <th>  Jarque-Bera (JB):  </th> <td>  13.329</td>\n",
       "</tr>\n",
       "<tr>\n",
       "  <th>Skew:</th>          <td> 0.060</td> <th>  Prob(JB):          </th> <td> 0.00128</td>\n",
       "</tr>\n",
       "<tr>\n",
       "  <th>Kurtosis:</th>      <td> 3.711</td> <th>  Cond. No.          </th> <td>    1.00</td>\n",
       "</tr>\n",
       "</table><br/><br/>Warnings:<br/>[1] Standard Errors assume that the covariance matrix of the errors is correctly specified."
      ],
      "text/plain": [
       "<class 'statsmodels.iolib.summary.Summary'>\n",
       "\"\"\"\n",
       "                                 OLS Regression Results                                \n",
       "=======================================================================================\n",
       "Dep. Variable:                  count   R-squared (uncentered):                   0.953\n",
       "Model:                            OLS   Adj. R-squared (uncentered):              0.952\n",
       "Method:                 Least Squares   F-statistic:                          1.232e+04\n",
       "Date:                Wed, 11 Dec 2019   Prob (F-statistic):                        0.00\n",
       "Time:                        20:55:00   Log-Likelihood:                         -1723.7\n",
       "No. Observations:                 615   AIC:                                      3449.\n",
       "Df Residuals:                     614   BIC:                                      3454.\n",
       "Df Model:                           1                                                  \n",
       "Covariance Type:            nonrobust                                                  \n",
       "==============================================================================\n",
       "                 coef    std err          t      P>|t|      [0.025      0.975]\n",
       "------------------------------------------------------------------------------\n",
       "x1             0.0504      0.000    110.982      0.000       0.050       0.051\n",
       "==============================================================================\n",
       "Omnibus:                        8.798   Durbin-Watson:                   1.909\n",
       "Prob(Omnibus):                  0.012   Jarque-Bera (JB):               13.329\n",
       "Skew:                           0.060   Prob(JB):                      0.00128\n",
       "Kurtosis:                       3.711   Cond. No.                         1.00\n",
       "==============================================================================\n",
       "\n",
       "Warnings:\n",
       "[1] Standard Errors assume that the covariance matrix of the errors is correctly specified.\n",
       "\"\"\""
      ]
     },
     "execution_count": 406,
     "metadata": {},
     "output_type": "execute_result"
    }
   ],
   "source": [
    "\n",
    "x = df_growth_google.index\n",
    "y = df_growth_google[\"count\"]\n",
    "\n",
    "# Note the difference in argument order\n",
    "model = sm.OLS(y, x).fit()\n",
    "\n",
    "predictions = model.predict(x) # make the predictions by the model\n",
    "\n",
    "# Print out the statistics\n",
    "model.summary()"
   ]
  },
  {
   "cell_type": "code",
   "execution_count": 407,
   "metadata": {},
   "outputs": [
    {
     "data": {
      "text/plain": [
       "array([35.52974322])"
      ]
     },
     "execution_count": 407,
     "metadata": {},
     "output_type": "execute_result"
    }
   ],
   "source": [
    "model.predict(705)"
   ]
  },
  {
   "cell_type": "code",
   "execution_count": null,
   "metadata": {},
   "outputs": [],
   "source": []
  }
 ],
 "metadata": {
  "kernelspec": {
   "display_name": "Python 3",
   "language": "python",
   "name": "python3"
  },
  "language_info": {
   "codemirror_mode": {
    "name": "ipython",
    "version": 3
   },
   "file_extension": ".py",
   "mimetype": "text/x-python",
   "name": "python",
   "nbconvert_exporter": "python",
   "pygments_lexer": "ipython3",
   "version": "3.7.4"
  }
 },
 "nbformat": 4,
 "nbformat_minor": 2
}
